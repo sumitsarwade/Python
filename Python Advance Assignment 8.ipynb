{
 "cells": [
  {
   "cell_type": "markdown",
   "id": "9950ad1f",
   "metadata": {},
   "source": [
    "## Python Advance Assignment 8"
   ]
  },
  {
   "cell_type": "markdown",
   "id": "693f03c8",
   "metadata": {},
   "source": [
    "#### Q1. What are the two latest user-defined exception constraints in Python 3.X?"
   ]
  },
  {
   "cell_type": "markdown",
   "id": "e110fb34",
   "metadata": {},
   "source": [
    "User-defined Exception Classes: Python allows you to define your own custom exception classes by creating subclasses of the built-in Exception class or any of its subclasses. By defining custom exception classes, you can create specific exceptions that are tailored to your application's needs. You can add additional attributes, methods, and customize the behavior of the exception class based on your requirements."
   ]
  },
  {
   "cell_type": "code",
   "execution_count": 1,
   "id": "b84ae5b1",
   "metadata": {},
   "outputs": [],
   "source": [
    "class MyException(Exception):\n",
    "    pass"
   ]
  },
  {
   "cell_type": "markdown",
   "id": "4b9459ed",
   "metadata": {},
   "source": [
    "Exception Hierarchy: User-defined exception classes can be organized in a hierarchy to provide more granular and specialized exception handling. By creating subclasses of existing exception classes, you can establish an exception hierarchy that reflects the relationships and inheritance between different types of exceptions.\n",
    "\n",
    "\n",
    "For instance, you can define a custom exception class NetworkError that inherits from the built-in Exception class to represent network-related errors. You can then define more specific exceptions like ConnectionError and TimeoutError that inherit from NetworkError. This hierarchy allows you to catch and handle different types of network-related exceptions at different levels of granularity."
   ]
  },
  {
   "cell_type": "markdown",
   "id": "209d80b2",
   "metadata": {},
   "source": [
    "#### Q2. How are class-based exceptions that have been raised matched to handlers?"
   ]
  },
  {
   "cell_type": "markdown",
   "id": "eca377fb",
   "metadata": {},
   "source": [
    "In Python, when a class-based exception is raised, the process of matching the raised exception to the appropriate exception handler involves traversing the exception hierarchy and considering the order in which the exception handlers are defined. The matching process follows these general steps:"
   ]
  },
  {
   "cell_type": "markdown",
   "id": "15b39716",
   "metadata": {},
   "source": [
    "The exception is raised by using the raise statement or an exception-raising operation within the code.\n",
    "\n",
    "\n",
    "Python starts searching for an exception handler that can handle the raised exception. It starts from the innermost scope and proceeds to outer scopes until it finds a matching exception handler or reaches the top-level of the program.\n",
    "\n",
    "\n",
    "Python compares the raised exception type with the exception types specified in the except clauses. It matches the exception type based on inheritance. If the raised exception is an instance of the specified exception type or one of its subclasses, the handler associated with that except clause is executed. If no matching exception type is found, the exception continues propagating up the call stack.\n",
    "\n",
    "\n",
    "If multiple except clauses match the raised exception, only the first matching exception handler is executed. Python does not continue searching for additional matching handlers."
   ]
  },
  {
   "cell_type": "markdown",
   "id": "3149c45d",
   "metadata": {},
   "source": [
    "#### Q3. Describe two methods for attaching context information to exception artefacts."
   ]
  },
  {
   "cell_type": "markdown",
   "id": "c76995ea",
   "metadata": {},
   "source": [
    "Exception Arguments: When raising an exception, you can pass additional arguments that provide context information about the exception. These arguments can be used to carry specific details related to the exceptional condition. For example, if you're raising a custom exception to represent a file-related error, you can pass the filename or other relevant information as arguments to the exception constructor."
   ]
  },
  {
   "cell_type": "raw",
   "id": "76b20f36",
   "metadata": {},
   "source": [
    "class FileError(Exception):\n",
    "    pass\n",
    "\n",
    "filename = \"example.txt\"\n",
    "raise FileError(\"File not found: \" + filename)"
   ]
  },
  {
   "cell_type": "raw",
   "id": "a436c882",
   "metadata": {},
   "source": [
    "In this example, the filename is included as part of the error message, providing context information about the specific file that caused the exception."
   ]
  },
  {
   "cell_type": "markdown",
   "id": "2f1200b5",
   "metadata": {},
   "source": [
    "Exception Attributes: Another method for attaching context information is by adding attributes to the exception object. You can define custom attributes within your exception class or assign values to built-in attributes like args or message. By accessing these attributes later, you can retrieve the context information associated with the exception."
   ]
  },
  {
   "cell_type": "raw",
   "id": "35b7bed4",
   "metadata": {},
   "source": [
    "class CustomException(Exception):\n",
    "    pass\n",
    "\n",
    "try:\n",
    "    # Code that raises the exception\n",
    "except CustomException as e:\n",
    "    e.context_info = \"Additional context information\"\n",
    "    raise"
   ]
  },
  {
   "cell_type": "markdown",
   "id": "7e3ba9cf",
   "metadata": {},
   "source": [
    "In this example, an attribute named context_info is added to the CustomException object, allowing you to store and retrieve additional context information when handling the exception."
   ]
  },
  {
   "cell_type": "markdown",
   "id": "9658c2db",
   "metadata": {},
   "source": [
    "#### Q4. Describe two methods for specifying the text of an exception objects error message."
   ]
  },
  {
   "cell_type": "markdown",
   "id": "ec20b74c",
   "metadata": {},
   "source": [
    "When creating or raising an exception object in Python, there are different methods for specifying the text of the error message associated with the exception. Here are two common methods:\n",
    "\n",
    "\n",
    "Exception Constructor Arguments: Many built-in exception classes and custom exception classes allow you to pass arguments to the exception constructor, which can be used to customize the error message. By passing a string argument, you can provide a specific error message that describes the exceptional condition."
   ]
  },
  {
   "cell_type": "raw",
   "id": "e9721e2b",
   "metadata": {},
   "source": [
    "class CustomException(Exception):\n",
    "    pass\n",
    "\n",
    "raise CustomException(\"This is a custom error message.\")"
   ]
  },
  {
   "cell_type": "markdown",
   "id": "97f0a805",
   "metadata": {},
   "source": [
    "Formatting Strings: Python allows you to use string formatting to dynamically construct error messages by combining static text with dynamic values. You can use formatting placeholders, such as %s or {}, and pass values to those placeholders using the % operator or the format() method."
   ]
  },
  {
   "cell_type": "raw",
   "id": "a267f512",
   "metadata": {},
   "source": [
    "num1 = 5\n",
    "num2 = 0\n",
    "if num2 == 0:\n",
    "    raise ZeroDivisionError(\"Cannot divide {} by {}\".format(num1, num2))"
   ]
  },
  {
   "cell_type": "markdown",
   "id": "f0b53517",
   "metadata": {},
   "source": [
    "#### Q5. Why do you no longer use string-based exceptions"
   ]
  },
  {
   "cell_type": "markdown",
   "id": "39d562bf",
   "metadata": {},
   "source": [
    "In earlier versions of Python, it was possible to raise string-based exceptions by directly raising a string object. However, string-based exceptions are no longer recommended or used in modern Python code. The primary reasons for not using string-based exceptions are:"
   ]
  },
  {
   "cell_type": "markdown",
   "id": "2f3ae7f4",
   "metadata": {},
   "source": [
    "Lack of Specificity: String-based exceptions provide limited information about the type and nature of the exceptional condition. They do not provide a structured way to classify and handle different types of exceptions. This makes it difficult to distinguish between different exceptional situations and handle them appropriately.\n",
    "\n",
    "\n",
    "Limited Functionality: String-based exceptions lack the additional features and functionality provided by class-based exceptions. Class-based exceptions allow you to define custom attributes, methods, and hierarchies, making exception handling more flexible and powerful. With string-based exceptions, it is challenging to attach additional context information, perform specific exception handling based on exception types, or create custom exception hierarchies.\n",
    "\n",
    "\n",
    "Reduced Maintainability: String-based exceptions are less maintainable because they do not adhere to the recommended practices and conventions for exception handling in Python. They can lead to less readable and less manageable code. By using class-based exceptions, you can follow established patterns and benefit from the standard exception handling mechanisms in the language.\n",
    "\n",
    "\n",
    "In summary, the shift away from string-based exceptions in Python is driven by the desire for more structured, specific, and maintainable exception handling. By using class-based exceptions, you can take advantage of the features provided by the language and write code that is easier to understand, maintain, and debug."
   ]
  }
 ],
 "metadata": {
  "kernelspec": {
   "display_name": "Python 3 (ipykernel)",
   "language": "python",
   "name": "python3"
  },
  "language_info": {
   "codemirror_mode": {
    "name": "ipython",
    "version": 3
   },
   "file_extension": ".py",
   "mimetype": "text/x-python",
   "name": "python",
   "nbconvert_exporter": "python",
   "pygments_lexer": "ipython3",
   "version": "3.9.13"
  },
  "widgets": {
   "application/vnd.jupyter.widget-state+json": {
    "state": {},
    "version_major": 2,
    "version_minor": 0
   }
  }
 },
 "nbformat": 4,
 "nbformat_minor": 5
}

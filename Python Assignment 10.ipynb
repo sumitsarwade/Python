{
 "cells": [
  {
   "cell_type": "markdown",
   "id": "a89c1ff4",
   "metadata": {},
   "source": [
    "## Python Assignment 10"
   ]
  },
  {
   "cell_type": "markdown",
   "id": "9aeb2551",
   "metadata": {},
   "source": [
    "### 1. How do you distinguish between shutil.copy() and shutil.copytree()?"
   ]
  },
  {
   "cell_type": "markdown",
   "id": "7100eed2",
   "metadata": {},
   "source": [
    "shutil.copy(src, dst): This function is used to copy a single file from the source (src) to the destination (dst). It takes two arguments: the path of the source file and the destination path.\n",
    "\n",
    "shutil.copytree(src, dst): This function is used to recursively copy an entire directory tree from the source (src) to the destination (dst). It creates a new directory at the destination and copies all the files and subdirectories from the source directory to the destination directory."
   ]
  },
  {
   "cell_type": "markdown",
   "id": "a0defdf9",
   "metadata": {},
   "source": [
    "### 2. What function is used to rename files?"
   ]
  },
  {
   "cell_type": "markdown",
   "id": "a476c813",
   "metadata": {},
   "source": [
    "In Python, the os.rename() function is used to rename files and directories. It allows you to change the name of a file or move it to a different directory while retaining its content.\n",
    "\n",
    "The os.rename() function takes two arguments: the current name of the file or directory and the new name or path that you want to assign to it."
   ]
  },
  {
   "cell_type": "markdown",
   "id": "480bc1ae",
   "metadata": {},
   "source": [
    "### 3. What is the difference between the delete functions in the send2trash and shutil modules?"
   ]
  },
  {
   "cell_type": "markdown",
   "id": "540b6fce",
   "metadata": {},
   "source": [
    "1.send2trash module:\n",
    "\n",
    "The send2trash module provides a cross-platform solution for sending files and directories to the operating system's trash or recycle bin instead of permanently deleting them.\n",
    "The send2trash.send2trash() function is used to send a file or directory to the trash/recycle bin. It takes the path of the file or directory as an argument.\n",
    "This module provides a safer alternative to the os.remove() or shutil.rmtree() functions as it offers a chance to recover files from the trash/recycle bin if deleted accidentally."
   ]
  },
  {
   "cell_type": "markdown",
   "id": "8c643c01",
   "metadata": {},
   "source": [
    "2.shutil module:\n",
    "\n",
    "The shutil module provides various file operations, including deletion of files and directories.\n",
    "The shutil.rmtree() function is used to recursively delete a directory and all its contents. It takes the path of the directory as an argument and permanently removes it from the file system.\n",
    "The os.remove() function is used to delete a single file. It takes the path of the file as an argument and permanently removes it from the file system.\n",
    "These functions directly delete files or directories without sending them to the trash/recycle bin. Once deleted, they cannot be easily recovered unless you have a backup."
   ]
  },
  {
   "cell_type": "markdown",
   "id": "9d92ab61",
   "metadata": {},
   "source": [
    "### 4.ZipFile objects have a close() method just like File objects’ close() method. What ZipFile method isequivalent to File objects’ open() method?"
   ]
  },
  {
   "cell_type": "markdown",
   "id": "4bf2831a",
   "metadata": {},
   "source": [
    "The equivalent method in ZipFile objects to the open() method in File objects is the ZipFile.open() method.\n",
    "\n",
    "The ZipFile.open() method is used to open a file contained within a ZIP archive, similar to how the open() method is used to open a file in the file system.\n",
    "\n",
    "The open() method in File objects is used to open files in the file system, whereas ZipFile.open() in ZipFile objects is used to open files within a ZIP archive. The methods serve similar purposes but operate on different types of files"
   ]
  },
  {
   "cell_type": "markdown",
   "id": "dec80a60",
   "metadata": {},
   "source": [
    "### 5. Create a programme that searches a folder tree for files with a certain file extension (such as .pdfor .jpg). Copy these files from whatever location they are in to a new folder."
   ]
  },
  {
   "cell_type": "code",
   "execution_count": 5,
   "id": "2f0e026c",
   "metadata": {},
   "outputs": [],
   "source": [
    "import os\n",
    "import shutil\n",
    "\n",
    "def search_and_copy_files(source_folder, target_folder, file_extension):\n",
    "    for root, dirs, files in os.walk(source_folder):\n",
    "        for file in files:\n",
    "            if file.endswith(file_extension):\n",
    "                source_path = os.path.join(root, file)\n",
    "                target_path = os.path.join(target_folder, file)\n",
    "                shutil.copy2(source_path, target_path)\n",
    "                print(f\"Copied: {source_path} to {target_path}\")\n",
    "\n",
    "# Example usage\n",
    "source_folder = 'path/to/source/folder'\n",
    "target_folder = 'path/to/target/folder'\n",
    "file_extension = '.pdf'  # Change to the desired file extension\n",
    "\n",
    "search_and_copy_files(source_folder, target_folder, file_extension)\n"
   ]
  },
  {
   "cell_type": "code",
   "execution_count": null,
   "id": "c3411898",
   "metadata": {},
   "outputs": [],
   "source": []
  }
 ],
 "metadata": {
  "kernelspec": {
   "display_name": "Python 3 (ipykernel)",
   "language": "python",
   "name": "python3"
  },
  "language_info": {
   "codemirror_mode": {
    "name": "ipython",
    "version": 3
   },
   "file_extension": ".py",
   "mimetype": "text/x-python",
   "name": "python",
   "nbconvert_exporter": "python",
   "pygments_lexer": "ipython3",
   "version": "3.9.13"
  }
 },
 "nbformat": 4,
 "nbformat_minor": 5
}

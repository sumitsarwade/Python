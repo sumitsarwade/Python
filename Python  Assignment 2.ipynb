{
 "cells": [
  {
   "cell_type": "markdown",
   "id": "997fbf04",
   "metadata": {},
   "source": [
    "### 1.What are the two values of the Boolean data type? How do you write them?"
   ]
  },
  {
   "cell_type": "markdown",
   "id": "441b5d32",
   "metadata": {},
   "source": [
    "The two values of the Boolean data type are:\n",
    "\n",
    "1] True\n",
    "\n",
    "2] False\n",
    "\n",
    "In programming languages, these values are usually written as \"true\" and \"false\" respectively. \n",
    "In some languages, such as Python, they are capitalized as \"True\" and \"False\".\n",
    "The Boolean data type is commonly used in conditional statements and logical operations to make decisions based on whether a statement is true or false."
   ]
  },
  {
   "cell_type": "markdown",
   "id": "dce82f7a",
   "metadata": {},
   "source": [
    "### 2.What are the three different types of Boolean operators?"
   ]
  },
  {
   "cell_type": "markdown",
   "id": "901b6efa",
   "metadata": {},
   "source": [
    "#### The three different types of Boolean operators are:\n",
    "\n",
    "AND operator: This operator returns true only if both the operands are true. It is denoted by the symbol \"&&\" or the word \"AND\".\n",
    "\n",
    "OR operator: This operator returns true if either one or both of the operands are true. It is denoted by the symbol \"||\" or the word \"OR\".\n",
    "\n",
    "NOT operator: This operator is used to negate the value of the operand. If the operand is true, then the NOT operator returns false, and vice versa. It is denoted by the symbol \"!\" or the word \"NOT\".\n",
    "\n",
    "These Boolean operators are commonly used in programming languages to perform logical operations on Boolean values."
   ]
  },
  {
   "cell_type": "markdown",
   "id": "1accbf08",
   "metadata": {},
   "source": [
    "### 3.Make a list of each Boolean operator truth tables (i.e. every possible combination of Boolean values for the operator and what it evaluate )."
   ]
  },
  {
   "cell_type": "markdown",
   "id": "a2fe33fc",
   "metadata": {},
   "source": [
    "AND operator:\n",
    "    \n",
    "Operand1  Operand2  Result\n",
    "\n",
    "true       true     true\n",
    "true       false    false\n",
    "false      true     false\n",
    "false      false    false\n",
    "\n",
    "OR operator:\n",
    "    \n",
    "Operand1  Operand2  Result\n",
    "true      true      true\n",
    "true      false     true\n",
    "false     true      true\n",
    "false     false     false\n",
    "\n",
    "\n",
    "NOT operator:\n",
    "Operand  Result\n",
    "true     false\n",
    "false    true"
   ]
  },
  {
   "cell_type": "markdown",
   "id": "5283c9b2",
   "metadata": {},
   "source": [
    "### 4.What are the values of the following expressions?\n",
    "(5 > 4) and (3 == 5)\n",
    "\n",
    "not (5>4)\n",
    "\n",
    "(5>4) or (3 == 5)\n",
    "\n",
    "not ((5>4) or (3 == 5))\n",
    "\n",
    "(True and True) and (True == False)\n",
    "\n",
    "(not False) or (not True)"
   ]
  },
  {
   "cell_type": "markdown",
   "id": "c64d3298",
   "metadata": {},
   "source": [
    "#### (5 > 4) and (3 == 5)\n",
    "This expression is evaluating the logical AND operator between the two conditions: \n",
    "\"5 > 4\" is True and \"3 == 5\" is False, so the expression evaluates to:False\n",
    "\n",
    "\n",
    "#### not (5 > 4)\n",
    "This expression is evaluating the logical NOT operator on the condition \"5 > 4\",which is True \n",
    "so the expression evaluates to :False\n",
    "\n",
    "\n",
    "#### (5 > 4) or (3 == 5)\n",
    "This expression is evaluating the logical OR operator between the two conditions:5 > 4 is True and \"3 == 5\" is False,\n",
    "so the expression evaluates to:True\n",
    "\n",
    "\n",
    "#### not ((5 > 4) or (3 == 5))\n",
    "This expression is evaluating the logical NOT operator on the expression \"(5 > 4) or (3 == 5)\",\n",
    "which is True because \"5 > 4\" is True, so the expression evaluates to:False\n",
    "\n",
    "\n",
    "\n",
    "#### (True and True) and (True == False)\n",
    "This expression is evaluating the logical AND operator between three conditions: \"True and True\" is True, and \"True == False\" is False,\n",
    "so the expression evaluates to:False\n",
    "\n",
    "\n",
    "\n",
    "#### (not False) or (not True)\n",
    "This expression is evaluating the logical OR operator between two conditions: \"not False\" is True, and \"not True\" is False,\n",
    "so the expression evaluates to:True"
   ]
  },
  {
   "cell_type": "markdown",
   "id": "b83ba4fb",
   "metadata": {},
   "source": [
    "### 5.What are the six comparison operators?"
   ]
  },
  {
   "cell_type": "markdown",
   "id": "6a433992",
   "metadata": {},
   "source": [
    "The six comparison operators are:\n",
    "\n",
    "Greater than (>)\n",
    "\n",
    "Less than (<)\n",
    "\n",
    "Greater than or equal to (>=)\n",
    "\n",
    "Less than or equal to (<=)\n",
    "\n",
    "Equal to (==)\n",
    "\n",
    "Not equal to (!=)"
   ]
  },
  {
   "cell_type": "markdown",
   "id": "c417eea0",
   "metadata": {},
   "source": [
    "### 6. How do you tell the difference between the equal to and assignment operators?Describe a condition and when you would use one."
   ]
  },
  {
   "cell_type": "markdown",
   "id": "d78421db",
   "metadata": {},
   "source": [
    "The equal to operator is denoted by \"==\" and is used to check if two values or variables are equal in value. It returns a Boolean value of true or false.\n",
    "\n",
    "The assignment operator is denoted by \"=\" and is used to assign a value to a variable.\n",
    "\n",
    "A condition where we might use the equal to operator is when we want to check if two variables have the same value. For example"
   ]
  },
  {
   "cell_type": "code",
   "execution_count": 2,
   "id": "f1433cfe",
   "metadata": {},
   "outputs": [
    {
     "name": "stdout",
     "output_type": "stream",
     "text": [
      "x and y are not equal\n"
     ]
    }
   ],
   "source": [
    "x = 5\n",
    "y = 7\n",
    "if x == y:\n",
    "    print(\"x and y are equal\")\n",
    "else:\n",
    "    print(\"x and y are not equal\")\n"
   ]
  },
  {
   "cell_type": "markdown",
   "id": "7f76265b",
   "metadata": {},
   "source": [
    "In this code, we are checking if x is equal to y using the equal to operator.\n",
    "Since x and y have different values, the code will print \"x and y are not equal.\"\n",
    "A condition where we might use the assignment operator is when we want to assign a value to a variable.\n",
    "For example, we might write code like this:"
   ]
  },
  {
   "cell_type": "code",
   "execution_count": 4,
   "id": "56c93e82",
   "metadata": {},
   "outputs": [],
   "source": [
    "x = 5\n",
    "y = x + 3"
   ]
  },
  {
   "cell_type": "code",
   "execution_count": 5,
   "id": "f8f34b42",
   "metadata": {},
   "outputs": [
    {
     "name": "stdout",
     "output_type": "stream",
     "text": [
      "8\n"
     ]
    }
   ],
   "source": [
    "print(y)"
   ]
  },
  {
   "cell_type": "markdown",
   "id": "71e1269f",
   "metadata": {},
   "source": [
    "In this code, we are using the assignment operator to assign the value of x plus 3 to the variable y.\n",
    "After this code is executed, the value of y will be 8."
   ]
  },
  {
   "cell_type": "markdown",
   "id": "165a622e",
   "metadata": {},
   "source": [
    "### 7. Identify the three blocks in this code:"
   ]
  },
  {
   "cell_type": "code",
   "execution_count": 6,
   "id": "a189bc98",
   "metadata": {},
   "outputs": [],
   "source": [
    "# Block 1:\n",
    "spam = 0\n",
    "if spam == 10:\n",
    "    print('eggs')\n"
   ]
  },
  {
   "cell_type": "markdown",
   "id": "003b7814",
   "metadata": {},
   "source": [
    "This block assigns the value 0 to the variable spam and then checks if spam is equal to 10.\n",
    "Since spam is not equal to 10, the code in the if statement is not executed."
   ]
  },
  {
   "cell_type": "code",
   "execution_count": 9,
   "id": "95487686",
   "metadata": {},
   "outputs": [
    {
     "name": "stdout",
     "output_type": "stream",
     "text": [
      "ham\n"
     ]
    }
   ],
   "source": [
    "#Block 2:\n",
    "if spam > 5:\n",
    "    print('bacon')\n",
    "else:\n",
    "    print('ham')\n"
   ]
  },
  {
   "cell_type": "markdown",
   "id": "83e6e48a",
   "metadata": {},
   "source": [
    "This block checks if spam is greater than 5. Since spam is not greater than 5, the code in the if statement is not executed, and the code in the else statement is executed,\n",
    "which prints \"ham\" to the console."
   ]
  },
  {
   "cell_type": "code",
   "execution_count": 10,
   "id": "5073a8e0",
   "metadata": {},
   "outputs": [
    {
     "name": "stdout",
     "output_type": "stream",
     "text": [
      "spam\n",
      "spam\n"
     ]
    }
   ],
   "source": [
    "#Block 3:\n",
    "print('spam')\n",
    "print('spam')\n"
   ]
  },
  {
   "cell_type": "markdown",
   "id": "710fa1ef",
   "metadata": {},
   "source": [
    "This block contains two print statements that print the string \"spam\" to the console twice.\n",
    "These print statements are executed regardless of the value of the spam variable or the results of the previous if statement."
   ]
  },
  {
   "cell_type": "markdown",
   "id": "c23b5965",
   "metadata": {},
   "source": [
    "### 8.Write code that prints Hello if 1 is stored in spam, prints Howdy if 2 is stored in spam, and prints Greetings! if anything else is stored in spam."
   ]
  },
  {
   "cell_type": "code",
   "execution_count": 17,
   "id": "db1b96a8",
   "metadata": {},
   "outputs": [
    {
     "name": "stdout",
     "output_type": "stream",
     "text": [
      "enter the number2\n",
      "Howdy\n"
     ]
    }
   ],
   "source": [
    "spam = int(input(\"enter the number\"))\n",
    "\n",
    "if spam == 1:\n",
    "    print(\"Hello\")\n",
    "elif spam == 2:\n",
    "    print(\"Howdy\")\n",
    "else:\n",
    "    print(\"Greetings!\")\n"
   ]
  },
  {
   "cell_type": "markdown",
   "id": "6bdab700",
   "metadata": {},
   "source": [
    "### 9.If your programme is stuck in an endless loop, what keys you’ll press?"
   ]
  },
  {
   "cell_type": "markdown",
   "id": "65d10406",
   "metadata": {},
   "source": [
    "If a program is stuck in an endless loop, you can press Ctrl + C on Windows or Linux, or Command + . on Mac to interrupt the execution of the program."
   ]
  },
  {
   "cell_type": "markdown",
   "id": "4eb2b99d",
   "metadata": {},
   "source": [
    "### 10. How can you tell the difference between break and continue?"
   ]
  },
  {
   "cell_type": "markdown",
   "id": "b2c71bec",
   "metadata": {},
   "source": [
    "In Python, break and continue are two flow control statements used inside loops to alter the flow of the loop. Here's the difference between them:\n",
    "\n",
    "### break statement: \n",
    "When executed inside a loop, the break statement terminates the loop immediately and the control is transferred to the statement following the loop.\n",
    "For example, consider the following code:\n"
   ]
  },
  {
   "cell_type": "code",
   "execution_count": 18,
   "id": "4f265930",
   "metadata": {},
   "outputs": [
    {
     "name": "stdout",
     "output_type": "stream",
     "text": [
      "1\n",
      "2\n",
      "Loop terminated\n"
     ]
    }
   ],
   "source": [
    "for i in range(1, 6):\n",
    "    if i == 3:\n",
    "        break\n",
    "    print(i)\n",
    "print(\"Loop terminated\")\n"
   ]
  },
  {
   "cell_type": "markdown",
   "id": "c8e44687",
   "metadata": {},
   "source": [
    "In this code, the break statement is executed when the value of i is 3. This immediately terminates the loop and the control is transferred to the statement following the loop, which is print(\"Loop terminated\")."
   ]
  },
  {
   "cell_type": "markdown",
   "id": "ba32407a",
   "metadata": {},
   "source": [
    "### continue statement: \n",
    "When executed inside a loop, the continue statement skips the current iteration of the loop and moves to the next iteration."
   ]
  },
  {
   "cell_type": "code",
   "execution_count": 19,
   "id": "bacb12cc",
   "metadata": {},
   "outputs": [
    {
     "name": "stdout",
     "output_type": "stream",
     "text": [
      "1\n",
      "2\n",
      "4\n",
      "5\n",
      "Loop terminated\n"
     ]
    }
   ],
   "source": [
    "for i in range(1, 6):\n",
    "    if i == 3:\n",
    "        continue\n",
    "    print(i)\n",
    "print(\"Loop terminated\")\n",
    "\n"
   ]
  },
  {
   "cell_type": "markdown",
   "id": "483a4476",
   "metadata": {},
   "source": [
    "In this code, the continue statement is executed when the value of i is 3. This skips the rest of the code inside the loop for that iteration, but doesn't terminate the loop. The loop then continues with the next iteration.\n",
    "\n",
    "In summary, break is used to exit a loop prematurely, while continue is used to skip a particular iteration of the loop and continue with the next iteration."
   ]
  },
  {
   "cell_type": "markdown",
   "id": "38311d36",
   "metadata": {},
   "source": [
    "### 11.In a for loop, what is the difference between range(10), range(0, 10), and range(0, 10, 1)?"
   ]
  },
  {
   "cell_type": "markdown",
   "id": "0e32d73f",
   "metadata": {},
   "source": [
    "In Python, the range() function is commonly used with for loops to generate a sequence of numbers. Here's the difference between the three variations you mentioned:\n",
    "\n",
    "range(10): This generates a sequence of numbers from 0 to 9. The start parameter is not specified, so the default value of 0 is used. The step parameter is also not specified, so the default value of 1 is used.\n",
    "\n",
    "range(0, 10): This also generates a sequence of numbers from 0 to 9. The start parameter is explicitly set to 0, and the step parameter is not specified, so the default value of 1 is used.\n",
    "\n",
    "range(0, 10, 1): This also generates a sequence of numbers from 0 to 9. The start parameter is explicitly set to 0, and the step parameter is explicitly set to 1.\n",
    "\n",
    "In practice, all three of these variations will generate the same sequence of numbers, and you can use any of them interchangeably. However, specifying the start and step parameters can be useful in certain situations where you need to generate a sequence of numbers that doesn't start at 0 or that has a different step size. For example, range(2, 10, 2) would generate a sequence of even numbers from 2 to 8."
   ]
  },
  {
   "cell_type": "markdown",
   "id": "700fc76e",
   "metadata": {},
   "source": [
    "### 12. Write a short program that prints the numbers 1 to 10 using a for loop. Then write an equivalent program that prints the numbers 1 to 10 using a while loop."
   ]
  },
  {
   "cell_type": "code",
   "execution_count": 20,
   "id": "477faf7a",
   "metadata": {},
   "outputs": [
    {
     "name": "stdout",
     "output_type": "stream",
     "text": [
      "1\n",
      "2\n",
      "3\n",
      "4\n",
      "5\n",
      "6\n",
      "7\n",
      "8\n",
      "9\n",
      "10\n"
     ]
    }
   ],
   "source": [
    "for i in range(1, 11):\n",
    "    print(i)\n"
   ]
  },
  {
   "cell_type": "code",
   "execution_count": 21,
   "id": "f6ec88b8",
   "metadata": {},
   "outputs": [
    {
     "name": "stdout",
     "output_type": "stream",
     "text": [
      "1\n",
      "2\n",
      "3\n",
      "4\n",
      "5\n",
      "6\n",
      "7\n",
      "8\n",
      "9\n",
      "10\n"
     ]
    }
   ],
   "source": [
    "i = 1\n",
    "while i <= 10:\n",
    "    print(i)\n",
    "    i += 1\n"
   ]
  },
  {
   "cell_type": "markdown",
   "id": "4fe502b2",
   "metadata": {},
   "source": [
    "### 13.If you had a function named bacon() inside a module named spam, how would you call it after importing spam?"
   ]
  },
  {
   "cell_type": "markdown",
   "id": "2d219a36",
   "metadata": {},
   "source": [
    "After importing the module spam, you can call the function bacon() by using the dot notation:\n",
    "\n",
    "This assumes that the bacon() function is defined inside the spam module. When you import a module in Python, all of the functions and variables defined in that module become attributes of the module object. You can access these attributes using dot notation, which allows you to call functions and access variables defined inside the module."
   ]
  },
  {
   "cell_type": "markdown",
   "id": "aaea470c",
   "metadata": {},
   "source": [
    "import  spam\n",
    "spam.bacon() #function calling "
   ]
  },
  {
   "cell_type": "code",
   "execution_count": null,
   "id": "63656fa7",
   "metadata": {},
   "outputs": [],
   "source": []
  }
 ],
 "metadata": {
  "kernelspec": {
   "display_name": "Python 3 (ipykernel)",
   "language": "python",
   "name": "python3"
  },
  "language_info": {
   "codemirror_mode": {
    "name": "ipython",
    "version": 3
   },
   "file_extension": ".py",
   "mimetype": "text/x-python",
   "name": "python",
   "nbconvert_exporter": "python",
   "pygments_lexer": "ipython3",
   "version": "3.9.13"
  }
 },
 "nbformat": 4,
 "nbformat_minor": 5
}

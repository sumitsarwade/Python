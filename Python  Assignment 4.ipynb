{
 "cells": [
  {
   "cell_type": "markdown",
   "id": "a32ba1b1",
   "metadata": {},
   "source": [
    "## Python  Assignment 4"
   ]
  },
  {
   "cell_type": "markdown",
   "id": "d6609075",
   "metadata": {},
   "source": [
    "### 1. What exactly is []?"
   ]
  },
  {
   "cell_type": "markdown",
   "id": "4b28db2c",
   "metadata": {},
   "source": [
    "[] is an empty list in Python."
   ]
  },
  {
   "cell_type": "markdown",
   "id": "81d1635e",
   "metadata": {},
   "source": [
    "### 2.In a list of values stored in a variable called spam, how would you assign the value hello as the third value (Assume [2, 4, 6, 8, 10] are in spam.)\n",
    "### Lets pretend the spam includes the list {'a' ,'b' ,'c','d' } for the next three queries."
   ]
  },
  {
   "cell_type": "markdown",
   "id": "edb8994f",
   "metadata": {},
   "source": [
    "To assign the value \"hello\" as the third value in the list stored in the variable called spam, you can use indexing and assignment as follows:"
   ]
  },
  {
   "cell_type": "code",
   "execution_count": 5,
   "id": "f2b937b9",
   "metadata": {},
   "outputs": [],
   "source": [
    "spam =  [2, 4, 6, 8, 10]\n",
    "spam[2] = \"hello\""
   ]
  },
  {
   "cell_type": "code",
   "execution_count": 6,
   "id": "4786088e",
   "metadata": {},
   "outputs": [
    {
     "data": {
      "text/plain": [
       "'hello'"
      ]
     },
     "execution_count": 6,
     "metadata": {},
     "output_type": "execute_result"
    }
   ],
   "source": [
    "spam[2]"
   ]
  },
  {
   "cell_type": "markdown",
   "id": "d2df4ba9",
   "metadata": {},
   "source": [
    "This will replace the third value (index 2) in the list with the string \"hello\". The resulting list will be [2, 4, 'hello', 8, 10]."
   ]
  },
  {
   "cell_type": "code",
   "execution_count": 7,
   "id": "699122f1",
   "metadata": {},
   "outputs": [
    {
     "ename": "TypeError",
     "evalue": "'set' object does not support item assignment",
     "output_type": "error",
     "traceback": [
      "\u001b[1;31m---------------------------------------------------------------------------\u001b[0m",
      "\u001b[1;31mTypeError\u001b[0m                                 Traceback (most recent call last)",
      "\u001b[1;32mC:\\conda_tmp\\ipykernel_2128\\1887813599.py\u001b[0m in \u001b[0;36m<module>\u001b[1;34m\u001b[0m\n\u001b[0;32m      1\u001b[0m \u001b[0mspam\u001b[0m \u001b[1;33m=\u001b[0m \u001b[1;33m{\u001b[0m\u001b[1;34m'a'\u001b[0m \u001b[1;33m,\u001b[0m\u001b[1;34m'b'\u001b[0m \u001b[1;33m,\u001b[0m\u001b[1;34m'c'\u001b[0m\u001b[1;33m,\u001b[0m\u001b[1;34m'd'\u001b[0m \u001b[1;33m}\u001b[0m\u001b[1;33m\u001b[0m\u001b[1;33m\u001b[0m\u001b[0m\n\u001b[1;32m----> 2\u001b[1;33m \u001b[0mspam\u001b[0m\u001b[1;33m[\u001b[0m\u001b[1;36m2\u001b[0m\u001b[1;33m]\u001b[0m \u001b[1;33m=\u001b[0m \u001b[1;34m\"hello\"\u001b[0m\u001b[1;33m\u001b[0m\u001b[1;33m\u001b[0m\u001b[0m\n\u001b[0m",
      "\u001b[1;31mTypeError\u001b[0m: 'set' object does not support item assignment"
     ]
    }
   ],
   "source": [
    "spam = {'a' ,'b' ,'c','d' } \n",
    "spam[2] = \"hello\""
   ]
  },
  {
   "cell_type": "markdown",
   "id": "5b8ca9c5",
   "metadata": {},
   "source": [
    " Sets are unordered collections of unique elements, whereas lists are ordered collections of arbitrary elements that may include duplicates. In the following answers, I will assume that spam is a list, as specified in the original question.\n",
    "\n",
    "However, if spam is actually a set as you've defined, some of the operations I describe below may not work as expected, since sets have different properties and methods than lists."
   ]
  },
  {
   "cell_type": "markdown",
   "id": "49be77e8",
   "metadata": {},
   "source": [
    "### 3. What is the value of spam[int(int(3 * 2) / 11)]?"
   ]
  },
  {
   "cell_type": "markdown",
   "id": "1049ac4a",
   "metadata": {},
   "source": [
    "The expression int(int(3 * 2) / 11) evaluates to 0, since 3 * 2 is 6, 6 / 11 is less than 1, and int() truncates the decimal part of a number towards zero.\n",
    "\n",
    "Therefore, spam[int(int(3 * 2) / 11)] is equivalent to spam[0], which returns the first element of the list. Assuming spam is equal to ['a', 'b', 'c', 'd'], the value of spam[int(int(3 * 2) / 11)] would be 'a'."
   ]
  },
  {
   "cell_type": "markdown",
   "id": "423cefed",
   "metadata": {},
   "source": [
    "4. What is the value of spam[-1]?"
   ]
  },
  {
   "cell_type": "markdown",
   "id": "c51339b1",
   "metadata": {},
   "source": [
    "The index -1 refers to the last element of a list. Therefore, spam[-1] will return the last element of the list stored in the variable spam.\n",
    "\n",
    "Assuming spam is equal to ['a', 'b', 'c', 'd'], the value of spam[-1] would be 'd'.\n"
   ]
  },
  {
   "cell_type": "markdown",
   "id": "f8805c68",
   "metadata": {},
   "source": [
    "5. What is the value of spam[:2]?"
   ]
  },
  {
   "cell_type": "markdown",
   "id": "303b8871",
   "metadata": {},
   "source": [
    "The slice notation [:2] refers to the elements of the list from the beginning up to (but not including) the element at index 2. Therefore, spam[:2] will return a new list containing the first two elements of spam.\n",
    "\n",
    "Assuming spam is equal to ['a', 'b', 'c', 'd'], the value of spam[:2] would be ['a', 'b']."
   ]
  },
  {
   "cell_type": "markdown",
   "id": "e4f3724c",
   "metadata": {},
   "source": [
    "### Let&#39;s pretend bacon is a list containing the values [3.14, 'cat', 11, 'cat', True]."
   ]
  },
  {
   "cell_type": "markdown",
   "id": "98bc2be4",
   "metadata": {},
   "source": [
    "#### 6. What is the value of , bacon.index('cat')"
   ]
  },
  {
   "cell_type": "markdown",
   "id": "fba7c95b",
   "metadata": {},
   "source": [
    "The index() method of a list returns the index of the first occurrence of a given element. Therefore, bacon.index('cat') will return the index of the first occurrence of the string 'cat' in the list.\n",
    "\n",
    "Assuming bacon is equal to [3.14, 'cat', 11, 'cat', True], the value of bacon.index('cat') would be 1, since the first occurrence of 'cat' appears at index 1 in the list."
   ]
  },
  {
   "cell_type": "markdown",
   "id": "05e97229",
   "metadata": {},
   "source": [
    "### 7. How does bacon.append(99) change the look of the list value in bacon?"
   ]
  },
  {
   "cell_type": "markdown",
   "id": "64ec70f4",
   "metadata": {},
   "source": [
    "The append() method of a list adds a new element to the end of the list. Therefore, bacon.append(99) will add the integer value 99 as the last element of the list.\n",
    "\n",
    "After executing bacon.append(99), the list bacon would contain the values [3.14, 'cat', 11, 'cat', True, 99]."
   ]
  },
  {
   "cell_type": "markdown",
   "id": "ce1c655f",
   "metadata": {},
   "source": [
    "### 8. How does bacon.remove('cat') change the look of the list in bacon?"
   ]
  },
  {
   "cell_type": "markdown",
   "id": "a31e08ac",
   "metadata": {},
   "source": [
    "The remove() method of a list removes the first occurrence of a given element from the list. Therefore, bacon.remove('cat') will remove the first occurrence of the string 'cat' from the list.\n",
    "\n",
    "After executing bacon.remove('cat'), the list bacon would contain the values [3.14, 11, 'cat', True] since the first occurrence of 'cat' at index 1 is removed from the original list."
   ]
  },
  {
   "cell_type": "markdown",
   "id": "fd62c169",
   "metadata": {},
   "source": [
    "### 9.What are the list concatenation and list replication operators?"
   ]
  },
  {
   "cell_type": "markdown",
   "id": "da88ce85",
   "metadata": {},
   "source": [
    "The list concatenation operator is +, and it is used to concatenate two lists to create a new list. For example:"
   ]
  },
  {
   "cell_type": "code",
   "execution_count": 8,
   "id": "af683881",
   "metadata": {},
   "outputs": [
    {
     "name": "stdout",
     "output_type": "stream",
     "text": [
      "[1, 2, 3, 4, 5, 6]\n"
     ]
    }
   ],
   "source": [
    "list1 = [1, 2, 3]\n",
    "list2 = [4, 5, 6]\n",
    "concatenated_list = list1 + list2\n",
    "print(concatenated_list)\n"
   ]
  },
  {
   "cell_type": "markdown",
   "id": "794c5c48",
   "metadata": {},
   "source": [
    "The list replication operator is *, and it is used to create a new list by replicating an existing list multiple times. For example:"
   ]
  },
  {
   "cell_type": "code",
   "execution_count": 9,
   "id": "4db51931",
   "metadata": {},
   "outputs": [
    {
     "name": "stdout",
     "output_type": "stream",
     "text": [
      "[1, 2, 3, 1, 2, 3, 1, 2, 3]\n"
     ]
    }
   ],
   "source": [
    "list1 = [1, 2, 3]\n",
    "replicated_list = list1 * 3\n",
    "print(replicated_list)\n"
   ]
  },
  {
   "cell_type": "markdown",
   "id": "16971272",
   "metadata": {},
   "source": [
    "### 10.What is difference between the list methods append() and insert()?"
   ]
  },
  {
   "cell_type": "markdown",
   "id": "d6bdc506",
   "metadata": {},
   "source": [
    "The append() and insert() methods are used to add elements to a list, but they differ in how and where they add elements to the list.\n",
    "\n",
    "The append() method adds an element to the end of the list, whereas the insert() method adds an element at a specified index.\n",
    "\n",
    "For example, consider the following list:"
   ]
  },
  {
   "cell_type": "code",
   "execution_count": 10,
   "id": "092da398",
   "metadata": {},
   "outputs": [],
   "source": [
    "my_list = [1, 2, 3]\n"
   ]
  },
  {
   "cell_type": "code",
   "execution_count": 11,
   "id": "3f212fb1",
   "metadata": {},
   "outputs": [
    {
     "name": "stdout",
     "output_type": "stream",
     "text": [
      "[1, 2, 3, 4]\n"
     ]
    }
   ],
   "source": [
    "#If we use the append() method to add the number 4 to the list, it will be added to the end of the list:\n",
    "my_list.append(4)\n",
    "print(my_list)\n"
   ]
  },
  {
   "cell_type": "code",
   "execution_count": 12,
   "id": "070f412b",
   "metadata": {},
   "outputs": [
    {
     "name": "stdout",
     "output_type": "stream",
     "text": [
      "[0, 1, 2, 3, 4]\n"
     ]
    }
   ],
   "source": [
    "#If we use the insert() method to add the number 0 to the beginning of the list, it will be added at index 0:\n",
    "my_list.insert(0, 0)\n",
    "print(my_list)\n"
   ]
  },
  {
   "cell_type": "markdown",
   "id": "c1c5495e",
   "metadata": {},
   "source": [
    "#### 11.What are the two methods for removing items from a list?"
   ]
  },
  {
   "cell_type": "markdown",
   "id": "2af3c3b4",
   "metadata": {},
   "source": [
    "The two methods for removing items from a list are:\n",
    "\n",
    "remove() method: This method removes the first occurrence of the specified value from the list. \n",
    "\n",
    "pop() method: This method removes the element at the specified index and returns it"
   ]
  },
  {
   "cell_type": "code",
   "execution_count": 13,
   "id": "404d1cf3",
   "metadata": {},
   "outputs": [
    {
     "name": "stdout",
     "output_type": "stream",
     "text": [
      "[1, 2, 4, 5, 6]\n"
     ]
    }
   ],
   "source": [
    "my_list = [1, 2, 3, 4, 5, 6]\n",
    "my_list.remove(3)\n",
    "print(my_list)\n"
   ]
  },
  {
   "cell_type": "code",
   "execution_count": 14,
   "id": "4293021a",
   "metadata": {},
   "outputs": [
    {
     "name": "stdout",
     "output_type": "stream",
     "text": [
      "[1, 2, 3, 5, 6]\n"
     ]
    }
   ],
   "source": [
    "my_list = [1, 2, 3, 4, 5, 6]\n",
    "my_list.pop(3)\n",
    "print(my_list)\n"
   ]
  },
  {
   "cell_type": "markdown",
   "id": "66f6da52",
   "metadata": {},
   "source": [
    "### 12.Describe how list values and string values are identical."
   ]
  },
  {
   "cell_type": "markdown",
   "id": "c46803c4",
   "metadata": {},
   "source": [
    "Both lists and strings are ordered sequences of elements.\n",
    "\n",
    "Both can be accessed using indexing and slicing. We can access individual elements of a list or string using their index positions. We can also slice them to get a subset of elements.\n",
    "\n",
    "Both lists and strings can be concatenated using the + operator. For example, we can concatenate two strings like this:"
   ]
  },
  {
   "cell_type": "code",
   "execution_count": 15,
   "id": "56967a0e",
   "metadata": {},
   "outputs": [
    {
     "name": "stdout",
     "output_type": "stream",
     "text": [
      "helloworld\n"
     ]
    }
   ],
   "source": [
    "str1 = \"hello\"\n",
    "str2 = \"world\"\n",
    "str3 = str1 + str2\n",
    "print(str3)\n"
   ]
  },
  {
   "cell_type": "code",
   "execution_count": 16,
   "id": "0399738e",
   "metadata": {},
   "outputs": [
    {
     "name": "stdout",
     "output_type": "stream",
     "text": [
      "[1, 2, 3, 4, 5, 6]\n"
     ]
    }
   ],
   "source": [
    "list1 = [1, 2, 3]\n",
    "list2 = [4, 5, 6]\n",
    "list3 = list1 + list2\n",
    "print(list3)\n"
   ]
  },
  {
   "cell_type": "code",
   "execution_count": 17,
   "id": "7705a3dc",
   "metadata": {},
   "outputs": [
    {
     "name": "stdout",
     "output_type": "stream",
     "text": [
      "hellohellohello\n"
     ]
    }
   ],
   "source": [
    "#Both lists and strings can be repeated using the * operator. For example, we can repeat a string like this\n",
    "str1 = \"hello\"\n",
    "str2 = str1 * 3\n",
    "print(str2)\n"
   ]
  },
  {
   "cell_type": "code",
   "execution_count": 18,
   "id": "85a8a62a",
   "metadata": {},
   "outputs": [
    {
     "name": "stdout",
     "output_type": "stream",
     "text": [
      "[1, 2, 3, 1, 2, 3]\n"
     ]
    }
   ],
   "source": [
    "list1 = [1, 2, 3]\n",
    "list2 = list1 * 2\n",
    "print(list2)\n"
   ]
  },
  {
   "cell_type": "markdown",
   "id": "8f8955ca",
   "metadata": {},
   "source": [
    "However, there are also some important differences between lists and strings. The most significant difference is that strings are immutable, while lists are mutable. This means that we can change the contents of a list, but we cannot change the contents of a string. For example, we can modify a list like this"
   ]
  },
  {
   "cell_type": "code",
   "execution_count": 19,
   "id": "b6b76670",
   "metadata": {},
   "outputs": [
    {
     "name": "stdout",
     "output_type": "stream",
     "text": [
      "[1, 2, 5, 4]\n"
     ]
    }
   ],
   "source": [
    "my_list = [1, 2, 3, 4]\n",
    "my_list[2] = 5\n",
    "print(my_list)\n"
   ]
  },
  {
   "cell_type": "markdown",
   "id": "8db5ff5b",
   "metadata": {},
   "source": [
    "### 13.Whats the difference between tuples and lists?"
   ]
  },
  {
   "cell_type": "markdown",
   "id": "d08f6a5d",
   "metadata": {},
   "source": [
    "In Python, a list is a mutable sequence of elements while a tuple is an immutable sequence of elements. This means that the values in a list can be changed, added, or removed, whereas a tuple's values cannot be changed once it has been created.\n",
    "\n",
    "Here are some other differences between lists and tuples:\n",
    "\n",
    "Syntax: Lists are represented with square brackets [], while tuples are represented with parentheses ().\n",
    "\n",
    "Mutability: Lists are mutable, which means their values can be changed after creation, whereas tuples are immutable, which means their values cannot be changed after creation.\n",
    "\n",
    "Size: Lists can be of any length, while tuples have a fixed length once they are created.\n",
    "\n",
    "Performance: Tuples are generally faster than lists because they are optimized for performance and take up less memory.\n",
    "\n",
    "Usage: Lists are typically used for collections of similar items where the order matters and the data needs to be modified, while tuples are often used to store related pieces of data that should not be changed."
   ]
  },
  {
   "cell_type": "markdown",
   "id": "3c03bbb6",
   "metadata": {},
   "source": [
    "#### 14.How do you type a tuple value that only contains the integer 42?"
   ]
  },
  {
   "cell_type": "code",
   "execution_count": 20,
   "id": "ccd53213",
   "metadata": {},
   "outputs": [],
   "source": [
    "my_tuple = (42,)\n"
   ]
  },
  {
   "cell_type": "markdown",
   "id": "055b1cb6",
   "metadata": {},
   "source": [
    "#### 15.How do you get a list value&#39;s tuple form? How do you get a tuple value&#39;s list form?"
   ]
  },
  {
   "cell_type": "code",
   "execution_count": 24,
   "id": "02cd7be2",
   "metadata": {},
   "outputs": [
    {
     "name": "stdout",
     "output_type": "stream",
     "text": [
      "(1, 2, 3)\n"
     ]
    }
   ],
   "source": [
    "#To get a list value's tuple form, you can use the tuple() function. Here's an example:\n",
    "my_list = [1, 2, 3]\n",
    "my_tuple = tuple(my_list)\n",
    "print(my_tuple)  # Output: (1, 2, 3)\n"
   ]
  },
  {
   "cell_type": "code",
   "execution_count": 23,
   "id": "7cfecbf7",
   "metadata": {},
   "outputs": [
    {
     "name": "stdout",
     "output_type": "stream",
     "text": [
      "[1, 2, 3]\n"
     ]
    }
   ],
   "source": [
    "#To get a tuple value's list form, you can use the list() function. Here's an example:\n",
    "my_tuple = (1, 2, 3)\n",
    "my_list = list(my_tuple)\n",
    "print(my_list)  # Output: [1, 2, 3]\n"
   ]
  },
  {
   "cell_type": "markdown",
   "id": "60cf035b",
   "metadata": {},
   "source": [
    "In both cases, we are converting the original data type to the desired data type by passing it as an argument to the appropriate function."
   ]
  },
  {
   "cell_type": "markdown",
   "id": "7b793c0f",
   "metadata": {},
   "source": [
    "#### 16.Variables that &quot;contain&quot; list values are not necessarily lists themselves. Instead, what do they contain?"
   ]
  },
  {
   "cell_type": "markdown",
   "id": "31db5b14",
   "metadata": {},
   "source": [
    "Variables that \"contain\" list values are references to the memory location where the list is stored. So when we assign a list to a variable, the variable actually contains a reference to the list, rather than the list itself. This is why when we assign a list to two different variables, changes made to one variable affect the other variable as well."
   ]
  },
  {
   "cell_type": "code",
   "execution_count": 25,
   "id": "c512c8d4",
   "metadata": {},
   "outputs": [
    {
     "name": "stdout",
     "output_type": "stream",
     "text": [
      "[1, 2, 3, 4]\n"
     ]
    }
   ],
   "source": [
    "list1 = [1, 2, 3]\n",
    "list2 = list1\n",
    "list1.append(4)\n",
    "print(list2)  # Output: [1, 2, 3, 4]\n"
   ]
  },
  {
   "cell_type": "markdown",
   "id": "0380e7a7",
   "metadata": {},
   "source": [
    "Here, list1 and list2 both reference the same list object in memory. When we append an element to list1, the change is also reflected in list2. This is because both variables reference the same list object in memory."
   ]
  },
  {
   "cell_type": "markdown",
   "id": "34f4e36c",
   "metadata": {},
   "source": [
    "#### 17.How do you distinguish between copy.copy() and copy.deepcopy()?\n"
   ]
  },
  {
   "cell_type": "markdown",
   "id": "a2caede3",
   "metadata": {},
   "source": [
    "copy.copy() and copy.deepcopy() are both methods in the copy module in Python that allow us to make copies of objects, including lists.\n",
    "\n",
    "copy.copy() creates a shallow copy of the object. This means that it creates a new object with a new memory location, but the new object still contains references to the same elements as the original object. If the original object contains mutable objects like lists or dictionaries, changes made to those objects will be reflected in both the original and copied object.\n",
    "\n",
    "copy.deepcopy() creates a deep copy of the object. This means that it creates a new object with a new memory location and creates new objects for each of the elements in the original object as well. If the original object contains mutable objects like lists or dictionaries, the new objects will be completely separate from the original objects, and changes made to those objects will not be reflected in the original object."
   ]
  },
  {
   "cell_type": "code",
   "execution_count": 26,
   "id": "a6416c97",
   "metadata": {},
   "outputs": [
    {
     "name": "stdout",
     "output_type": "stream",
     "text": [
      "[1, 2, [5, 4]]\n",
      "[1, 2, [5, 4]]\n",
      "[1, 2, [3, 4]]\n"
     ]
    }
   ],
   "source": [
    "import copy\n",
    "\n",
    "list1 = [1, 2, [3, 4]]\n",
    "list2 = copy.copy(list1)\n",
    "list3 = copy.deepcopy(list1)\n",
    "\n",
    "# Changing the inner list of list1 will affect list2, but not list3\n",
    "list1[2][0] = 5\n",
    "print(list1)  # Output: [1, 2, [5, 4]]\n",
    "print(list2)  # Output: [1, 2, [5, 4]]\n",
    "print(list3)  # Output: [1, 2, [3, 4]]\n"
   ]
  },
  {
   "cell_type": "code",
   "execution_count": null,
   "id": "3222ef78",
   "metadata": {},
   "outputs": [],
   "source": []
  },
  {
   "cell_type": "code",
   "execution_count": null,
   "id": "3bd696b2",
   "metadata": {},
   "outputs": [],
   "source": []
  },
  {
   "cell_type": "code",
   "execution_count": null,
   "id": "3385dd51",
   "metadata": {},
   "outputs": [],
   "source": []
  }
 ],
 "metadata": {
  "kernelspec": {
   "display_name": "Python 3 (ipykernel)",
   "language": "python",
   "name": "python3"
  },
  "language_info": {
   "codemirror_mode": {
    "name": "ipython",
    "version": 3
   },
   "file_extension": ".py",
   "mimetype": "text/x-python",
   "name": "python",
   "nbconvert_exporter": "python",
   "pygments_lexer": "ipython3",
   "version": "3.9.13"
  }
 },
 "nbformat": 4,
 "nbformat_minor": 5
}

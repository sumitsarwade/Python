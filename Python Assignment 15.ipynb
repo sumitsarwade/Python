{
 "cells": [
  {
   "cell_type": "markdown",
   "id": "bee1bf38",
   "metadata": {},
   "source": [
    "## Python Assignment 15"
   ]
  },
  {
   "cell_type": "markdown",
   "id": "f96c9b0b",
   "metadata": {},
   "source": [
    "### 1.How many seconds are in an hour? Use the interactive interpreter as a calculator and multiply thenumber of seconds in a minute (60) by the number of minutes in an hour (also 60).sol. 60"
   ]
  },
  {
   "cell_type": "code",
   "execution_count": 1,
   "id": "d97daf52",
   "metadata": {},
   "outputs": [
    {
     "name": "stdout",
     "output_type": "stream",
     "text": [
      "3600\n"
     ]
    }
   ],
   "source": [
    "seconds_in_minute = 60\n",
    "minutes_in_hour = 60\n",
    "\n",
    "seconds_in_hour = seconds_in_minute * minutes_in_hour\n",
    "print(seconds_in_hour)\n"
   ]
  },
  {
   "cell_type": "markdown",
   "id": "4f1cab1f",
   "metadata": {},
   "source": [
    "### 2. Assign the result from the previous task (seconds in an hour) to a variable called seconds_per_hour."
   ]
  },
  {
   "cell_type": "code",
   "execution_count": 2,
   "id": "63937160",
   "metadata": {},
   "outputs": [
    {
     "name": "stdout",
     "output_type": "stream",
     "text": [
      "3600\n"
     ]
    }
   ],
   "source": [
    "seconds_in_minute = 60\n",
    "minutes_in_hour = 60\n",
    "\n",
    "seconds_per_hour = seconds_in_minute * minutes_in_hour\n",
    "print(seconds_per_hour)\n"
   ]
  },
  {
   "cell_type": "markdown",
   "id": "dfd4122e",
   "metadata": {},
   "source": [
    "The value 3600 is stored in the variable seconds_per_hour."
   ]
  },
  {
   "cell_type": "markdown",
   "id": "f2506adf",
   "metadata": {},
   "source": [
    "### 3. How many seconds do you think there are in a day? Make use of the variables seconds per hour and minutes per hour."
   ]
  },
  {
   "cell_type": "code",
   "execution_count": 3,
   "id": "949450ab",
   "metadata": {},
   "outputs": [
    {
     "name": "stdout",
     "output_type": "stream",
     "text": [
      "86400\n"
     ]
    }
   ],
   "source": [
    "seconds_per_hour = 60 * 60\n",
    "hours_per_day = 24\n",
    "\n",
    "seconds_per_day = seconds_per_hour * hours_per_day\n",
    "print(seconds_per_day)\n"
   ]
  },
  {
   "cell_type": "markdown",
   "id": "e4ac6ed9",
   "metadata": {},
   "source": [
    "There are 86,400 seconds in a day."
   ]
  },
  {
   "cell_type": "markdown",
   "id": "d5fa6381",
   "metadata": {},
   "source": [
    "### 4. Calculate seconds per day again, but this time save the result in a variable called seconds_per_day"
   ]
  },
  {
   "cell_type": "code",
   "execution_count": 4,
   "id": "20febc99",
   "metadata": {},
   "outputs": [
    {
     "name": "stdout",
     "output_type": "stream",
     "text": [
      "86400\n"
     ]
    }
   ],
   "source": [
    "seconds_per_hour = 60 * 60\n",
    "hours_per_day = 24\n",
    "\n",
    "seconds_per_day = seconds_per_hour * hours_per_day\n",
    "print(seconds_per_day)\n"
   ]
  },
  {
   "cell_type": "markdown",
   "id": "86b094ac",
   "metadata": {},
   "source": [
    "Now,the value 86400 is stored in the variable seconds_per_day"
   ]
  },
  {
   "cell_type": "markdown",
   "id": "41a6d917",
   "metadata": {},
   "source": [
    "### 5. Divide seconds_per_day by seconds_per_hour. Use floating-point (/) division."
   ]
  },
  {
   "cell_type": "code",
   "execution_count": 5,
   "id": "ad31097f",
   "metadata": {},
   "outputs": [
    {
     "name": "stdout",
     "output_type": "stream",
     "text": [
      "24.0\n"
     ]
    }
   ],
   "source": [
    "seconds_per_hour = 60 * 60\n",
    "hours_per_day = 24\n",
    "seconds_per_day = seconds_per_hour * hours_per_day\n",
    "\n",
    "result = seconds_per_day / seconds_per_hour\n",
    "print(result)\n"
   ]
  },
  {
   "cell_type": "markdown",
   "id": "815ae747",
   "metadata": {},
   "source": [
    "### 6. Divide seconds_per_day by seconds_per_hour, using integer (//) division. Did this number agree with the floating-point value from the previous question, aside from the final .0?"
   ]
  },
  {
   "cell_type": "code",
   "execution_count": 6,
   "id": "fdc1658e",
   "metadata": {},
   "outputs": [
    {
     "name": "stdout",
     "output_type": "stream",
     "text": [
      "24\n"
     ]
    }
   ],
   "source": [
    "seconds_per_hour = 60 * 60\n",
    "hours_per_day = 24\n",
    "seconds_per_day = seconds_per_hour * hours_per_day\n",
    "\n",
    "result = seconds_per_day // seconds_per_hour\n",
    "print(result)\n"
   ]
  },
  {
   "cell_type": "markdown",
   "id": "ae4017da",
   "metadata": {},
   "source": [
    "### 7. Write a generator, genPrimes, that returns the sequence of prime numbers on successive calls to its next() method: 2, 3, 5, 7, 11, ..."
   ]
  },
  {
   "cell_type": "code",
   "execution_count": 7,
   "id": "2ad8e93a",
   "metadata": {},
   "outputs": [
    {
     "name": "stdout",
     "output_type": "stream",
     "text": [
      "2\n",
      "3\n",
      "5\n",
      "7\n",
      "11\n"
     ]
    }
   ],
   "source": [
    "def genPrimes():\n",
    "    primes = []  # List to store prime numbers\n",
    "    num = 2     # Start with the first prime number\n",
    "\n",
    "    while True:\n",
    "        if all(num % p != 0 for p in primes):\n",
    "            primes.append(num)\n",
    "            yield num  # Yield the current prime number\n",
    "        num += 1\n",
    "\n",
    "# Create an instance of the generator\n",
    "prime_generator = genPrimes()\n",
    "\n",
    "# Test the generator by printing the first few prime numbers\n",
    "print(next(prime_generator))  # Output: 2\n",
    "print(next(prime_generator))  # Output: 3\n",
    "print(next(prime_generator))  # Output: 5\n",
    "print(next(prime_generator))  # Output: 7\n",
    "print(next(prime_generator))  # Output: 11\n"
   ]
  },
  {
   "cell_type": "markdown",
   "id": "ea82e5b9",
   "metadata": {},
   "source": [
    "The genPrimes function uses a while loop to iterate indefinitely. \n",
    "\n",
    "It checks if a number num is prime by verifying that it is not divisible by any previously found prime numbers in the primes list. "
   ]
  }
 ],
 "metadata": {
  "kernelspec": {
   "display_name": "Python 3 (ipykernel)",
   "language": "python",
   "name": "python3"
  },
  "language_info": {
   "codemirror_mode": {
    "name": "ipython",
    "version": 3
   },
   "file_extension": ".py",
   "mimetype": "text/x-python",
   "name": "python",
   "nbconvert_exporter": "python",
   "pygments_lexer": "ipython3",
   "version": "3.9.13"
  }
 },
 "nbformat": 4,
 "nbformat_minor": 5
}

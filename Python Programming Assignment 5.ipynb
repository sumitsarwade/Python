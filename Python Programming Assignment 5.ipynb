{
 "cells": [
  {
   "cell_type": "markdown",
   "id": "1c636b27",
   "metadata": {},
   "source": [
    "## Python Programming Assignment 5"
   ]
  },
  {
   "cell_type": "markdown",
   "id": "b4b98f41",
   "metadata": {},
   "source": [
    "Python Program to Find LCM:"
   ]
  },
  {
   "cell_type": "code",
   "execution_count": 2,
   "id": "7312ec5e",
   "metadata": {},
   "outputs": [
    {
     "name": "stdout",
     "output_type": "stream",
     "text": [
      "Enter first number: 130\n",
      "Enter second number: 201\n",
      "The LCM of 130 and 201 is 26130\n"
     ]
    }
   ],
   "source": [
    "def find_lcm(x, y):\n",
    "    # Choose the greater number\n",
    "    if x > y:\n",
    "        greater = x\n",
    "    else:\n",
    "        greater = y\n",
    "    \n",
    "    while True:\n",
    "        if greater % x == 0 and greater % y == 0:\n",
    "            lcm = greater\n",
    "            break\n",
    "        greater += 1\n",
    "    \n",
    "    return lcm\n",
    "\n",
    "num1 = int(input(\"Enter first number: \"))\n",
    "num2 = int(input(\"Enter second number: \"))\n",
    "\n",
    "lcm = find_lcm(num1, num2)\n",
    "print(\"The LCM of\", num1, \"and\", num2, \"is\", lcm)"
   ]
  },
  {
   "cell_type": "markdown",
   "id": "74257236",
   "metadata": {},
   "source": [
    "Python Program to Find HCF:"
   ]
  },
  {
   "cell_type": "code",
   "execution_count": 4,
   "id": "56f08ce0",
   "metadata": {},
   "outputs": [
    {
     "name": "stdout",
     "output_type": "stream",
     "text": [
      "Enter first number: 201\n",
      "Enter second number: 301\n",
      "The HCF of 201 and 301 is 1\n"
     ]
    }
   ],
   "source": [
    "def find_hcf(x, y):\n",
    "    while y:\n",
    "        x, y = y, x % y\n",
    "    return x\n",
    "\n",
    "num1 = int(input(\"Enter first number: \"))\n",
    "num2 = int(input(\"Enter second number: \"))\n",
    "\n",
    "hcf = find_hcf(num1, num2)\n",
    "print(\"The HCF of\", num1, \"and\", num2, \"is\", hcf)"
   ]
  },
  {
   "cell_type": "markdown",
   "id": "89c03c3c",
   "metadata": {},
   "source": [
    "Python Program to Convert Decimal to Binary, Octal, and Hexadecimal:"
   ]
  },
  {
   "cell_type": "code",
   "execution_count": 8,
   "id": "bacc31ac",
   "metadata": {},
   "outputs": [
    {
     "name": "stdout",
     "output_type": "stream",
     "text": [
      "Enter a decimal number: 42\n",
      "Binary:  0b101010\n",
      "Octal:  0o52\n",
      "Hexadecimal:  0x2a\n"
     ]
    }
   ],
   "source": [
    "decimal = int(input(\"Enter a decimal number: \"))\n",
    "\n",
    "print(\"Binary: \", bin(decimal))\n",
    "print(\"Octal: \", oct(decimal))\n",
    "print(\"Hexadecimal: \", hex(decimal))"
   ]
  },
  {
   "cell_type": "markdown",
   "id": "05ea446e",
   "metadata": {},
   "source": [
    " Find ASCII value of a character:"
   ]
  },
  {
   "cell_type": "code",
   "execution_count": 9,
   "id": "3a9da13a",
   "metadata": {},
   "outputs": [
    {
     "name": "stdout",
     "output_type": "stream",
     "text": [
      "Enter a character: a\n",
      "The ASCII value of a is 97\n"
     ]
    }
   ],
   "source": [
    "char = input(\"Enter a character: \")\n",
    "\n",
    "print(\"The ASCII value of\", char, \"is\", ord(char))"
   ]
  },
  {
   "cell_type": "markdown",
   "id": "6096649c",
   "metadata": {},
   "source": [
    "Make a Simple Calculator with 4 basic mathematical operations:"
   ]
  },
  {
   "cell_type": "code",
   "execution_count": 10,
   "id": "bb38a60f",
   "metadata": {},
   "outputs": [
    {
     "name": "stdout",
     "output_type": "stream",
     "text": [
      "Select operation:\n",
      "1. Addition\n",
      "2. Subtraction\n",
      "3. Multiplication\n",
      "4. Division\n",
      "Enter your choice (1-4): 1\n",
      "Enter first number: 1\n",
      "Enter second number: 2\n",
      "1.0 + 2.0 = 3.0\n"
     ]
    }
   ],
   "source": [
    "def add(x, y):\n",
    "    return x + y\n",
    "\n",
    "def subtract(x, y):\n",
    "    return x - y\n",
    "\n",
    "def multiply(x, y):\n",
    "    return x * y\n",
    "\n",
    "def divide(x, y):\n",
    "    return x / y\n",
    "\n",
    "print(\"Select operation:\")\n",
    "print(\"1. Addition\")\n",
    "print(\"2. Subtraction\")\n",
    "print(\"3. Multiplication\")\n",
    "print(\"4. Division\")\n",
    "\n",
    "choice = int(input(\"Enter your choice (1-4): \"))\n",
    "\n",
    "num1 = float(input(\"Enter first number: \"))\n",
    "num2 = float(input(\"Enter second number: \"))\n",
    "\n",
    "if choice == 1:\n",
    "    result = add(num1, num2)\n",
    "    operation = \"+\"\n",
    "elif choice == 2:\n",
    "    result = subtract(num1, num2)\n",
    "    operation = \"-\"\n",
    "elif choice == 3:\n",
    "    result = multiply(num1, num2)\n",
    "    operation = \"*\"\n",
    "elif choice == 4:\n",
    "    result = divide(num1, num2)\n",
    "    operation = \"/\"\n",
    "\n",
    "print(num1, operation, num2, \"=\", result)"
   ]
  }
 ],
 "metadata": {
  "kernelspec": {
   "display_name": "Python 3 (ipykernel)",
   "language": "python",
   "name": "python3"
  },
  "language_info": {
   "codemirror_mode": {
    "name": "ipython",
    "version": 3
   },
   "file_extension": ".py",
   "mimetype": "text/x-python",
   "name": "python",
   "nbconvert_exporter": "python",
   "pygments_lexer": "ipython3",
   "version": "3.9.13"
  }
 },
 "nbformat": 4,
 "nbformat_minor": 5
}

{
 "cells": [
  {
   "cell_type": "markdown",
   "id": "b2e98e4a",
   "metadata": {},
   "source": [
    "## Python Advance Assignment 1"
   ]
  },
  {
   "cell_type": "markdown",
   "id": "a474bc59",
   "metadata": {},
   "source": [
    "#### Q1. What is the purpose of Pythons OOP?"
   ]
  },
  {
   "cell_type": "markdown",
   "id": "1df6f993",
   "metadata": {},
   "source": [
    "The purpose of Python's Object-Oriented Programming (OOP) is to provide a way to structure and organize code by representing real-world objects as classes and creating instances (objects) of those classes. OOP allows for code reusability, modularity, and encapsulation, making it easier to manage and maintain complex systems."
   ]
  },
  {
   "cell_type": "markdown",
   "id": "58f18fbc",
   "metadata": {},
   "source": [
    "#### Q2. Where does an inheritance search look for an attribute?"
   ]
  },
  {
   "cell_type": "markdown",
   "id": "4a435af4",
   "metadata": {},
   "source": [
    "Inheritance search for an attribute starts with the instance itself. If the attribute is not found, it looks in the class of the instance. If the attribute is still not found, it continues searching in the parent classes (superclasses) according to the method resolution order (MRO)."
   ]
  },
  {
   "cell_type": "markdown",
   "id": "b4d06235",
   "metadata": {},
   "source": [
    "#### Q3. How do you distinguish between a class object and an instance object?"
   ]
  },
  {
   "cell_type": "markdown",
   "id": "e8bd4a2b",
   "metadata": {},
   "source": [
    "A class object is an object that represents the class itself. It can be used to access class-level attributes and methods. \n",
    "\n",
    "\n",
    "An instance object, on the other hand, is an object created from a class using the class constructor. It represents a specific instance of the class and can access both class-level and instance-level attributes and methods."
   ]
  },
  {
   "cell_type": "markdown",
   "id": "fc3366c0",
   "metadata": {},
   "source": [
    "#### Q4. What makes the first argument in a class’s method function special?"
   ]
  },
  {
   "cell_type": "markdown",
   "id": "7a01e165",
   "metadata": {},
   "source": [
    "The first argument in a class's method function is typically named self, although the name itself is not special. However, it is a convention in Python to use self as the first parameter in instance methods. \n",
    "\n",
    "\n",
    "This parameter refers to the instance object that the method is called on. It allows the method to access and modify the instance's attributes and invoke other instance methods."
   ]
  },
  {
   "cell_type": "markdown",
   "id": "dbdeccfb",
   "metadata": {},
   "source": [
    "#### Q5. What is the purpose of the __init__ method?"
   ]
  },
  {
   "cell_type": "markdown",
   "id": "7beb4d84",
   "metadata": {},
   "source": [
    "The __init__ method is a special method in Python classes that is automatically called when a new instance of the class is created. It is used to initialize the attributes of the instance and perform any other necessary setup. The __init__ method is commonly used to receive arguments during object creation and assign them to instance variables."
   ]
  },
  {
   "cell_type": "markdown",
   "id": "b00a0d7a",
   "metadata": {},
   "source": [
    "#### Q6. What is the process for creating a class instance?"
   ]
  },
  {
   "cell_type": "markdown",
   "id": "93e07f36",
   "metadata": {},
   "source": [
    "Define the class: Create a class by using the class keyword followed by the class name and any parent classes inside parentheses (if inheritance is desired). Within the class, define attributes and methods that describe the behavior and characteristics of instances of the class.\n",
    "\n",
    "\n",
    "Create an instance: To create an instance of the class, call the class name followed by parentheses. This invokes the class's constructor, which initializes the instance and returns it. Assign the instance to a variable to be able to access and work with it."
   ]
  },
  {
   "cell_type": "code",
   "execution_count": 1,
   "id": "b32b16fb",
   "metadata": {},
   "outputs": [],
   "source": [
    "class MyClass:\n",
    "    def __init__(self, arg1, arg2):\n",
    "        self.arg1 = arg1\n",
    "        self.arg2 = arg2\n",
    "my_instance = MyClass(\"Hello\", 42)\n"
   ]
  },
  {
   "cell_type": "markdown",
   "id": "0e17ba3c",
   "metadata": {},
   "source": [
    "#### Q7. What is the process for creating a class?"
   ]
  },
  {
   "cell_type": "markdown",
   "id": "df49d90e",
   "metadata": {},
   "source": [
    "Use the class keyword followed by the name of the class (by convention, class names start with an uppercase letter).\n",
    "\n",
    "\n",
    "Define the attributes and methods of the class within the class block.\n",
    "\n",
    "\n",
    "Optionally, you can define a special method called __init__ to initialize the attributes of the class.\n",
    "You can also define other methods that define the behavior of the class.\n",
    "\n",
    "\n",
    "You can create instances (objects) of the class by calling the class as if it were a function, with any required arguments passed to it.\n",
    "\n",
    "\n",
    "You can access the attributes and methods of the class instances using dot notation (object_name.attribute_name or object_name.method_name())."
   ]
  },
  {
   "cell_type": "code",
   "execution_count": 12,
   "id": "c3764084",
   "metadata": {},
   "outputs": [
    {
     "name": "stdout",
     "output_type": "stream",
     "text": [
      "Hello, my name is sum and I'm 24 years old.\n"
     ]
    }
   ],
   "source": [
    "class Person:\n",
    "    def __init__(self, name, age):\n",
    "        self.name = name\n",
    "        self.age = age\n",
    "\n",
    "    def greet(self):\n",
    "        print(f\"Hello, my name is {self.name} and I'm {self.age} years old.\")\n",
    "\n",
    "# Creating an instance of the Person class\n",
    "person = Person(\"sum\", 24)\n",
    "person.greet()  # Output: Hello, my name is John and I'm 30 years old.\n"
   ]
  },
  {
   "cell_type": "markdown",
   "id": "9408bba4",
   "metadata": {},
   "source": [
    "#### Q8. How would you define the superclasses of a class?"
   ]
  },
  {
   "cell_type": "markdown",
   "id": "ace4c37b",
   "metadata": {},
   "source": [
    "The superclasses of a class are the parent classes from which the class inherits. In Python, when a class is defined, it can inherit attributes and methods from one or more parent classes. The superclasses are defined in the parentheses after the class name during class definition."
   ]
  },
  {
   "cell_type": "markdown",
   "id": "39cff12c",
   "metadata": {},
   "source": [
    "syntax\n",
    "\n",
    "\n",
    "class ChildClass(Superclass1, Superclass2, ...):\n",
    "    # Class definition"
   ]
  },
  {
   "cell_type": "markdown",
   "id": "fd78f075",
   "metadata": {},
   "source": [
    "The ChildClass is the name of the class you are defining, and Superclass1, Superclass2, and so on, are the names of the superclasses that the ChildClass inherits from. You can specify multiple superclasses separated by commas if you want the child class to inherit from more than one superclass.\n",
    "\n",
    "\n",
    "When a class inherits from one or more superclasses, it gains access to the attributes and methods defined in those superclasses. This allows you to reuse code and create class hierarchies where child classes inherit and extend the functionality of their parent classes."
   ]
  },
  {
   "cell_type": "code",
   "execution_count": 15,
   "id": "7fce2685",
   "metadata": {},
   "outputs": [
    {
     "name": "stdout",
     "output_type": "stream",
     "text": [
      "Buddy is eating.\n",
      "Woof!\n"
     ]
    }
   ],
   "source": [
    "class Animal:\n",
    "    def __init__(self, name):\n",
    "        self.name = name\n",
    "\n",
    "    def eat(self):\n",
    "        print(f\"{self.name} is eating.\")\n",
    "\n",
    "class Dog(Animal):\n",
    "    def bark(self):\n",
    "        print(\"Woof!\")\n",
    "\n",
    "dog = Dog(\"Buddy\")\n",
    "dog.eat()  \n",
    "dog.bark() "
   ]
  }
 ],
 "metadata": {
  "kernelspec": {
   "display_name": "Python 3 (ipykernel)",
   "language": "python",
   "name": "python3"
  },
  "language_info": {
   "codemirror_mode": {
    "name": "ipython",
    "version": 3
   },
   "file_extension": ".py",
   "mimetype": "text/x-python",
   "name": "python",
   "nbconvert_exporter": "python",
   "pygments_lexer": "ipython3",
   "version": "3.9.13"
  }
 },
 "nbformat": 4,
 "nbformat_minor": 5
}

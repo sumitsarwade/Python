{
 "cells": [
  {
   "cell_type": "markdown",
   "id": "f3c4d979",
   "metadata": {},
   "source": [
    "## Python Advance Assignment 3"
   ]
  },
  {
   "cell_type": "markdown",
   "id": "945fdac5",
   "metadata": {},
   "source": [
    "#### 1. What is the concept of an abstract superclass?"
   ]
  },
  {
   "cell_type": "markdown",
   "id": "00a3fd60",
   "metadata": {},
   "source": [
    "In object-oriented programming, an abstract superclass is a class that serves as a blueprint for other classes, but cannot be instantiated itself. It is designed to be inherited by other classes, which are referred to as subclasses or derived classes. The abstract superclass provides a common set of attributes, methods, and behaviors that can be shared by multiple subclasses.\n",
    "\n",
    "\n",
    "The key feature of an abstract superclass is that it defines one or more abstract methods. An abstract method is a method that is declared in the abstract superclass but does not have an implementation. Instead, the responsibility of providing the implementation lies with the subclasses. Each subclass that extends the abstract superclass must provide concrete implementations for all the abstract methods declared in the superclass. This enforces a contract between the superclass and its subclasses, ensuring that certain methods will always be implemented by any class derived from the abstract superclass."
   ]
  },
  {
   "cell_type": "markdown",
   "id": "67081f2a",
   "metadata": {},
   "source": [
    "Abstract superclasses are useful when you want to define common functionality and behavior that should be shared by multiple related classes, but the superclass itself is too abstract or incomplete to be instantiated on its own. By defining abstract methods, the superclass can define a set of required behaviors that must be implemented by its subclasses, ensuring a consistent interface across the hierarchy of classes.\n",
    "\n",
    "\n",
    "In many programming languages, including Java and C++, abstract superclasses are denoted by the \"abstract\" keyword in the class declaration. This keyword indicates that the class is abstract and cannot be instantiated. Additionally, abstract methods are declared using the \"abstract\" keyword in the method signature, and they do not contain a method body or implementation.\n",
    "\n",
    "\n",
    "To summarize, an abstract superclass is a class that provides a common blueprint for other classes, but cannot be instantiated. It defines abstract methods that must be implemented by its subclasses, ensuring a consistent interface and behavior across the derived classes."
   ]
  },
  {
   "cell_type": "markdown",
   "id": "74cfe61f",
   "metadata": {},
   "source": [
    "#### 2. What happens when a class statements top level contains a basic assignment statement?"
   ]
  },
  {
   "cell_type": "markdown",
   "id": "002b9bce",
   "metadata": {},
   "source": [
    "When a class statement's top level contains a basic assignment statement, it is typically used to define a class variable.\n",
    "\n",
    "\n",
    "A class variable is a variable that belongs to the class itself rather than to any particular instance of the class. This means that the variable is shared among all instances of the class."
   ]
  },
  {
   "cell_type": "code",
   "execution_count": 1,
   "id": "adf1a73b",
   "metadata": {},
   "outputs": [],
   "source": [
    "class MyClass:\n",
    "    class_variable = 10\n",
    "\n",
    "    def __init__(self):\n",
    "        self.instance_variable = 20"
   ]
  },
  {
   "cell_type": "markdown",
   "id": "caf845d7",
   "metadata": {},
   "source": [
    "In the above example, the class_variable is defined within the class statement at the top level, and its value is set to 10. This means that class_variable is a class variable and is accessible to all instances of the MyClass class.\n",
    "\n",
    "\n",
    "\n",
    "On the other hand, the instance_variable is defined within the __init__ method, which is an instance method. This variable is specific to each instance of the class. When you create multiple instances of the MyClass class, each instance will have its own copy of the instance_variable with a value of 20.\n",
    "\n",
    "\n",
    "\n",
    "Accessing the class variable can be done using the class name itself or through an instance of the class:"
   ]
  },
  {
   "cell_type": "code",
   "execution_count": 2,
   "id": "734added",
   "metadata": {},
   "outputs": [
    {
     "name": "stdout",
     "output_type": "stream",
     "text": [
      "10\n",
      "10\n",
      "10\n"
     ]
    }
   ],
   "source": [
    "print(MyClass.class_variable)  \n",
    "obj1 = MyClass()\n",
    "print(obj1.class_variable)    \n",
    "obj2 = MyClass()\n",
    "print(obj2.class_variable)    "
   ]
  },
  {
   "cell_type": "markdown",
   "id": "bfe3d400",
   "metadata": {},
   "source": [
    "In the above code, we can see that the class_variable is accessible both through the class name MyClass and through the instances obj1 and obj2. Since the class variable is shared among all instances, any modification to it will be reflected in all instances:"
   ]
  },
  {
   "cell_type": "code",
   "execution_count": 3,
   "id": "fdc14021",
   "metadata": {},
   "outputs": [
    {
     "name": "stdout",
     "output_type": "stream",
     "text": [
      "20\n",
      "20\n"
     ]
    }
   ],
   "source": [
    "MyClass.class_variable = 20\n",
    "print(obj1.class_variable)     \n",
    "print(obj2.class_variable)     "
   ]
  },
  {
   "cell_type": "markdown",
   "id": "4d72a24a",
   "metadata": {},
   "source": [
    "In this case, changing the value of class_variable to 20 will affect all instances, and their class_variable value will be updated accordingly."
   ]
  },
  {
   "cell_type": "markdown",
   "id": "44468607",
   "metadata": {},
   "source": [
    "#### 3. Why does a class need to manually call a superclass&#39;s __init__ method?"
   ]
  },
  {
   "cell_type": "markdown",
   "id": "2fad2352",
   "metadata": {},
   "source": [
    "In object-oriented programming, a class may need to manually call a superclass's __init__ method in order to properly initialize the inherited attributes and behavior defined in the superclass. This is especially important when the subclass wants to extend the functionality of the superclass while still preserving its initialization process.\n",
    "\n",
    "\n",
    "When a class inherits from a superclass, it gains access to all the attributes and methods defined in the superclass. However, the subclass may have additional attributes or behaviors of its own that require initialization. By calling the superclass's __init__ method within the subclass's __init__ method, you ensure that the superclass's initialization code is executed before the subclass-specific code."
   ]
  },
  {
   "cell_type": "code",
   "execution_count": 5,
   "id": "c4472a0a",
   "metadata": {},
   "outputs": [],
   "source": [
    "class Superclass:\n",
    "    def __init__(self, x):\n",
    "        self.x = x\n",
    "\n",
    "\n",
    "class Subclass(Superclass):\n",
    "    def __init__(self, x, y):\n",
    "        super().__init__(x)  # Call superclass's __init__ method\n",
    "        self.y = y"
   ]
  },
  {
   "cell_type": "markdown",
   "id": "b00bcdae",
   "metadata": {},
   "source": [
    "#### 4. How can you augment, instead of completely replacing, an inherited method?"
   ]
  },
  {
   "cell_type": "markdown",
   "id": "5cbbe68c",
   "metadata": {},
   "source": [
    "In object-oriented programming, when you inherit a method from a parent class, you have the option to augment or extend the functionality of that method in the child class, rather than completely replacing it. This is achieved through a mechanism called method overriding.\n",
    "\n",
    "\n",
    "Method overriding allows you to provide a new implementation for a method in the child class, while still retaining the basic structure and behavior of the inherited method. The process involves the following steps:\n",
    "\n",
    "\n",
    "Inherit the method: Begin by creating a child class that extends or inherits from the parent class which contains the method you want to augment.\n",
    "\n",
    "\n",
    "Define a method with the same signature: In the child class, define a method with the same name, return type, and parameters as the method you want to augment. This establishes a link between the parent and child class methods.\n",
    "\n",
    "\n",
    "Add the desired functionality: Within the method in the child class, you can write additional code that augments or extends the behavior of the inherited method. This could involve performing additional calculations, modifying variables, or invoking the parent class method as needed.\n",
    "\n",
    "\n",
    "Call the parent class method: If you want to retain the original behavior of the inherited method, you can explicitly call the parent class method within the child class method. This allows you to leverage the existing functionality while adding new features."
   ]
  },
  {
   "cell_type": "code",
   "execution_count": 1,
   "id": "968efc11",
   "metadata": {},
   "outputs": [
    {
     "name": "stdout",
     "output_type": "stream",
     "text": [
      "This is an augmented method in the child class.\n",
      "This is the inherited method in the parent class.\n"
     ]
    }
   ],
   "source": [
    "class ParentClass:\n",
    "    def inherited_method(self):\n",
    "        print(\"This is the inherited method in the parent class.\")\n",
    "\n",
    "class ChildClass(ParentClass):\n",
    "    def inherited_method(self):\n",
    "        print(\"This is an augmented method in the child class.\")\n",
    "        # Additional functionality\n",
    "        # ...\n",
    "        # Call the parent class method\n",
    "        super().inherited_method()\n",
    "\n",
    "# Create an instance of the child class\n",
    "child = ChildClass()\n",
    "\n",
    "# Call the augmented method\n",
    "child.inherited_method()"
   ]
  },
  {
   "cell_type": "markdown",
   "id": "a8763d24",
   "metadata": {},
   "source": [
    "#### 5. How is the local scope of a class different from that of a function?"
   ]
  },
  {
   "cell_type": "markdown",
   "id": "aa0163d7",
   "metadata": {},
   "source": [
    "Purpose:\n",
    "\n",
    "\n",
    "Local scope in a function: The local scope within a function is used to define and store variables that are specific to that function. These variables are temporary and exist only during the execution of the function. They are used to perform computations, store intermediate results, and facilitate the execution of the function.\n",
    "Local scope in a class: The local scope within a class is used to define and store instance variables and methods. These variables and methods are associated with specific instances (objects) of the class. They define the state and behavior of the objects and can be accessed and manipulated by the instance and its methods.\n",
    "Accessibility:\n",
    "\n",
    "\n",
    "Local scope in a function: Variables defined within a function's local scope are accessible only within that function. They cannot be accessed from outside the function or from other functions.\n",
    "Local scope in a class: Variables and methods defined within a class's local scope (i.e., inside a method) are accessible to all other methods within the class. They can be accessed using the self keyword, which refers to the current instance of the class. These variables and methods can be accessed and modified from within other methods of the class."
   ]
  },
  {
   "cell_type": "code",
   "execution_count": 2,
   "id": "938a6d8b",
   "metadata": {},
   "outputs": [
    {
     "name": "stdout",
     "output_type": "stream",
     "text": [
      "20\n",
      "20\n",
      "10\n",
      "10\n",
      "20\n",
      "10\n",
      "30\n",
      "40\n"
     ]
    }
   ],
   "source": [
    "class MyClass:\n",
    "    class_variable = 10  # Class variable accessible to all instances\n",
    "\n",
    "    def __init__(self):\n",
    "        self.instance_variable = 20  \n",
    "\n",
    "    def my_method(self):\n",
    "        local_variable = 30  \n",
    "\n",
    "        # Accessing instance variable\n",
    "        print(self.instance_variable)\n",
    "\n",
    "        # Accessing class variable\n",
    "        print(MyClass.class_variable)\n",
    "\n",
    "        # Accessing local variable\n",
    "        print(local_variable)\n",
    "\n",
    "        # Modifying instance variable\n",
    "        self.instance_variable = 40\n",
    "\n",
    "# Creating instances of MyClass\n",
    "obj1 = MyClass()\n",
    "obj2 = MyClass()\n",
    "\n",
    "# Accessing instance variables\n",
    "print(obj1.instance_variable)  \n",
    "print(obj2.instance_variable) \n",
    "\n",
    "# Accessing class variables\n",
    "print(obj1.class_variable)  \n",
    "print(obj2.class_variable)  \n",
    "\n",
    "# Calling instance method\n",
    "obj1.my_method() \n",
    "\n",
    "# Modified instance variable\n",
    "print(obj1.instance_variable)  "
   ]
  },
  {
   "cell_type": "markdown",
   "id": "e98c183d",
   "metadata": {},
   "source": [
    "In this example, the local scope within the method my_method() of the MyClass class contains a local variable local_variable, which is specific to that method. It also has access to the instance variable instance_variable and the class variable class_variable"
   ]
  }
 ],
 "metadata": {
  "kernelspec": {
   "display_name": "Python 3 (ipykernel)",
   "language": "python",
   "name": "python3"
  },
  "language_info": {
   "codemirror_mode": {
    "name": "ipython",
    "version": 3
   },
   "file_extension": ".py",
   "mimetype": "text/x-python",
   "name": "python",
   "nbconvert_exporter": "python",
   "pygments_lexer": "ipython3",
   "version": "3.9.13"
  }
 },
 "nbformat": 4,
 "nbformat_minor": 5
}

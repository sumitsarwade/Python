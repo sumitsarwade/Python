{
 "cells": [
  {
   "cell_type": "markdown",
   "id": "5418c043",
   "metadata": {},
   "source": [
    "## Python Assignment 9"
   ]
  },
  {
   "cell_type": "markdown",
   "id": "3062f26b",
   "metadata": {},
   "source": [
    "### 1. To what does a relative path refer?"
   ]
  },
  {
   "cell_type": "markdown",
   "id": "a6da9bc3",
   "metadata": {},
   "source": [
    "A relative path refers to the location of a file or directory in relation to the current working directory.\n",
    "\n",
    "Relative paths are often used when navigating and referencing files or directories within a project or system. They are convenient because they can adapt to different directory structures and can be easily moved or shared without breaking the file references."
   ]
  },
  {
   "cell_type": "markdown",
   "id": "bd6e9057",
   "metadata": {},
   "source": [
    "### 2. What does an absolute path start with your operating system?"
   ]
  },
  {
   "cell_type": "markdown",
   "id": "7afa0c7e",
   "metadata": {},
   "source": [
    "I have Windows so, an absolute path typically starts with a drive letter followed by a colon (e.g., \"C:\"). \n",
    "as well as i have linux inside vm so in Linux, an absolute path starts with a forward slash (/). "
   ]
  },
  {
   "cell_type": "markdown",
   "id": "95023787",
   "metadata": {},
   "source": [
    "### 3. What do the functions os.getcwd() and os.chdir() do?"
   ]
  },
  {
   "cell_type": "markdown",
   "id": "df44304c",
   "metadata": {},
   "source": [
    "os.getcwd(): This function returns the current working directory as a string. The current working directory is the directory in which the Python script is currently executing. It represents the default location where files and directories are accessed if their paths are not explicitly specified.\n",
    "\n",
    "\n",
    "os.chdir(path): This function changes the current working directory to the specified path. It takes a string argument path, which represents the new directory to which you want to navigate."
   ]
  },
  {
   "cell_type": "markdown",
   "id": "9a9307e9",
   "metadata": {},
   "source": [
    "### 4. What are the . and .. folders?"
   ]
  },
  {
   "cell_type": "markdown",
   "id": "dec9b141",
   "metadata": {},
   "source": [
    ". (dot): The dot represents the current directory. It is used to refer to the current working directory or the directory you are currently in. For example, if you are in the /home/user/documents directory, the . refers to /home/user/documents itself.\n",
    "\n",
    ".. (dot dot): The dot dot represents the parent directory. It is used to refer to the directory immediately above the current directory. It allows you to navigate up one level in the directory hierarchy. For example, if you are in the /home/user/documents directory, .. refers to /home/user.\n",
    "\n"
   ]
  },
  {
   "cell_type": "markdown",
   "id": "42af46e5",
   "metadata": {},
   "source": [
    "### 5. In C:\\bacon\\eggs\\spam.txt, which part is the dir name, and which part is the base name?"
   ]
  },
  {
   "cell_type": "markdown",
   "id": "358dfd4a",
   "metadata": {},
   "source": [
    "The directory name (dir name) is \"C:\\bacon\\eggs\". It represents the path to the directory where the file \"spam.txt\" is located.\n",
    "\n",
    "The base name is \"spam.txt\". It refers to the actual name of the file itself, without the directory path."
   ]
  },
  {
   "cell_type": "markdown",
   "id": "75a7141c",
   "metadata": {},
   "source": [
    "### 6. What are the three “mode” arguments that can be passed to the open() function?"
   ]
  },
  {
   "cell_type": "markdown",
   "id": "d1dd08ad",
   "metadata": {},
   "source": [
    "'r' (read mode): This is the default mode when no mode argument is specified. It opens the file for reading. You can only read data from the file in this mode and cannot modify or write to it.\n",
    "\n",
    "'w' (write mode): This mode opens the file for writing. If the file already exists, it truncates its contents, i.e., removes all existing data. If the file does not exist, it creates a new file. You can write data to the file using methods like write().\n",
    "\n",
    "'a' (append mode): This mode opens the file for appending data. If the file exists, the new data is added at the end of the file. If the file does not exist, it creates a new file. You can append data to the file using methods like write()."
   ]
  },
  {
   "cell_type": "markdown",
   "id": "8caffc7f",
   "metadata": {},
   "source": [
    "### 7. What happens if an existing file is opened in write mode?"
   ]
  },
  {
   "cell_type": "markdown",
   "id": "1bc1c8ed",
   "metadata": {},
   "source": [
    "If the file already exists: Opening the file in write mode truncates its contents, i.e., it erases all the existing data in the file, making it empty. After opening the file in write mode, any write operations performed on the file will overwrite its contents.\n",
    "\n",
    "If the file does not exist: If the file specified does not exist, the open() function creates a new file with the given name and opens it in write mode. You can then write data to the newly created file."
   ]
  },
  {
   "cell_type": "markdown",
   "id": "cdeb1470",
   "metadata": {},
   "source": [
    "### 8. How do you tell the difference between read() and readlines()?"
   ]
  },
  {
   "cell_type": "markdown",
   "id": "3ca11c5b",
   "metadata": {},
   "source": [
    "read(): The read() method is used to read the entire contents of a file as a single string. It reads all the characters or bytes from the file, starting from the current position, up to the end of the file. The resulting string includes newline characters (\\n) and other special characters present in the file.\n",
    "\n",
    "readlines(): The readlines() method is used to read all the lines from a file and return them as a list of strings. Each line in the file becomes a separate string element in the list. The newline characters at the end of each line are also included in the strings."
   ]
  },
  {
   "cell_type": "markdown",
   "id": "6fef9208",
   "metadata": {},
   "source": [
    "### 9. What data structure does a shelf value resemble?"
   ]
  },
  {
   "cell_type": "markdown",
   "id": "e333fff2",
   "metadata": {},
   "source": [
    "In Python, the shelf module provides a dictionary-like interface for accessing and storing persistent data. It is used to create and manipulate a special type of database called a \"shelf\" or \"persistent dictionary\". The data structure used by a shelf value resembles a dictionary.\n",
    "\n",
    "\n",
    "The shelf data structure can be seen as a key-value store where each key is associated with a value, similar to a dictionary. However, unlike dictionaries, shelf values are persistent and stored on disk, allowing the data to be preserved between program executions.\n",
    "\n",
    "The keys and values in a shelf can be of any basic Python data type, as long as they are \"pickleable\", meaning they can be serialized using Python's pickle module."
   ]
  }
 ],
 "metadata": {
  "kernelspec": {
   "display_name": "Python 3 (ipykernel)",
   "language": "python",
   "name": "python3"
  },
  "language_info": {
   "codemirror_mode": {
    "name": "ipython",
    "version": 3
   },
   "file_extension": ".py",
   "mimetype": "text/x-python",
   "name": "python",
   "nbconvert_exporter": "python",
   "pygments_lexer": "ipython3",
   "version": "3.9.13"
  }
 },
 "nbformat": 4,
 "nbformat_minor": 5
}

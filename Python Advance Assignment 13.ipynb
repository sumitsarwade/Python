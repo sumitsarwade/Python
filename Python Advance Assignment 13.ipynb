{
 "cells": [
  {
   "cell_type": "markdown",
   "id": "5413c7b6",
   "metadata": {},
   "source": [
    "## Python Advance Assignment 13"
   ]
  },
  {
   "cell_type": "markdown",
   "id": "4011530e",
   "metadata": {},
   "source": [
    "#### Q1. Can you create a programme or function that employs both positive and negative indexing? Is there any repercussion if you do so?"
   ]
  },
  {
   "cell_type": "code",
   "execution_count": 2,
   "id": "0c580dea",
   "metadata": {},
   "outputs": [
    {
     "name": "stdout",
     "output_type": "stream",
     "text": [
      "H\n",
      "!\n"
     ]
    }
   ],
   "source": [
    "def get_character(string, index):\n",
    "    if index >= 0:\n",
    "        return string[index]\n",
    "    else:\n",
    "        return string[len(string) + index]\n",
    "\n",
    "# Example usage\n",
    "my_string = \"Hello, World!\"\n",
    "print(get_character(my_string, 0))    \n",
    "print(get_character(my_string, -1))   # Output: '!'"
   ]
  },
  {
   "cell_type": "markdown",
   "id": "593d3a07",
   "metadata": {},
   "source": [
    "In this program, the get_character function takes a string and an index as input. If the index is positive or zero, it uses positive indexing to retrieve the character at that index. If the index is negative, it calculates the corresponding positive index by adding it to the length of the string and then retrieves the character at that index.\n",
    "\n",
    "\n",
    "One potential repercussion of using both positive and negative indexing is the potential for confusion and readability issues in your code. It can make the code less clear and harder to understand, especially for others who may read or maintain the code in the future. It's generally recommended to use either positive or negative indexing consistently in your code to enhance readability and avoid confusion."
   ]
  },
  {
   "cell_type": "markdown",
   "id": "b15055eb",
   "metadata": {},
   "source": [
    "#### Q2. What is the most effective way of starting with 1,000 elements in a Python list? Assume that all elements should be set to the same value."
   ]
  },
  {
   "cell_type": "markdown",
   "id": "07884216",
   "metadata": {},
   "source": [
    "The most effective way to create a Python list with 1,000 elements, all set to the same value, is to use the multiplication operator * with a list containing the desired value:"
   ]
  },
  {
   "cell_type": "raw",
   "id": "aaf3bff0",
   "metadata": {},
   "source": [
    "my_list = [initial_value] * 1000"
   ]
  },
  {
   "cell_type": "markdown",
   "id": "4be936c8",
   "metadata": {},
   "source": [
    "#### Q3. How do you slice a list to get any other part while missing the rest? (For example, suppose you want to make a new list with the elements first, third, fifth, seventh, and so on.)"
   ]
  },
  {
   "cell_type": "markdown",
   "id": "778cf6f3",
   "metadata": {},
   "source": [
    "To slice a list and get specific elements while skipping the rest, you can use the slice notation with a step value. The step value determines the stride or the number of elements to skip between each selected element. In your example, to get the elements at indices first, third, fifth, seventh, and so on, you can specify a step value of 2:"
   ]
  },
  {
   "cell_type": "code",
   "execution_count": 4,
   "id": "9c100c76",
   "metadata": {},
   "outputs": [],
   "source": [
    "original_list = [1, 2, 3, 4, 5, 6, 7, 8, 9, 10]\n",
    "new_list = original_list[::2]"
   ]
  },
  {
   "cell_type": "markdown",
   "id": "dffa3db1",
   "metadata": {},
   "source": [
    "#### Q4. Explain the distinctions between indexing and slicing."
   ]
  },
  {
   "cell_type": "markdown",
   "id": "ca12902b",
   "metadata": {},
   "source": [
    "Indexing: Indexing refers to accessing a specific element in a sequence, such as a list or a string, using its position or index. Indexing is performed using square brackets [] with the index value specified inside the brackets. In Python, indexing starts from 0 for the first element, -1 for the last element, and allows both positive and negative indices. Indexing retrieves a single element at a specific position.\n",
    "\n",
    "\n",
    "Slicing: Slicing refers to extracting a contiguous portion or a subset of elements from a sequence. It allows you to create a new sequence that includes a range of elements. Slicing is performed using the slice notation start:end:step inside square brackets []. The start index represents the beginning of the slice, the end index represents the end of the slice (exclusive), and the step value represents the stride or the number of elements to skip between each selected element. Slicing returns a new sequence containing the selected elements."
   ]
  },
  {
   "cell_type": "markdown",
   "id": "2f1e4247",
   "metadata": {},
   "source": [
    "#### Q5. What happens if one of the slicing expression&#39;s indexes is out of range?"
   ]
  },
  {
   "cell_type": "markdown",
   "id": "1db884da",
   "metadata": {},
   "source": [
    "If the start index is out of range, Python sets it to the first index of the sequence.\n",
    "\n",
    "\n",
    "If the end index is out of range, Python sets it to the last index of the sequence.\n",
    "\n",
    "\n",
    "For example, consider the list my_list = [1, 2, 3, 4, 5]. If you try to slice it using my_list[2:10], where the end index is out of range, Python will adjust it to the last valid index and perform the slice as my_list[2:5], resulting in [3, 4, 5]."
   ]
  },
  {
   "cell_type": "markdown",
   "id": "902dd80b",
   "metadata": {},
   "source": [
    "#### Q6. If you pass a list to a function, and if you want the function to be able to change the values of the list—so that the list is different after the function returns—what action should you avoid?"
   ]
  },
  {
   "cell_type": "markdown",
   "id": "9b387d4f",
   "metadata": {},
   "source": [
    "If you pass a list to a function and you want the function to be able to change the values of the list, you should avoid reassigning the passed list parameter to a new list object. If you create a new list object and assign it to the list parameter, it will not affect the original list that was passed into the function.\n",
    "\n",
    "\n",
    "To modify the original list inside the function, you can use indexing or slice assignments to change the values of the list elements, or you can use list methods that modify the list in-place. For example:"
   ]
  },
  {
   "cell_type": "code",
   "execution_count": 5,
   "id": "22958333",
   "metadata": {},
   "outputs": [
    {
     "name": "stdout",
     "output_type": "stream",
     "text": [
      "['New value', 10, 20, 30, 40, 50]\n"
     ]
    }
   ],
   "source": [
    "def modify_list(my_list):\n",
    "    # Option 1: Modify elements using indexing\n",
    "    my_list[0] = \"New value\"\n",
    "\n",
    "    # Option 2: Modify elements using slice assignment\n",
    "    my_list[1:3] = [10, 20]\n",
    "\n",
    "    # Option 3: Use list methods that modify the list in-place\n",
    "    my_list.append(30)\n",
    "    my_list.extend([40, 50])\n",
    "\n",
    "# Example usage\n",
    "my_list = [1, 2, 3]\n",
    "modify_list(my_list)\n",
    "print(my_list)"
   ]
  },
  {
   "cell_type": "markdown",
   "id": "95caff3d",
   "metadata": {},
   "source": [
    "#### Q7. What is the concept of an unbalanced matrix?"
   ]
  },
  {
   "cell_type": "markdown",
   "id": "86becd55",
   "metadata": {},
   "source": [
    "The concept of an unbalanced matrix typically refers to a matrix (2D array) where the number of elements in each row is different. In an unbalanced matrix, the rows have varying lengths, which means the number of columns may differ between rows."
   ]
  },
  {
   "cell_type": "raw",
   "id": "c019ef53",
   "metadata": {},
   "source": [
    "[\n",
    "  [1, 2, 3],\n",
    "  [4, 5],\n",
    "  [6, 7, 8, 9]\n",
    "]\n"
   ]
  },
  {
   "cell_type": "markdown",
   "id": "a0ac4c5f",
   "metadata": {},
   "source": [
    "In this example, the first row has three elements, the second row has two elements, and the third row has four elements. This makes the matrix unbalanced because the row lengths are not equal.\n",
    "\n",
    "\n",
    "Unbalanced matrices can pose challenges when performing operations or calculations that assume a regular grid of elements. Some operations may need to take the varying row lengths into account to ensure correct results."
   ]
  }
 ],
 "metadata": {
  "kernelspec": {
   "display_name": "Python 3 (ipykernel)",
   "language": "python",
   "name": "python3"
  },
  "language_info": {
   "codemirror_mode": {
    "name": "ipython",
    "version": 3
   },
   "file_extension": ".py",
   "mimetype": "text/x-python",
   "name": "python",
   "nbconvert_exporter": "python",
   "pygments_lexer": "ipython3",
   "version": "3.9.13"
  }
 },
 "nbformat": 4,
 "nbformat_minor": 5
}

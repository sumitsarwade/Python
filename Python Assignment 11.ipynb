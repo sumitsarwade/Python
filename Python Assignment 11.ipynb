{
 "cells": [
  {
   "cell_type": "markdown",
   "id": "ea4cecf0",
   "metadata": {},
   "source": [
    "## Python Assignment 11"
   ]
  },
  {
   "cell_type": "markdown",
   "id": "68265d36",
   "metadata": {},
   "source": [
    "### 1. Create an assert statement that throws an AssertionError if the variable spam is a negative integer."
   ]
  },
  {
   "cell_type": "code",
   "execution_count": 1,
   "id": "4b0c7d87",
   "metadata": {},
   "outputs": [
    {
     "ename": "AssertionError",
     "evalue": "spam should be a non-negative integer",
     "output_type": "error",
     "traceback": [
      "\u001b[1;31m---------------------------------------------------------------------------\u001b[0m",
      "\u001b[1;31mAssertionError\u001b[0m                            Traceback (most recent call last)",
      "\u001b[1;32mC:\\conda_tmp\\ipykernel_20108\\3461447902.py\u001b[0m in \u001b[0;36m<module>\u001b[1;34m\u001b[0m\n\u001b[0;32m      1\u001b[0m \u001b[0mspam\u001b[0m \u001b[1;33m=\u001b[0m \u001b[1;33m-\u001b[0m\u001b[1;36m5\u001b[0m\u001b[1;33m\u001b[0m\u001b[1;33m\u001b[0m\u001b[0m\n\u001b[0;32m      2\u001b[0m \u001b[1;33m\u001b[0m\u001b[0m\n\u001b[1;32m----> 3\u001b[1;33m \u001b[1;32massert\u001b[0m \u001b[0mspam\u001b[0m \u001b[1;33m>=\u001b[0m \u001b[1;36m0\u001b[0m\u001b[1;33m,\u001b[0m \u001b[1;34m\"spam should be a non-negative integer\"\u001b[0m\u001b[1;33m\u001b[0m\u001b[1;33m\u001b[0m\u001b[0m\n\u001b[0m",
      "\u001b[1;31mAssertionError\u001b[0m: spam should be a non-negative integer"
     ]
    }
   ],
   "source": [
    "spam = -5\n",
    "\n",
    "assert spam >= 0, \"spam should be a non-negative integer\"\n"
   ]
  },
  {
   "cell_type": "markdown",
   "id": "216a4160",
   "metadata": {},
   "source": [
    "### 2. Write an assert statement that triggers an AssertionError if the variables eggs and bacon containstrings that are the same as each other, even if their cases are different (that is, &#39;hello&#39; and &#39;hello&#39; areconsidered the same, and &#39;goodbye&#39; and &#39;GOODbye&#39; are also considered the same)."
   ]
  },
  {
   "cell_type": "code",
   "execution_count": 2,
   "id": "ee2a8e91",
   "metadata": {},
   "outputs": [
    {
     "ename": "AssertionError",
     "evalue": "eggs and bacon strings should not be the same",
     "output_type": "error",
     "traceback": [
      "\u001b[1;31m---------------------------------------------------------------------------\u001b[0m",
      "\u001b[1;31mAssertionError\u001b[0m                            Traceback (most recent call last)",
      "\u001b[1;32mC:\\conda_tmp\\ipykernel_20108\\3827959791.py\u001b[0m in \u001b[0;36m<module>\u001b[1;34m\u001b[0m\n\u001b[0;32m      2\u001b[0m \u001b[0mbacon\u001b[0m \u001b[1;33m=\u001b[0m \u001b[1;34m'hello'\u001b[0m\u001b[1;33m\u001b[0m\u001b[1;33m\u001b[0m\u001b[0m\n\u001b[0;32m      3\u001b[0m \u001b[1;33m\u001b[0m\u001b[0m\n\u001b[1;32m----> 4\u001b[1;33m \u001b[1;32massert\u001b[0m \u001b[0meggs\u001b[0m\u001b[1;33m.\u001b[0m\u001b[0mlower\u001b[0m\u001b[1;33m(\u001b[0m\u001b[1;33m)\u001b[0m \u001b[1;33m!=\u001b[0m \u001b[0mbacon\u001b[0m\u001b[1;33m.\u001b[0m\u001b[0mlower\u001b[0m\u001b[1;33m(\u001b[0m\u001b[1;33m)\u001b[0m\u001b[1;33m,\u001b[0m \u001b[1;34m\"eggs and bacon strings should not be the same\"\u001b[0m\u001b[1;33m\u001b[0m\u001b[1;33m\u001b[0m\u001b[0m\n\u001b[0m\u001b[0;32m      5\u001b[0m \u001b[1;33m\u001b[0m\u001b[0m\n",
      "\u001b[1;31mAssertionError\u001b[0m: eggs and bacon strings should not be the same"
     ]
    }
   ],
   "source": [
    "eggs = 'Hello'\n",
    "bacon = 'hello'\n",
    "\n",
    "assert eggs.lower() != bacon.lower(), \"eggs and bacon strings should not be the same\"\n",
    "\n"
   ]
  },
  {
   "cell_type": "markdown",
   "id": "b7566f66",
   "metadata": {},
   "source": [
    "### 3. Create an assert statement that throws an AssertionError every time."
   ]
  },
  {
   "cell_type": "code",
   "execution_count": 3,
   "id": "9334d13e",
   "metadata": {},
   "outputs": [
    {
     "ename": "AssertionError",
     "evalue": "This assert statement always throws an AssertionError",
     "output_type": "error",
     "traceback": [
      "\u001b[1;31m---------------------------------------------------------------------------\u001b[0m",
      "\u001b[1;31mAssertionError\u001b[0m                            Traceback (most recent call last)",
      "\u001b[1;32mC:\\conda_tmp\\ipykernel_20108\\1454390843.py\u001b[0m in \u001b[0;36m<module>\u001b[1;34m\u001b[0m\n\u001b[1;32m----> 1\u001b[1;33m \u001b[1;32massert\u001b[0m \u001b[1;32mFalse\u001b[0m\u001b[1;33m,\u001b[0m \u001b[1;34m\"This assert statement always throws an AssertionError\"\u001b[0m\u001b[1;33m\u001b[0m\u001b[1;33m\u001b[0m\u001b[0m\n\u001b[0m",
      "\u001b[1;31mAssertionError\u001b[0m: This assert statement always throws an AssertionError"
     ]
    }
   ],
   "source": [
    "assert False, \"This assert statement always throws an AssertionError\"\n"
   ]
  },
  {
   "cell_type": "markdown",
   "id": "ddf04d27",
   "metadata": {},
   "source": [
    "### 4. What are the two lines that must be present in your software in order to call logging.debug()?"
   ]
  },
  {
   "cell_type": "code",
   "execution_count": 4,
   "id": "b9ba521a",
   "metadata": {},
   "outputs": [],
   "source": [
    "import logging\n",
    "logging.basicConfig(level=logging.DEBUG)\n"
   ]
  },
  {
   "cell_type": "markdown",
   "id": "abf69c84",
   "metadata": {},
   "source": [
    "The first line import logging imports the logging module, which provides the logging functionality in Python.\n",
    "\n",
    "The second line logging.basicConfig(level=logging.DEBUG) configures the logging system. It sets the logging level to DEBUG, which means that the debug() function and all the log messages with a severity level of DEBUG or higher will be processed and displayed."
   ]
  },
  {
   "cell_type": "markdown",
   "id": "61e39eb6",
   "metadata": {},
   "source": [
    "### 5. What are the two lines that your program must have in order to have logging.debug() send alogging message to a file named programLog.txt?"
   ]
  },
  {
   "cell_type": "code",
   "execution_count": 5,
   "id": "4f2fc8d7",
   "metadata": {},
   "outputs": [],
   "source": [
    "import logging\n",
    "\n",
    "# Configure logging to send messages to a file\n",
    "logging.basicConfig(filename='programLog.txt', level=logging.DEBUG)\n"
   ]
  },
  {
   "cell_type": "markdown",
   "id": "ad0b62ed",
   "metadata": {},
   "source": [
    "The first line import logging imports the logging module, which provides the logging functionality in Python.\n",
    "\n",
    "The second line logging.basicConfig(filename='programLog.txt', level=logging.DEBUG) configures the logging system. It sets the logging level to DEBUG and specifies the filename parameter as 'programLog.txt'. This tells the logging system to send the log messages to the specified file instead of the default output (console)."
   ]
  },
  {
   "cell_type": "markdown",
   "id": "861c0750",
   "metadata": {},
   "source": [
    "### 6. What are the five levels of logging?"
   ]
  },
  {
   "cell_type": "markdown",
   "id": "60e750e8",
   "metadata": {},
   "source": [
    "DEBUG: Detailed information, typically used for diagnostic purposes. This level provides the most detailed logging messages.\n",
    "\n",
    "\n",
    "INFO: Confirmation that things are working as expected. It provides information about the general flow of the program.\n",
    "\n",
    "\n",
    "WARNING: Indication of potential issues or unexpected occurrences that are not necessarily errors. The program can still continue running normally.\n",
    "\n",
    "\n",
    "ERROR: Record of an error that caused a specific function or operation to fail. It indicates a more serious issue, but the program can potentially recover from it.\n",
    "\n",
    "\n",
    "CRITICAL: A critical error that may prevent the program from continuing to run. This level represents the most severe logging messages"
   ]
  },
  {
   "cell_type": "markdown",
   "id": "66fbd8fe",
   "metadata": {},
   "source": [
    "### 7. What line of code would you add to your software to disable all logging messages?"
   ]
  },
  {
   "cell_type": "code",
   "execution_count": 6,
   "id": "c1319d24",
   "metadata": {},
   "outputs": [],
   "source": [
    "logging.disable(logging.CRITICAL)\n"
   ]
  },
  {
   "cell_type": "markdown",
   "id": "aaca1579",
   "metadata": {},
   "source": [
    "This line of code sets the logging level to CRITICAL, which is the highest level of severity. By doing so, it effectively disables all logging messages below the CRITICAL level.\n",
    "\n",
    "After adding this line, any logging calls below the CRITICAL level, such as logging.debug(), logging.info(), logging.warning(), and logging.error(), will have no effect. No log messages will be processed or displayed.\n"
   ]
  },
  {
   "cell_type": "markdown",
   "id": "5f73c797",
   "metadata": {},
   "source": [
    "### 8.Why is using logging messages better than using print() to display the same message?"
   ]
  },
  {
   "cell_type": "markdown",
   "id": "657ee8b4",
   "metadata": {},
   "source": [
    "Using logging messages is generally considered better than using print() statements for displaying messages in your code for the following reasons:\n",
    "\n",
    "Flexibility and configurability: The logging module in Python provides a wide range of features and options for logging. You can control the log message format, specify log levels, define different log handlers (e.g., write logs to files, send logs to external services), and configure loggers for different parts of your code independently. This flexibility allows you to customize and fine-tune the logging behavior to suit your specific needs.\n",
    "\n",
    "\n",
    "Logging levels: The logging module offers different logging levels (DEBUG, INFO, WARNING, ERROR, CRITICAL) that allow you to control the verbosity and severity of the logged messages. By using appropriate logging levels, you can easily filter and manage the output based on the importance and relevance of the logged information. In contrast, print() statements don't provide this built-in concept of severity levels.\n",
    "\n",
    "\n",
    "Granularity and selective logging: With logging, you can choose to log specific parts of your code or modules selectively by configuring different loggers and handlers. This allows you to focus on particular areas of interest for troubleshooting and debugging purposes without cluttering the output with irrelevant information. In contrast, using print() statements may require manual addition/removal of print statements when you want to control the output in different parts of your code.\n",
    "\n",
    "\n",
    "Runtime enable/disable: The logging module allows you to easily enable or disable logging messages globally or for specific parts of your code by adjusting the log level or configuring log handlers. This is particularly useful in production environments where you may want to disable or reduce the amount of logging output without modifying the code itself. With print() statements, you would need to manually add or remove them, which can be error-prone and tedious.\n",
    "\n",
    "\n",
    "Integration with existing logging infrastructure: The logging module provides a standardized way of logging that integrates well with existing logging infrastructure and tools. It allows you to work with log aggregators, log analysis tools, and logging frameworks that provide advanced features such as log rotation, log filtering, and log storage. Using print() statements makes it harder to integrate with such infrastructure and may require additional manual work to achieve similar functionality.\n",
    "\n",
    "\n",
    "Code maintainability: Using logging messages promotes better code organization and maintainability. By separating the concerns of logging and application logic, you keep your code cleaner and more modular. It also allows for easier troubleshooting and debugging by providing a centralized and consistent way to handle and manage log messages."
   ]
  },
  {
   "cell_type": "markdown",
   "id": "6d46c299",
   "metadata": {},
   "source": [
    "### 9. What are the differences between the Step Over, Step In, and Step Out buttons in the debugger?"
   ]
  },
  {
   "cell_type": "markdown",
   "id": "37bf46dc",
   "metadata": {},
   "source": [
    "Step Over executes the current line and moves to the next line, skipping over function calls.\n",
    "\n",
    "Step In moves inside the next function call, pausing at its first line for detailed debugging.\n",
    "\n",
    "Step Out executes the remaining lines of the current function and returns to the calling context."
   ]
  },
  {
   "cell_type": "markdown",
   "id": "94ddcb6f",
   "metadata": {},
   "source": [
    "### 10.After you click Continue, when will the debugger stop ?"
   ]
  },
  {
   "cell_type": "markdown",
   "id": "78c74861",
   "metadata": {},
   "source": [
    "The debugger will stop when one of the following conditions is met:\n",
    "\n",
    "Breakpoint: If you have set a breakpoint in your code, the debugger will stop when it reaches the line of code specified by the breakpoint. Breakpoints are specific lines in your code where you want the debugger to pause and allow you to inspect variables, step through the code, or perform other debugging actions.\n",
    "\n",
    "Exception: If an exception occurs during the execution of your code, the debugger will automatically pause at the line where the exception is raised. This allows you to examine the state of your program at the point of the exception and investigate the cause of the error.\n",
    "\n",
    "Program Completion: If your code reaches its end and there are no more statements to execute, the debugger will stop. This happens when the program has finished running all the code in the file or function being debugged."
   ]
  },
  {
   "cell_type": "markdown",
   "id": "26783ea9",
   "metadata": {},
   "source": [
    "### 11. What is the concept of a breakpoint?"
   ]
  },
  {
   "cell_type": "markdown",
   "id": "e7881b27",
   "metadata": {},
   "source": [
    "A breakpoint is a designated point in your code where you want the debugger to pause the execution of the program. It is a feature introduced in Python 3.7 and later versions as part of the built-in pdb module (Python Debugger).\n",
    "\n",
    "With breakpoints, you can interrupt the execution of your Python program at a specific line or condition, allowing you to interactively analyze the program's state, variables, and step through the code for debugging purposes.\n",
    "\n",
    "To set a breakpoint in Python, you can use the breakpoint() built-in function. When the Python interpreter encounters the breakpoint() function call during the execution, it triggers the debugger, and the program execution is paused at that point."
   ]
  },
  {
   "cell_type": "code",
   "execution_count": 7,
   "id": "c064fab4",
   "metadata": {},
   "outputs": [
    {
     "name": "stdout",
     "output_type": "stream",
     "text": [
      "8\n"
     ]
    }
   ],
   "source": [
    "def calculate_sum(a, b):\n",
    "    total = a + b\n",
    "    breakpoint()  # Pause the program execution at this point\n",
    "    return total\n",
    "\n",
    "result = calculate_sum(3, 5)\n",
    "print(result)\n"
   ]
  }
 ],
 "metadata": {
  "kernelspec": {
   "display_name": "Python 3 (ipykernel)",
   "language": "python",
   "name": "python3"
  },
  "language_info": {
   "codemirror_mode": {
    "name": "ipython",
    "version": 3
   },
   "file_extension": ".py",
   "mimetype": "text/x-python",
   "name": "python",
   "nbconvert_exporter": "python",
   "pygments_lexer": "ipython3",
   "version": "3.9.13"
  }
 },
 "nbformat": 4,
 "nbformat_minor": 5
}

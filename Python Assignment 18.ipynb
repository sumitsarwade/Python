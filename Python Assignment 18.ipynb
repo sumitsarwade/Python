{
 "cells": [
  {
   "cell_type": "markdown",
   "id": "33b6c110",
   "metadata": {},
   "source": [
    "## Python Assignment 18"
   ]
  },
  {
   "cell_type": "markdown",
   "id": "f8daf378",
   "metadata": {},
   "source": [
    "### 1. Create a zoo.py file first. Define the hours() function, which prints the string &#39;Open 9-5 daily&#39;. Then, use the interactive interpreter to import the zoo module and call its hours() function. "
   ]
  },
  {
   "cell_type": "markdown",
   "id": "11fb83ae",
   "metadata": {},
   "source": [
    "Create a new file called zoo.py and open it in a text editor.\n",
    "\n",
    "\n",
    "In the zoo.py file, define the hours() function that prints the string 'Open 9-5 daily'. \n",
    "\n",
    "\n",
    "example code:"
   ]
  },
  {
   "cell_type": "code",
   "execution_count": 3,
   "id": "07fc1f3c",
   "metadata": {},
   "outputs": [],
   "source": [
    "def hours():\n",
    "    print('Open 9-5 daily')\n"
   ]
  },
  {
   "cell_type": "markdown",
   "id": "30ef1d58",
   "metadata": {},
   "source": [
    "Save the zoo.py file.\n",
    "\n",
    "\n",
    "Now use the interactive interpreter to import the zoo module and call its hours() function. Here's an example of how you can do it:\n",
    "\n",
    "\n",
    "Open Python interpreter or an interactive Python shell.\n",
    "\n",
    "\n",
    "Import the zoo module by typing import zoo and pressing Enter.\n",
    "\n",
    "\n",
    "Call the hours() function from the zoo module by typing zoo.hours() and pressing Enter.\n",
    "\n",
    ">>> import zoo\n",
    ">>> zoo.hours()\n",
    "Open 9-5 daily\n"
   ]
  },
  {
   "cell_type": "markdown",
   "id": "bd58682c",
   "metadata": {},
   "source": [
    "### 2. In the interactive interpreter, import the zoo module as menagerie and call its hours() function."
   ]
  },
  {
   "cell_type": "code",
   "execution_count": null,
   "id": "0653de91",
   "metadata": {},
   "outputs": [],
   "source": [
    "Open Python interpreter or an interactive Python shell.\n",
    "\n",
    "\n",
    "Import the zoo module as menagerie by typing import zoo as menagerie and pressing Enter.\n",
    "\n",
    "\n",
    "Call the hours() function from the menagerie module by typing menagerie.hours() and pressing Enter."
   ]
  },
  {
   "cell_type": "code",
   "execution_count": null,
   "id": "96031904",
   "metadata": {},
   "outputs": [],
   "source": [
    ">>> import zoo as menagerie\n",
    ">>> menagerie.hours()\n",
    "Open 9-5 daily"
   ]
  },
  {
   "cell_type": "markdown",
   "id": "34e9b2ff",
   "metadata": {},
   "source": [
    "### 3. Using the interpreter, explicitly import and call the hours() function from zoo."
   ]
  },
  {
   "cell_type": "markdown",
   "id": "4ab97f79",
   "metadata": {},
   "source": [
    "Open Python interpreter or an interactive Python shell.\n",
    "\n",
    "\n",
    "Import only the hours() function from the zoo module by typing from zoo import hours and pressing Enter.\n",
    "\n",
    "\n",
    "Call the hours() function directly by typing hours() and pressing Enter."
   ]
  },
  {
   "cell_type": "code",
   "execution_count": null,
   "id": "00bbf3d5",
   "metadata": {},
   "outputs": [],
   "source": [
    ">>> from zoo import hours\n",
    ">>> hours()\n",
    "Open 9-5 daily\n"
   ]
  },
  {
   "cell_type": "markdown",
   "id": "269c4317",
   "metadata": {},
   "source": [
    "### 4. Import the hours() function as info and call it."
   ]
  },
  {
   "cell_type": "markdown",
   "id": "8b01388e",
   "metadata": {},
   "source": [
    "Open Python interpreter or an interactive Python shell.\n",
    "\n",
    "\n",
    "Import the hours() function from the zoo module as info by typing from zoo import hours as info and pressing Enter.\n",
    "\n",
    "\n",
    "Call the info() function by typing info() and pressing Enter."
   ]
  },
  {
   "cell_type": "code",
   "execution_count": null,
   "id": "a24c78b1",
   "metadata": {},
   "outputs": [],
   "source": [
    ">>> from zoo import hours as info\n",
    ">>> info()\n",
    "Open 9-5 daily"
   ]
  },
  {
   "cell_type": "markdown",
   "id": "dc9efa4a",
   "metadata": {},
   "source": [
    "### 5. Create a plain dictionary with the key-value pairs &#39;a&#39;: 1, &#39;b&#39;: 2, and &#39;c&#39;: 3, and print it out."
   ]
  },
  {
   "cell_type": "code",
   "execution_count": 2,
   "id": "01b43829",
   "metadata": {},
   "outputs": [
    {
     "name": "stdout",
     "output_type": "stream",
     "text": [
      "{'a': 1, 'b': 2, 'c': 3}\n"
     ]
    }
   ],
   "source": [
    "plain_dict = {'a': 1, 'b': 2, 'c': 3}\n",
    "print(plain_dict)\n"
   ]
  },
  {
   "cell_type": "markdown",
   "id": "82287814",
   "metadata": {},
   "source": [
    "### 6.Make an OrderedDict called fancy from the same pairs listed in 5 and print it. Did it print in the same order as plain?"
   ]
  },
  {
   "cell_type": "code",
   "execution_count": 6,
   "id": "57209000",
   "metadata": {},
   "outputs": [
    {
     "name": "stdout",
     "output_type": "stream",
     "text": [
      "OrderedDict([('a', 1), ('b', 2), ('c', 3)])\n"
     ]
    }
   ],
   "source": [
    "from collections import OrderedDict\n",
    "\n",
    "fancy = OrderedDict([('a', 1), ('b', 2), ('c', 3)])\n",
    "print(fancy)"
   ]
  },
  {
   "cell_type": "markdown",
   "id": "6e51b13d",
   "metadata": {},
   "source": [
    "### 7. Make a default dictionary called dict_of_lists and pass it the argument list. Make the list dict_of_lists[&#39;a&#39;] and append the value &#39;something for a&#39; to it in one assignment. Print dict_of_lists[&#39;a&#39;]."
   ]
  },
  {
   "cell_type": "code",
   "execution_count": 7,
   "id": "8db666a4",
   "metadata": {},
   "outputs": [
    {
     "name": "stdout",
     "output_type": "stream",
     "text": [
      "['something for a']\n"
     ]
    }
   ],
   "source": [
    "from collections import defaultdict\n",
    "\n",
    "dict_of_lists = defaultdict(list)\n",
    "dict_of_lists['a'].append('something for a')\n",
    "print(dict_of_lists['a'])\n"
   ]
  },
  {
   "cell_type": "markdown",
   "id": "687ef76c",
   "metadata": {},
   "source": [
    "The dict_of_lists defaultdict is initialized with the list factory function, which means any new key will automatically have an empty list as its value. \n",
    "\n",
    "\n",
    "By calling dict_of_lists['a'].append('something for a'), you append the value 'something for a' to the list associated with the key 'a'. \n",
    "\n",
    "\n",
    "Finally, when you print dict_of_lists['a'], it displays ['something for a'], "
   ]
  }
 ],
 "metadata": {
  "kernelspec": {
   "display_name": "Python 3 (ipykernel)",
   "language": "python",
   "name": "python3"
  },
  "language_info": {
   "codemirror_mode": {
    "name": "ipython",
    "version": 3
   },
   "file_extension": ".py",
   "mimetype": "text/x-python",
   "name": "python",
   "nbconvert_exporter": "python",
   "pygments_lexer": "ipython3",
   "version": "3.9.13"
  }
 },
 "nbformat": 4,
 "nbformat_minor": 5
}

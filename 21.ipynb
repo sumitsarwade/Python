{
 "cells": [
  {
   "cell_type": "markdown",
   "id": "76bebbde",
   "metadata": {},
   "source": [
    "## Python Programming Assignment 21"
   ]
  },
  {
   "cell_type": "code",
   "execution_count": null,
   "id": "add6fe4b",
   "metadata": {},
   "outputs": [],
   "source": [
    "Question1\n",
    "Write a function that takes a list and a number as arguments. Add the number to the end of\n",
    "the list, then remove the first element of the list. The function should then return the updated\n",
    "list.\n",
    "Examples\n",
    "next_in_line([5, 6, 7, 8, 9], 1) ➞ [6, 7, 8, 9, 1]\n",
    "next_in_line([7, 6, 3, 23, 17], 10) ➞ [6, 3, 23, 17, 10]\n",
    "next_in_line([1, 10, 20, 42 ], 6) ➞ [10, 20, 42, 6]"
   ]
  },
  {
   "cell_type": "code",
   "execution_count": 1,
   "id": "8a1fdabe",
   "metadata": {},
   "outputs": [
    {
     "name": "stdout",
     "output_type": "stream",
     "text": [
      "[6, 7, 8, 9, 1]\n",
      "[6, 3, 23, 17, 10]\n",
      "[10, 20, 42, 6]\n",
      "No list has been selected\n"
     ]
    }
   ],
   "source": [
    "def next_in_line(lst, num):\n",
    "    if not lst:\n",
    "        return \"No list has been selected\"\n",
    "    \n",
    "    lst.append(num)\n",
    "    lst.pop(0)\n",
    "    return lst\n",
    "print(next_in_line([5, 6, 7, 8, 9], 1))       \n",
    "print(next_in_line([7, 6, 3, 23, 17], 10))   \n",
    "print(next_in_line([1, 10, 20, 42], 6))       \n",
    "print(next_in_line([], 6))                   "
   ]
  },
  {
   "cell_type": "code",
   "execution_count": null,
   "id": "7ba8fc41",
   "metadata": {},
   "outputs": [],
   "source": [
    "Question2\n",
    "Create the function that takes a list of dictionaries and returns the sum of peoples budgets.\n"
   ]
  },
  {
   "cell_type": "code",
   "execution_count": 2,
   "id": "3c9295b5",
   "metadata": {},
   "outputs": [
    {
     "name": "stdout",
     "output_type": "stream",
     "text": [
      "65700\n",
      "62600\n"
     ]
    }
   ],
   "source": [
    "def get_budgets(lst):\n",
    "    total_budget = sum(person['budget'] for person in lst)\n",
    "    return total_budget\n",
    "people1 = [\n",
    "    {\"name\": \"John\", \"age\": 21, \"budget\": 23000},\n",
    "    {\"name\": \"Steve\", \"age\": 32, \"budget\": 40000},\n",
    "    {\"name\": \"Martin\", \"age\": 16, \"budget\": 2700}\n",
    "]\n",
    "print(get_budgets(people1))  # Output: 65700\n",
    "\n",
    "people2 = [\n",
    "    {\"name\": \"John\", \"age\": 21, \"budget\": 29000},\n",
    "    {\"name\": \"Steve\", \"age\": 32, \"budget\": 32000},\n",
    "    {\"name\": \"Martin\", \"age\": 16, \"budget\": 1600}\n",
    "]\n",
    "print(get_budgets(people2))  # Output: 62600"
   ]
  },
  {
   "cell_type": "code",
   "execution_count": null,
   "id": "7f3ce826",
   "metadata": {},
   "outputs": [],
   "source": [
    "Question3\n",
    "Create a function that takes a string and returns a string with its letters in alphabetical order."
   ]
  },
  {
   "cell_type": "code",
   "execution_count": 3,
   "id": "02c67961",
   "metadata": {},
   "outputs": [
    {
     "name": "stdout",
     "output_type": "stream",
     "text": [
      "ehllo\n",
      "abdeit\n",
      "acehkr\n",
      "eegk\n",
      "aacijprstv\n"
     ]
    }
   ],
   "source": [
    "def alphabet_soup(string):\n",
    "    sorted_string = ''.join(sorted(string))\n",
    "    return sorted_string\n",
    "print(alphabet_soup(\"hello\"))       \n",
    "print(alphabet_soup(\"edabit\"))      \n",
    "print(alphabet_soup(\"hacker\"))       \n",
    "print(alphabet_soup(\"geek\"))         \n",
    "print(alphabet_soup(\"javascript\"))  "
   ]
  },
  {
   "cell_type": "code",
   "execution_count": null,
   "id": "22c60bca",
   "metadata": {},
   "outputs": [],
   "source": [
    "Question4\n",
    "Suppose that you invest $10,000 for 10 years at an interest rate of 6% compounded monthly.\n",
    "What will be the value of your investment at the end of the 10 year period?\n",
    "Create a function that accepts the principal p, the term in years t, the interest rate r, and the\n",
    "number of compounding periods per year n. The function returns the value at the end of term\n",
    "rounded to the nearest cent.\n",
    "For the example above:\n",
    "compound_interest(10000, 10, 0.06, 12) ➞ 18193.97\n",
    "Note that the interest rate is given as a decimal and n=12 because with monthly compounding\n",
    "there are 12 periods per year. Compounding can also be done annually, quarterly, weekly, or\n",
    "daily."
   ]
  },
  {
   "cell_type": "code",
   "execution_count": 4,
   "id": "c3b2fa65",
   "metadata": {},
   "outputs": [],
   "source": [
    "def compound_interest(p, t, r, n):\n",
    "    A = p * (1 + r/n)**(n*t)\n",
    "    return round(A, 2)"
   ]
  },
  {
   "cell_type": "code",
   "execution_count": 5,
   "id": "2d59f94f",
   "metadata": {},
   "outputs": [
    {
     "name": "stdout",
     "output_type": "stream",
     "text": [
      "18193.97\n"
     ]
    }
   ],
   "source": [
    "print(compound_interest(10000, 10, 0.06, 12))"
   ]
  },
  {
   "cell_type": "code",
   "execution_count": 6,
   "id": "a3ac5351",
   "metadata": {},
   "outputs": [
    {
     "name": "stdout",
     "output_type": "stream",
     "text": [
      "105.0\n",
      "15399.26\n",
      "2007316.26\n"
     ]
    }
   ],
   "source": [
    "print(compound_interest(100, 1, 0.05, 1))      \n",
    "print(compound_interest(3500, 15, 0.1, 4))      \n",
    "print(compound_interest(100000, 20, 0.15, 365))"
   ]
  },
  {
   "cell_type": "code",
   "execution_count": null,
   "id": "1e962fb4",
   "metadata": {},
   "outputs": [],
   "source": [
    "Question5\n",
    "Write a function that takes a list of elements and returns only the integers."
   ]
  },
  {
   "cell_type": "code",
   "execution_count": 7,
   "id": "f7200e5a",
   "metadata": {},
   "outputs": [
    {
     "name": "stdout",
     "output_type": "stream",
     "text": [
      "[9, 2, 16]\n",
      "[81, 123]\n",
      "[10, 56, 20, 3]\n",
      "[True, 1]\n"
     ]
    }
   ],
   "source": [
    "def return_only_integer(lst):\n",
    "    return [x for x in lst if isinstance(x, int)]\n",
    "print(return_only_integer([9, 2, \"space\", \"car\", \"lion\", 16]))      \n",
    "print(return_only_integer([\"hello\", 81, \"basketball\", 123, \"fox\"]))\n",
    "print(return_only_integer([10, \"121\", 56, 20, \"car\", 3, \"lion\"]))  \n",
    "print(return_only_integer([\"String\", True, 3.3, 1]))               "
   ]
  }
 ],
 "metadata": {
  "kernelspec": {
   "display_name": "Python 3 (ipykernel)",
   "language": "python",
   "name": "python3"
  },
  "language_info": {
   "codemirror_mode": {
    "name": "ipython",
    "version": 3
   },
   "file_extension": ".py",
   "mimetype": "text/x-python",
   "name": "python",
   "nbconvert_exporter": "python",
   "pygments_lexer": "ipython3",
   "version": "3.9.13"
  }
 },
 "nbformat": 4,
 "nbformat_minor": 5
}

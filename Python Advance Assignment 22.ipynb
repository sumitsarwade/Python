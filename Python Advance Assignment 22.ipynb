{
 "cells": [
  {
   "cell_type": "markdown",
   "id": "697cd244",
   "metadata": {},
   "source": [
    "## Python Advance Assignment 22"
   ]
  },
  {
   "cell_type": "markdown",
   "id": "d74fbb3f",
   "metadata": {},
   "source": [
    "#### Q1. What are the benefits of the built-in array package, if any?"
   ]
  },
  {
   "cell_type": "markdown",
   "id": "ab4319c1",
   "metadata": {},
   "source": [
    "Efficient storage: The array package offers a compact way to store homogeneous data types in a contiguous block of memory. This results in efficient memory usage compared to other data structures like lists.\n",
    "\n",
    "\n",
    "Fast operations: Since array objects are stored in a contiguous block of memory, operations on arrays can be faster than on other data structures. This is especially beneficial when working with large datasets or performing mathematical computations.\n",
    "\n",
    "\n",
    "Direct access to low-level memory: The array package allows direct access to the underlying memory buffer, which can be useful for tasks that require low-level manipulation or interfacing with other libraries and systems.\n",
    "\n",
    "\n",
    "Interoperability with C and Fortran: The array package provides the ability to interface with C or Fortran code, as the memory layout of array objects is compatible with these languages. This allows for efficient data exchange between Python and other languages."
   ]
  },
  {
   "cell_type": "markdown",
   "id": "7d50671c",
   "metadata": {},
   "source": [
    "#### Q2. What are some of the array package&#39;s limitations?"
   ]
  },
  {
   "cell_type": "markdown",
   "id": "5a2b1eb7",
   "metadata": {},
   "source": [
    "Homogeneous data type: array objects can only store elements of the same data type. Unlike lists, which can accommodate different data types within the same structure, array objects require a consistent data type for all elements.\n",
    "\n",
    "\n",
    "Fixed size: The size of an array object is fixed upon creation and cannot be dynamically resized. If you need to add or remove elements, you would need to create a new array object or use additional functions to achieve the desired functionality.\n",
    "\n",
    "\n",
    "Limited functionality: The array package provides basic functionality for working with arrays but lacks many advanced features and operations available in other libraries like NumPy."
   ]
  },
  {
   "cell_type": "markdown",
   "id": "baec2e3b",
   "metadata": {},
   "source": [
    "#### Q3. Describe the main differences between the array and numpy packages."
   ]
  },
  {
   "cell_type": "markdown",
   "id": "44e3f392",
   "metadata": {},
   "source": [
    "Functionality: NumPy is a powerful scientific computing library that provides comprehensive functionality for array manipulation, mathematical operations, linear algebra, and more. It offers a wide range of functions and tools for working with multi-dimensional arrays, as well as many specialized functions for numerical computing. On the other hand, the built-in array package offers a simpler and more limited set of operations focused primarily on efficient storage and basic array manipulation.\n",
    "\n",
    "\n",
    "Data types: The array package is limited to storing elements of a single data type, while NumPy supports a wide range of data types, including integers, floating-point numbers, complex numbers, and user-defined types. NumPy arrays can also have different data types for different elements within the same structure.\n",
    "\n",
    "\n",
    "Performance: NumPy is known for its optimized performance and efficient implementation of array operations, thanks to its underlying C-based implementation. NumPy operations are typically faster than those performed on array objects due to its advanced algorithms and optimizations.\n",
    "\n",
    "\n",
    "Ecosystem and community: NumPy has a large and active community of users and developers, and it is widely used in the scientific and data analysis communities. It has an extensive ecosystem of libraries and tools built on top of it, making it a versatile and popular choice for numerical computing tasks."
   ]
  },
  {
   "cell_type": "markdown",
   "id": "ba7895be",
   "metadata": {},
   "source": [
    "#### Q4. Explain the distinctions between the empty, ones, and zeros functions."
   ]
  },
  {
   "cell_type": "markdown",
   "id": "8730f30b",
   "metadata": {},
   "source": [
    "empty: The empty function in NumPy creates an array without initializing its elements to any specific value. The elements of the array can have any random or garbage values, depending on the state of the memory. The purpose of the empty function is to allocate memory for the array without incurring the overhead of initializing the values. It is commonly used when you plan to fill the array with data later on.\n",
    "\n",
    "\n",
    "ones: The ones function in NumPy creates an array filled with the value 1. It takes a shape tuple as an argument, specifying the dimensions of the desired array. The ones function initializes all the elements of the array to the value 1. It is useful when you need to create an array of a specific shape and initialize it with ones.\n",
    "\n",
    "\n",
    "zeros: The zeros function in NumPy creates an array filled with the value 0. It takes a shape tuple as an argument, specifying the dimensions of the desired array. The zeros function initializes all the elements of the array to the value 0. It is useful when you need to create an array of a specific shape and initialize it with zeros."
   ]
  },
  {
   "cell_type": "markdown",
   "id": "cdc85738",
   "metadata": {},
   "source": [
    "#### Q5. In the fromfunction function, which is used to construct new arrays, what is the role of the callable argument?"
   ]
  },
  {
   "cell_type": "markdown",
   "id": "26c39d45",
   "metadata": {},
   "source": [
    "In the fromfunction function in NumPy, the role of the callable argument is to provide a function that determines the values of the elements in the resulting array. The callable is called with coordinates as its arguments, and it should return the value to be assigned to each element of the array.\n",
    "\n",
    "\n",
    "The fromfunction function takes two arguments: the callable function and the shape of the desired array. The callable function is invoked for each element in the array, with the indices of that element passed as arguments. The callable function is responsible for generating the values for each element based on its indices"
   ]
  },
  {
   "cell_type": "code",
   "execution_count": 1,
   "id": "1cfbc5e2",
   "metadata": {},
   "outputs": [
    {
     "name": "stdout",
     "output_type": "stream",
     "text": [
      "[[0. 1. 2. 3.]\n",
      " [2. 3. 4. 5.]\n",
      " [4. 5. 6. 7.]]\n"
     ]
    }
   ],
   "source": [
    "import numpy as np\n",
    "\n",
    "def my_func(i, j):\n",
    "    return 2 * i + j\n",
    "\n",
    "arr = np.fromfunction(my_func, (3, 4))\n",
    "print(arr)"
   ]
  },
  {
   "cell_type": "markdown",
   "id": "a2b0fe30",
   "metadata": {},
   "source": [
    "#### Q6. What happens when a numpy array is combined with a single-value operand (a scalar, such as an int or a floating-point value) through addition, as in the expression A + n?"
   ]
  },
  {
   "cell_type": "markdown",
   "id": "197ba352",
   "metadata": {},
   "source": [
    "When a NumPy array is combined with a single-value operand (a scalar) through addition, as in the expression A + n, the scalar value n is added to each element of the array A. The addition operation is applied element-wise, resulting in a new array with the same shape as the original array A."
   ]
  },
  {
   "cell_type": "code",
   "execution_count": 2,
   "id": "3a43fd33",
   "metadata": {},
   "outputs": [
    {
     "name": "stdout",
     "output_type": "stream",
     "text": [
      "[6 7 8]\n"
     ]
    }
   ],
   "source": [
    "import numpy as np\n",
    "\n",
    "A = np.array([1, 2, 3])\n",
    "n = 5\n",
    "\n",
    "result = A + n\n",
    "print(result)"
   ]
  },
  {
   "cell_type": "markdown",
   "id": "2c45f201",
   "metadata": {},
   "source": [
    "#### Q7. Can array-to-scalar operations use combined operation-assign operators (such as += or *=)? What is the outcome?"
   ]
  },
  {
   "cell_type": "markdown",
   "id": "97a9ec0f",
   "metadata": {},
   "source": [
    "Yes, array-to-scalar operations can use combined operation-assign operators (such as += or *=). These operators modify the original array in-place, applying the specified operation with the scalar operand to each element of the array."
   ]
  },
  {
   "cell_type": "code",
   "execution_count": 3,
   "id": "1b7f2f82",
   "metadata": {},
   "outputs": [
    {
     "name": "stdout",
     "output_type": "stream",
     "text": [
      "[6 7 8]\n"
     ]
    }
   ],
   "source": [
    "import numpy as np\n",
    "\n",
    "A = np.array([1, 2, 3])\n",
    "n = 5\n",
    "\n",
    "A += n\n",
    "print(A)"
   ]
  },
  {
   "cell_type": "markdown",
   "id": "188879fd",
   "metadata": {},
   "source": [
    "#### Q8. Does a numpy array contain fixed-length strings? What happens if you allocate a longer string to one of these arrays?"
   ]
  },
  {
   "cell_type": "markdown",
   "id": "e103b3a4",
   "metadata": {},
   "source": [
    "Yes, a NumPy array can contain fixed-length strings. In NumPy, arrays can have a data type of string or unicode, and you can specify the length of the strings using a type specifier. For example, S10 represents a string of length 10, and U20 represents a Unicode string of length 20.\n",
    "\n",
    "\n",
    "When you allocate a longer string to an array with a fixed length, the longer string will be truncated to fit within the specified length. No error or warning will be raised, and the string will be stored with its truncated value."
   ]
  },
  {
   "cell_type": "code",
   "execution_count": 4,
   "id": "b313ecfe",
   "metadata": {},
   "outputs": [
    {
     "name": "stdout",
     "output_type": "stream",
     "text": [
      "[b'Hello' b'World']\n",
      "[b'Hello' b'OpenA']\n"
     ]
    }
   ],
   "source": [
    "import numpy as np\n",
    "\n",
    "arr = np.array(['Hello', 'World'], dtype='S5')\n",
    "print(arr)\n",
    "\n",
    "arr[1] = 'OpenAI is amazing'\n",
    "print(arr)"
   ]
  },
  {
   "cell_type": "markdown",
   "id": "d001cf6a",
   "metadata": {},
   "source": [
    "#### Q9. What happens when you combine two numpy arrays using an operation like addition (+) or multiplication (*)? What are the conditions for combining two numpy arrays?"
   ]
  },
  {
   "cell_type": "markdown",
   "id": "7dd9c3c0",
   "metadata": {},
   "source": [
    "When you combine two NumPy arrays using operations like addition (+) or multiplication (*), the arrays are combined element-wise. The arrays must have compatible shapes, which means they should have the same dimensions or compatible broadcasting rules should apply.\n",
    "\n",
    "\n",
    "For addition (+), subtraction (-), multiplication (*), and division (/), the operations are performed element-wise between corresponding elements of the two arrays. The resulting array will have the same shape as the input arrays."
   ]
  },
  {
   "cell_type": "code",
   "execution_count": 5,
   "id": "ea136e20",
   "metadata": {},
   "outputs": [
    {
     "name": "stdout",
     "output_type": "stream",
     "text": [
      "[5 7 9]\n"
     ]
    }
   ],
   "source": [
    "import numpy as np\n",
    "\n",
    "A = np.array([1, 2, 3])\n",
    "B = np.array([4, 5, 6])\n",
    "\n",
    "result = A + B\n",
    "print(result)"
   ]
  },
  {
   "cell_type": "markdown",
   "id": "1a1928ec",
   "metadata": {},
   "source": [
    "#### Q10. What is the best way to use a Boolean array to mask another array?"
   ]
  },
  {
   "cell_type": "markdown",
   "id": "75301ecb",
   "metadata": {},
   "source": [
    "The best way to use a Boolean array to mask another array is by using NumPy's indexing capability. You can use the Boolean array as a mask to select specific elements from the array."
   ]
  },
  {
   "cell_type": "code",
   "execution_count": 6,
   "id": "ade0160c",
   "metadata": {},
   "outputs": [
    {
     "name": "stdout",
     "output_type": "stream",
     "text": [
      "[1 3 5]\n"
     ]
    }
   ],
   "source": [
    "import numpy as np\n",
    "\n",
    "arr = np.array([1, 2, 3, 4, 5])\n",
    "mask = np.array([True, False, True, False, True])\n",
    "\n",
    "masked_arr = arr[mask]\n",
    "print(masked_arr)"
   ]
  },
  {
   "cell_type": "markdown",
   "id": "79725957",
   "metadata": {},
   "source": [
    "#### Q11. What are three different ways to get the standard deviation of a wide collection of data using both standard Python and its packages? Sort the three of them by how quickly they execute."
   ]
  },
  {
   "cell_type": "markdown",
   "id": "758151bb",
   "metadata": {},
   "source": [
    "Using the statistics module: The statistics module in Python's standard library provides the stdev() function, which can be used to calculate the standard deviation of a collection of data. This function accepts an iterable as input and returns the standard deviation."
   ]
  },
  {
   "cell_type": "code",
   "execution_count": 7,
   "id": "d1166514",
   "metadata": {},
   "outputs": [
    {
     "name": "stdout",
     "output_type": "stream",
     "text": [
      "1.5811388300841898\n"
     ]
    }
   ],
   "source": [
    "import statistics\n",
    "\n",
    "data = [1, 2, 3, 4, 5]\n",
    "std_dev = statistics.stdev(data)\n",
    "print(std_dev)"
   ]
  },
  {
   "cell_type": "markdown",
   "id": "b16e1544",
   "metadata": {},
   "source": [
    "Using NumPy: NumPy provides the std() function, which calculates the standard deviation of an array or a specific axis of an array. NumPy's implementation is optimized for numerical computations and can handle large datasets efficiently."
   ]
  },
  {
   "cell_type": "code",
   "execution_count": 8,
   "id": "6962f0bc",
   "metadata": {},
   "outputs": [
    {
     "name": "stdout",
     "output_type": "stream",
     "text": [
      "1.4142135623730951\n"
     ]
    }
   ],
   "source": [
    "import numpy as np\n",
    "\n",
    "data = np.array([1, 2, 3, 4, 5])\n",
    "std_dev = np.std(data)\n",
    "print(std_dev)"
   ]
  },
  {
   "cell_type": "markdown",
   "id": "6a4a908e",
   "metadata": {},
   "source": [
    "Using pandas: Pandas is a powerful data manipulation library that builds on top of NumPy. It provides a Series object that supports various statistical operations, including calculating the standard deviation."
   ]
  },
  {
   "cell_type": "code",
   "execution_count": 9,
   "id": "47e6331a",
   "metadata": {},
   "outputs": [
    {
     "name": "stdout",
     "output_type": "stream",
     "text": [
      "1.5811388300841898\n"
     ]
    }
   ],
   "source": [
    "import pandas as pd\n",
    "\n",
    "data = pd.Series([1, 2, 3, 4, 5])\n",
    "std_dev = data.std()\n",
    "print(std_dev)"
   ]
  },
  {
   "cell_type": "markdown",
   "id": "64e3226b",
   "metadata": {},
   "source": [
    "#### 12. What is the dimensionality of a Boolean mask-generated array?"
   ]
  },
  {
   "cell_type": "markdown",
   "id": "9b7526ce",
   "metadata": {},
   "source": [
    "The dimensionality of a Boolean mask-generated array is the same as the original array. When you use a Boolean mask to index an array, the resulting masked array will have the same number of dimensions as the original array."
   ]
  },
  {
   "cell_type": "code",
   "execution_count": 10,
   "id": "811a9cb0",
   "metadata": {},
   "outputs": [
    {
     "name": "stdout",
     "output_type": "stream",
     "text": [
      "[1 3 5]\n",
      "(3,)\n"
     ]
    }
   ],
   "source": [
    "import numpy as np\n",
    "\n",
    "arr = np.array([[1, 2, 3], [4, 5, 6]])\n",
    "mask = np.array([[True, False, True], [False, True, False]])\n",
    "\n",
    "masked_arr = arr[mask]\n",
    "print(masked_arr)\n",
    "print(masked_arr.shape)"
   ]
  }
 ],
 "metadata": {
  "kernelspec": {
   "display_name": "Python 3 (ipykernel)",
   "language": "python",
   "name": "python3"
  },
  "language_info": {
   "codemirror_mode": {
    "name": "ipython",
    "version": 3
   },
   "file_extension": ".py",
   "mimetype": "text/x-python",
   "name": "python",
   "nbconvert_exporter": "python",
   "pygments_lexer": "ipython3",
   "version": "3.9.13"
  }
 },
 "nbformat": 4,
 "nbformat_minor": 5
}

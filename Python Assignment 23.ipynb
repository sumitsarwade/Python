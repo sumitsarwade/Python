{
 "cells": [
  {
   "cell_type": "markdown",
   "id": "4ece331d",
   "metadata": {},
   "source": [
    "## Python Assignment 23"
   ]
  },
  {
   "cell_type": "markdown",
   "id": "e43ad03e",
   "metadata": {},
   "source": [
    "### 1. What is the result of the code, and why?\n",
    "#### &gt;&gt;&gt; def func(a, b=6, c=8):\n",
    "#### print(a, b, c)\n",
    "#### &gt;&gt;&gt; func(1, 2)"
   ]
  },
  {
   "cell_type": "markdown",
   "id": "8700d830",
   "metadata": {},
   "source": [
    "The result of the code will be:1 2 8\n",
    "\n",
    "\n",
    "The func function is defined with three parameters: a, b, and c. The parameter b has a default value of 6, and the parameter c has a default value of 8.\n",
    "\n",
    "\n",
    "When the func function is called with the arguments 1 and 2 (func(1, 2)), the value 1 is assigned to the parameter a, and the value 2 is assigned to the parameter b. Since no value is provided for the parameter c, it takes its default value of 8.\n",
    "\n",
    "\n",
    "Inside the function, print(a, b, c) is called, which will print the values of a, b, and c. Therefore, the output will be 1 2 8, indicating that a is 1, b is 2, and c is 8."
   ]
  },
  {
   "cell_type": "markdown",
   "id": "7fe67307",
   "metadata": {},
   "source": [
    "### 2. What is the result of this code, and why?\n",
    "#### &gt;&gt;&gt; def func(a, b, c=5):\n",
    "#### print(a, b, c)\n",
    "#### &gt;&gt;&gt; func(1, c=3, b=2)"
   ]
  },
  {
   "cell_type": "markdown",
   "id": "58efc14f",
   "metadata": {},
   "source": [
    "The result of the code will be:1 2 3\n",
    "\n",
    "\n",
    "The func function is defined with three parameters: a, b, and c. The parameter c has a default value of 5.\n",
    "\n",
    "\n",
    "When the func function is called with the arguments 1, c=3, and b=2 (func(1, c=3, b=2)), the value 1 is assigned to the parameter a, the value 2 is assigned to the parameter b, and the value 3 is assigned to the parameter c.\n",
    "\n",
    "\n",
    "Even though the order of the arguments is different than the order of the parameters in the function definition, we have explicitly specified the parameter names (c=3 and b=2) during the function call. This is known as keyword arguments or named arguments, and it allows us to assign values to specific parameters by specifying their names.\n",
    "\n",
    "\n",
    "Inside the function, print(a, b, c) is called, which will print the values of a, b, and c. Therefore, the output will be 1 2 3, indicating that a is 1, b is 2, and c is 3."
   ]
  },
  {
   "cell_type": "markdown",
   "id": "c7769763",
   "metadata": {},
   "source": [
    "### 3. How about this code: what is its result, and why?\n",
    "#### &gt;&gt;&gt; def func(a, *pargs):\n",
    "#### print(a, pargs)\n",
    "#### &gt;&gt;&gt; func(1, 2, 3)"
   ]
  },
  {
   "cell_type": "code",
   "execution_count": null,
   "id": "a504797b",
   "metadata": {},
   "outputs": [],
   "source": []
  },
  {
   "cell_type": "markdown",
   "id": "8a1d7f22",
   "metadata": {},
   "source": [
    "### 4. What does this code print, and why?\n",
    "#### &gt;&gt;&gt; def func(a, **kargs):\n",
    "#### print(a, kargs)\n",
    "#### &gt;&gt;&gt; func(a=1, c=3, b=2)"
   ]
  },
  {
   "cell_type": "markdown",
   "id": "2a5d5eff",
   "metadata": {},
   "source": [
    "The result of the code will be:1 (2, 3)\n",
    "\n",
    "\n",
    "The func function is defined with two parameters: a and *pargs. The *pargs parameter is prefixed with an asterisk (*), which allows it to accept any number of positional arguments as a tuple.\n",
    "\n",
    "\n",
    "When the func function is called with the arguments 1, 2, and 3 (func(1, 2, 3)), the value 1 is assigned to the parameter a, and the values 2 and 3 are collected into a tuple and assigned to the *pargs parameter.\n",
    "\n",
    "\n",
    "Inside the function, print(a, pargs) is called, which will print the values of a and pargs. The pargs parameter is a tuple containing the additional positional arguments passed to the function. Therefore, the output will be 1 (2, 3), indicating that a is 1, and pargs is a tuple (2, 3)."
   ]
  },
  {
   "cell_type": "markdown",
   "id": "b4762707",
   "metadata": {},
   "source": [
    "### 5. What gets printed by this, and explain?\n",
    "#### &gt;&gt;&gt; def func(a, b, c=8, d=5): print(a, b, c, d)\n",
    "#### &gt;&gt;&gt; func(1, *(5, 6))"
   ]
  },
  {
   "cell_type": "markdown",
   "id": "26035c47",
   "metadata": {},
   "source": [
    "The corrected result of the code will be: 1 5 6 5\n",
    "\n",
    "\n",
    "The func function is defined with four parameters: a, b, c, and d. The parameters c and d have default values of 8 and 5, respectively.\n",
    "\n",
    "\n",
    "When the func function is called with the arguments 1 and *(5, 6), the value 1 is assigned to the parameter a. The *(5, 6) syntax is iterable unpacking or argument unpacking, which unpacks the tuple (5, 6) into separate arguments.\n",
    "\n",
    "\n",
    "In this case, the first value 5 is assigned to the parameter b, and the second value 6 is assigned to the parameter c. Since no value is provided for the parameter d, it takes its default value of 5.\n",
    "\n",
    "\n",
    "Inside the function, print(a, b, c, d) is called, which will print the values of a, b, c, and d. Therefore, the output will be 1 5 6 5, indicating that a is 1, b is 5, c is 6, and d is 5."
   ]
  },
  {
   "cell_type": "markdown",
   "id": "64e37968",
   "metadata": {},
   "source": [
    "### 6. what is the result of this, and explain?\n",
    "#### &gt;&gt;&gt; def func(a, b, c): a = 2; b[0] = &#39;x&#39;; c[&#39;a&#39;] = &#39;y&#39;\n",
    "#### &gt;&gt;&gt; l=1; m=[1]; n={&#39;a&#39;:0}\n",
    "#### &gt;&gt;&gt; func(l, m, n)"
   ]
  },
  {
   "cell_type": "code",
   "execution_count": 7,
   "id": "eb2c3bf3",
   "metadata": {},
   "outputs": [],
   "source": [
    "def func(a, b, c):\n",
    "    a = 2\n",
    "    b[0] = 'x'\n",
    "    c['a'] = 'y'\n",
    "\n",
    "l = 1\n",
    "m = [1]\n",
    "n = {'a': 0}\n",
    "\n",
    "func(l, m, n)"
   ]
  },
  {
   "cell_type": "code",
   "execution_count": 8,
   "id": "8c7222bf",
   "metadata": {},
   "outputs": [
    {
     "name": "stdout",
     "output_type": "stream",
     "text": [
      "1 ['x'] {'a': 'y'}\n"
     ]
    }
   ],
   "source": [
    "print(l, m, n)"
   ]
  },
  {
   "cell_type": "markdown",
   "id": "bcb70e2f",
   "metadata": {},
   "source": [
    "The func function takes three parameters: a, b, and c. \n",
    "\n",
    "\n",
    "Inside the function, the following operations are performed:\n",
    "\n",
    "\n",
    "a = 2: This assigns the value 2 to the local variable a within the function. However, it does not affect the value of the variable l outside the function.\n",
    "\n",
    "\n",
    "b[0] = 'x': This modifies the value of the first element of the list m. Since m is passed as an argument to the func function, the modification will reflect outside the function as well. After the execution, the value of m will be ['x'].\n",
    "\n",
    "\n",
    "c['a'] = 'y': This modifies the value associated with the key 'a' in the dictionary n. Similar to the list m, since n is passed as an argument to the func function, the modification will reflect outside the function as well. After the execution, the value of n will be {'a': 'y'}.\n",
    "\n",
    "\n",
    "Therefore, after calling func(l, m, n), the values of the variables will be:\n",
    "\n",
    "\n",
    "l remains unchanged and is still 1.\n",
    "m is modified and becomes ['x'].\n",
    "n is modified and becomes {'a': 'y'}."
   ]
  }
 ],
 "metadata": {
  "kernelspec": {
   "display_name": "Python 3 (ipykernel)",
   "language": "python",
   "name": "python3"
  },
  "language_info": {
   "codemirror_mode": {
    "name": "ipython",
    "version": 3
   },
   "file_extension": ".py",
   "mimetype": "text/x-python",
   "name": "python",
   "nbconvert_exporter": "python",
   "pygments_lexer": "ipython3",
   "version": "3.9.13"
  }
 },
 "nbformat": 4,
 "nbformat_minor": 5
}

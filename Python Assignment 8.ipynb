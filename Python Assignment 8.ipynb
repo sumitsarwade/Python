{
 "cells": [
  {
   "cell_type": "markdown",
   "id": "40f8f8f2",
   "metadata": {},
   "source": [
    "## Python Assignment 8"
   ]
  },
  {
   "cell_type": "markdown",
   "id": "1fceccce",
   "metadata": {},
   "source": [
    "### 1. Is the Python Standard Library included with PyInputPlus?"
   ]
  },
  {
   "cell_type": "markdown",
   "id": "1b429a60",
   "metadata": {},
   "source": [
    "No, the Python Standard Library is not included with PyInputPlus. PyInputPlus is a separate third-party library that provides enhanced input functionality in Python. It is not part of the Python Standard Library."
   ]
  },
  {
   "cell_type": "markdown",
   "id": "f581e95c",
   "metadata": {},
   "source": [
    "### 2. Why is PyInputPlus commonly imported with import pyinputplus as pypi?"
   ]
  },
  {
   "cell_type": "markdown",
   "id": "0638b1dc",
   "metadata": {},
   "source": [
    "It allows to use a shorter and more concise alias (pypi) when referencing the pyinputplus module in code.\n",
    "\n",
    "Using an alias can be beneficial in situations where the module name is long or can easily conflict with other module names or variable names in the program."
   ]
  },
  {
   "cell_type": "markdown",
   "id": "f6b6711b",
   "metadata": {},
   "source": [
    "### 3. How do you distinguish between inputInt() and inputFloat()?"
   ]
  },
  {
   "cell_type": "markdown",
   "id": "1a9a3323",
   "metadata": {},
   "source": [
    "inputInt(): This function is used to prompt the user for an integer input. It ensures that the user enters a valid integer value. If the user provides an input that is not a valid integer, it will re-prompt until a valid integer is entered.\n",
    "\n",
    "inputFloat(): This function is used to prompt the user for a floating-point number input. It ensures that the user enters a valid floating-point value. If the user provides an input that is not a valid float, it will re-prompt until a valid float is entered.\n",
    "\n"
   ]
  },
  {
   "cell_type": "markdown",
   "id": "da6b7c63",
   "metadata": {},
   "source": [
    "### 4. Using PyInputPlus, how do you ensure that the user enters a whole number between 0 and 99?"
   ]
  },
  {
   "cell_type": "code",
   "execution_count": 4,
   "id": "3bb75ed6",
   "metadata": {},
   "outputs": [
    {
     "name": "stdout",
     "output_type": "stream",
     "text": [
      "Enter a number between 0 and 99: 999\n",
      "Number must be at maximum 99.\n",
      "Enter a number between 0 and 99: 20\n",
      "Entered number: 20\n"
     ]
    }
   ],
   "source": [
    "import pyinputplus as pypi\n",
    "\n",
    "number = pypi.inputInt(\"Enter a number between 0 and 99: \", min=0, max=99)\n",
    "print(\"Entered number:\", number)\n"
   ]
  },
  {
   "cell_type": "markdown",
   "id": "1d75e5ac",
   "metadata": {},
   "source": [
    "The inputInt() function is used to prompt the user for an integer input. \n",
    "\n",
    "The min argument is set to 0 to enforce that the entered value should be greater than or equal to 0.\n",
    "\n",
    "The max argument is set to 99 to enforce that the entered value should be less than or equal to 99."
   ]
  },
  {
   "cell_type": "markdown",
   "id": "39c8629d",
   "metadata": {},
   "source": [
    "### 5. What is transferred to the keyword arguments allowRegexes and blockRegexes?"
   ]
  },
  {
   "cell_type": "markdown",
   "id": "601c8403",
   "metadata": {},
   "source": [
    "1.allowRegexes: By passing a list of regular expressions to the allowRegexes argument, you can specify the patterns that the user's input should match. If the user's input matches any of the allowed regular expressions, it is considered valid. Any other input that doesn't match the allowed patterns will be rejected.\n",
    "\n",
    "\n",
    "2.blockRegexes: By passing a list of regular expressions to the blockRegexes argument, you can specify the patterns that the user's input should not match. If the user's input matches any of the blocked regular expressions, it is considered invalid. Any other input that doesn't match the blocked patterns will be accepted."
   ]
  },
  {
   "cell_type": "markdown",
   "id": "41112117",
   "metadata": {},
   "source": [
    "### 6. If a blank input is entered three times, what does inputStr(limit=3) do?"
   ]
  },
  {
   "cell_type": "markdown",
   "id": "90ee542b",
   "metadata": {},
   "source": [
    "When using inputStr(limit=3) in PyInputPlus and a blank input is entered three times consecutively, the function will raise a ValidationException after reaching the limit of three attempts."
   ]
  },
  {
   "cell_type": "code",
   "execution_count": 11,
   "id": "f49b54e8",
   "metadata": {},
   "outputs": [
    {
     "name": "stdout",
     "output_type": "stream",
     "text": [
      "Enter a value: \n",
      "Blank values are not allowed.\n",
      "Enter a value: \n",
      "Blank values are not allowed.\n",
      "Enter a value: 2\n",
      "Entered input: 2\n"
     ]
    }
   ],
   "source": [
    "import pyinputplus as pypi\n",
    "\n",
    "try:\n",
    "    user_input = pypi.inputStr(\"Enter a value: \", limit=3)\n",
    "    print(\"Entered input:\", user_input)\n",
    "except pypi.ValidationException:\n",
    "    print(\"Input limit exceeded. No valid input provided.\")\n"
   ]
  },
  {
   "cell_type": "markdown",
   "id": "137eafea",
   "metadata": {},
   "source": [
    "If the user enters a blank input three times consecutively (by pressing Enter without entering any value), PyInputPlus will raise a ValidationException. "
   ]
  },
  {
   "cell_type": "markdown",
   "id": "9aeafa95",
   "metadata": {},
   "source": [
    "### 7. If blank input is entered three times, what does inputStr(limit=3, default=&#39;hello&#39;) do?"
   ]
  },
  {
   "cell_type": "markdown",
   "id": "995714a5",
   "metadata": {},
   "source": [
    "When using inputStr(limit=3, default='hello') in PyInputPlus and a blank input is entered three times consecutively, the function will return the default value 'hello' instead of raising a ValidationException."
   ]
  },
  {
   "cell_type": "code",
   "execution_count": 12,
   "id": "16bc9707",
   "metadata": {},
   "outputs": [
    {
     "name": "stdout",
     "output_type": "stream",
     "text": [
      "Enter a value: \n",
      "Blank values are not allowed.\n",
      "Enter a value: \n",
      "Blank values are not allowed.\n",
      "Enter a value: \n",
      "Blank values are not allowed.\n",
      "Entered input: hello\n"
     ]
    }
   ],
   "source": [
    "import pyinputplus as pypi\n",
    "\n",
    "user_input = pypi.inputStr(\"Enter a value: \", limit=3, default='hello')\n",
    "print(\"Entered input:\", user_input)\n"
   ]
  },
  {
   "cell_type": "markdown",
   "id": "dac779ea",
   "metadata": {},
   "source": [
    "If the user enters a blank input three times consecutively (by pressing Enter without entering any value), instead of raising a ValidationException, PyInputPlus will return the default value 'hello'. This means that the user_input variable in the example will be assigned the value 'hello'."
   ]
  }
 ],
 "metadata": {
  "kernelspec": {
   "display_name": "Python 3 (ipykernel)",
   "language": "python",
   "name": "python3"
  },
  "language_info": {
   "codemirror_mode": {
    "name": "ipython",
    "version": 3
   },
   "file_extension": ".py",
   "mimetype": "text/x-python",
   "name": "python",
   "nbconvert_exporter": "python",
   "pygments_lexer": "ipython3",
   "version": "3.9.13"
  }
 },
 "nbformat": 4,
 "nbformat_minor": 5
}

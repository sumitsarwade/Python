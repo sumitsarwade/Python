{
 "cells": [
  {
   "cell_type": "markdown",
   "id": "977c0f3e",
   "metadata": {},
   "source": [
    "## Python Programming Assignment 13"
   ]
  },
  {
   "cell_type": "markdown",
   "id": "861f434e",
   "metadata": {},
   "source": [
    "Question 1:\n",
    "Write a program that calculates and prints the value according to the given formula:\n",
    "Q = Square root of [(2 * C * D)/H]\n",
    "Following are the fixed values of C and H:\n",
    "C is 50. H is 30.\n",
    "D is the variable whose values should be input to your program in a comma-separated\n",
    "sequence.\n",
    "Example\n",
    "Let us assume the following comma separated input sequence is given to the program:\n",
    "100,150,180\n",
    "The output of the program should be:\n",
    "18,22,24"
   ]
  },
  {
   "cell_type": "code",
   "execution_count": 1,
   "id": "4e21f4b5",
   "metadata": {},
   "outputs": [
    {
     "name": "stdout",
     "output_type": "stream",
     "text": [
      "Enter the comma-separated sequence of values for D: 100,200,300,400\n",
      "18,26,32,37\n"
     ]
    }
   ],
   "source": [
    "import math\n",
    "\n",
    "C = 50\n",
    "H = 30\n",
    "\n",
    "input_sequence = input(\"Enter the comma-separated sequence of values for D: \")\n",
    "input_list = input_sequence.split(\",\")\n",
    "\n",
    "result_list = []\n",
    "for value in input_list:\n",
    "    D = int(value)\n",
    "    Q = math.sqrt((2 * C * D) / H)\n",
    "    result_list.append(str(round(Q)))\n",
    "\n",
    "output = \",\".join(result_list)\n",
    "print(output)"
   ]
  },
  {
   "cell_type": "markdown",
   "id": "46a6abc0",
   "metadata": {},
   "source": [
    "Question 2:\n",
    "Write a program which takes 2 digits, X,Y as input and generates a 2-dimensional array. The\n",
    "element value in the i-th row and j-th column of the array should be i*j.\n",
    "Note: i=0,1.., X-1; j=0,1,¡Y-1.\n",
    "Example\n",
    "Suppose the following inputs are given to the program:\n",
    "3,5\n",
    "Then, the output of the program should be:\n",
    "[[0, 0, 0, 0, 0], [0, 1, 2, 3, 4], [0, 2, 4, 6, 8]]"
   ]
  },
  {
   "cell_type": "code",
   "execution_count": 2,
   "id": "b6a16894",
   "metadata": {},
   "outputs": [
    {
     "name": "stdout",
     "output_type": "stream",
     "text": [
      "Enter two digits (X,Y): 2,4\n",
      "[[0, 0, 0, 0], [0, 1, 2, 3]]\n"
     ]
    }
   ],
   "source": [
    "X, Y = map(int, input(\"Enter two digits (X,Y): \").split(\",\"))\n",
    "\n",
    "array = []\n",
    "for i in range(X):\n",
    "    row = []\n",
    "    for j in range(Y):\n",
    "        row.append(i * j)\n",
    "    array.append(row)\n",
    "\n",
    "print(array)"
   ]
  },
  {
   "cell_type": "markdown",
   "id": "8ca1262e",
   "metadata": {},
   "source": [
    "Question 3:\n",
    "Write a program that accepts a comma separated sequence of words as input and prints the\n",
    "words in a comma-separated sequence after sorting them alphabetically.\n",
    "Suppose the following input is supplied to the program:\n",
    "without,hello,bag,world\n",
    "Then, the output should be:\n",
    "bag,hello,without,world"
   ]
  },
  {
   "cell_type": "code",
   "execution_count": 3,
   "id": "e7367973",
   "metadata": {},
   "outputs": [
    {
     "name": "stdout",
     "output_type": "stream",
     "text": [
      "Enter a comma-separated sequence of words: without,hello,bag,world bag,hello,without,world\n",
      "bag,hello,hello,without,without,world,world bag\n"
     ]
    }
   ],
   "source": [
    "input_sequence = input(\"Enter a comma-separated sequence of words: \")\n",
    "word_list = input_sequence.split(\",\")\n",
    "word_list.sort()\n",
    "output = \",\".join(word_list)\n",
    "print(output)"
   ]
  },
  {
   "cell_type": "markdown",
   "id": "9bac792c",
   "metadata": {},
   "source": [
    "Question 4:\n",
    "Write a program that accepts a sequence of whitespace separated words as input and prints\n",
    "the words after removing all duplicate words and sorting them alphanumerically.\n",
    "Suppose the following input is supplied to the program:\n",
    "hello world and practice makes perfect and hello world again\n",
    "Then, the output should be:\n",
    "again and hello makes perfect practice world"
   ]
  },
  {
   "cell_type": "code",
   "execution_count": 5,
   "id": "845e2937",
   "metadata": {},
   "outputs": [
    {
     "name": "stdout",
     "output_type": "stream",
     "text": [
      "Enter a sequence of whitespace-separated words: hello world and practice makes perfect and hello world again\n",
      "again and hello makes perfect practice world\n"
     ]
    }
   ],
   "source": [
    "input_sequence = input(\"Enter a sequence of whitespace-separated words: \")\n",
    "word_list = input_sequence.split()\n",
    "\n",
    "unique_words = sorted(set(word_list))\n",
    "output = \" \".join(unique_words)\n",
    "print(output)"
   ]
  },
  {
   "cell_type": "markdown",
   "id": "6ac6e7d4",
   "metadata": {},
   "source": [
    "Question 5:\n",
    "Write a program that accepts a sentence and calculate the number of letters and digits.\n",
    "Suppose the following input is supplied to the program:\n",
    "hello world! 123\n",
    "Then, the output should be:\n",
    "LETTERS 10"
   ]
  },
  {
   "cell_type": "code",
   "execution_count": 8,
   "id": "daf5e575",
   "metadata": {},
   "outputs": [
    {
     "name": "stdout",
     "output_type": "stream",
     "text": [
      "Enter a sentence: hello world! 123\n",
      "LETTERS 10\n",
      "DIGITS 3\n"
     ]
    }
   ],
   "source": [
    "input_sentence = input(\"Enter a sentence: \")\n",
    "\n",
    "letter_count = 0\n",
    "digit_count = 0\n",
    "\n",
    "for char in input_sentence:\n",
    "    if char.isalpha():\n",
    "        letter_count += 1\n",
    "    elif char.isdigit():\n",
    "        digit_count += 1\n",
    "\n",
    "print(\"LETTERS\", letter_count)\n",
    "print(\"DIGITS\", digit_count)"
   ]
  },
  {
   "cell_type": "markdown",
   "id": "fd6248a3",
   "metadata": {},
   "source": [
    "Question 6:\n",
    "A website requires the users to input username and password to register. Write a program to\n",
    "check the validity of password input by users.\n",
    "Following are the criteria for checking the password:\n",
    "1. At least 1 letter between [a-z]\n",
    "2. At least 1 number between [0-9]\n",
    "1. At least 1 letter between [A-Z]\n",
    "3. At least 1 character from [$#@]\n",
    "4. Minimum length of transaction password: 6\n",
    "5. Maximum length of transaction password: 12\n",
    "Your program should accept a sequence of comma separated passwords and will check them\n",
    "according to the above criteria. Passwords that match the criteria are to be printed, each\n",
    "separated by a comma.\n",
    "Example\n",
    "If the following passwords are given as input to the program:\n",
    "ABd1234@1,a F1#,2w3E*,2We3345\n",
    "Then, the output of the program should be:\n",
    "ABd1234@1"
   ]
  },
  {
   "cell_type": "code",
   "execution_count": 10,
   "id": "e59817b5",
   "metadata": {},
   "outputs": [
    {
     "name": "stdout",
     "output_type": "stream",
     "text": [
      "Enter comma-separated passwords: ABd1234@1,a F1#,2w3E*,2We3345\n",
      "ABd1234@1\n"
     ]
    }
   ],
   "source": [
    "import re\n",
    "\n",
    "def check_password_validity(password):\n",
    "    if len(password) < 6 or len(password) > 12:\n",
    "        return False\n",
    "    if not re.search(\"[a-z]\", password):\n",
    "        return False\n",
    "    if not re.search(\"[0-9]\", password):\n",
    "        return False\n",
    "    if not re.search(\"[A-Z]\", password):\n",
    "        return False\n",
    "    if not re.search(\"[$#@]\", password):\n",
    "        return False\n",
    "    return True\n",
    "\n",
    "input_passwords = input(\"Enter comma-separated passwords: \")\n",
    "password_list = input_passwords.split(\",\")\n",
    "\n",
    "valid_passwords = []\n",
    "for password in password_list:\n",
    "    if check_password_validity(password):\n",
    "        valid_passwords.append(password)\n",
    "\n",
    "output = \",\".join(valid_passwords)\n",
    "print(output)"
   ]
  }
 ],
 "metadata": {
  "kernelspec": {
   "display_name": "Python 3 (ipykernel)",
   "language": "python",
   "name": "python3"
  },
  "language_info": {
   "codemirror_mode": {
    "name": "ipython",
    "version": 3
   },
   "file_extension": ".py",
   "mimetype": "text/x-python",
   "name": "python",
   "nbconvert_exporter": "python",
   "pygments_lexer": "ipython3",
   "version": "3.9.13"
  }
 },
 "nbformat": 4,
 "nbformat_minor": 5
}

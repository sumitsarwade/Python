{
 "cells": [
  {
   "cell_type": "markdown",
   "id": "4210323b",
   "metadata": {},
   "source": [
    "## Python Advance Assignment 10"
   ]
  },
  {
   "cell_type": "markdown",
   "id": "c137224a",
   "metadata": {},
   "source": [
    "#### Q1. What is the difference between __getattr__ and __getattribute__?"
   ]
  },
  {
   "cell_type": "markdown",
   "id": "307dd115",
   "metadata": {},
   "source": [
    "__getattr__: This method is called when the requested attribute is not found through normal lookup. It is only invoked if the attribute is not present in the object's instance dictionary or in its class hierarchy. The __getattr__ method takes a single argument, which is the name of the attribute being accessed. It allows you to define custom behavior for attribute access when the attribute is not found.\n",
    "\n",
    "\n",
    "__getattribute__: This method is called every time an attribute is accessed, regardless of whether it exists or not. It is invoked before checking the instance dictionary or the class hierarchy. The __getattribute__ method takes a single argument, which is the name of the attribute being accessed. It allows you to define custom behavior for all attribute access, including existing attributes."
   ]
  },
  {
   "cell_type": "markdown",
   "id": "bd8677e1",
   "metadata": {},
   "source": [
    "To summarize:\n",
    "\n",
    "\n",
    "__getattr__ is called when the attribute is not found, while __getattribute__ is called for all attribute access.\n",
    "\n",
    "\n",
    "__getattr__ is a fallback for missing attributes, while __getattribute__ is called for all attribute access, including existing attributes.\n",
    "\n",
    "\n",
    "__getattr__ is only called if the attribute is not found, but __getattribute__ is always called first, regardless of the attribute's existence.\n",
    "\n",
    "\n",
    "It's important to be cautious when implementing __getattribute__ since accessing attributes within the method can lead to recursive calls and potential infinite loops. In most cases, it is recommended to use __getattr__ for custom attribute lookup when the attribute is not present."
   ]
  },
  {
   "cell_type": "markdown",
   "id": "44c04c49",
   "metadata": {},
   "source": [
    "#### Q2. What is the difference between properties and descriptors?"
   ]
  },
  {
   "cell_type": "markdown",
   "id": "cb5e6dd7",
   "metadata": {},
   "source": [
    "1]Definition:\n",
    "Properties are defined at the class level using the @property decorator and related decorators (@<property>.setter, @<property>.deleter). They are accessed and assigned like regular attributes but with custom behavior.\n",
    "Descriptors are objects defined as class attributes that have at least one of the following methods: __get__, __set__, and __delete__. Descriptors are accessed and assigned via attribute access on the class or instance."
   ]
  },
  {
   "cell_type": "markdown",
   "id": "9df940b1",
   "metadata": {},
   "source": [
    "2]Attribute Access:    \n",
    "Properties define custom behavior for a specific attribute name. They intercept attribute access and allow you to define a getter, setter, and deleter for that attribute.\n",
    "Descriptors allow you to customize attribute access and modification for one or more attributes defined by the descriptor class itself. Descriptors can be shared across multiple instances of a class."
   ]
  },
  {
   "cell_type": "markdown",
   "id": "46543bdb",
   "metadata": {},
   "source": [
    "3]Implementation:\n",
    "Properties are implemented using methods, allowing you to define custom logic when accessing or modifying the associated attribute.\n",
    "Descriptors are implemented as objects that define __get__, __set__, and/or __delete__ methods, providing custom behavior for attribute access and modification."
   ]
  },
  {
   "cell_type": "markdown",
   "id": "2bfc1a10",
   "metadata": {},
   "source": [
    "#### Q3. What are the key differences in functionality between __getattr__ and __getattribute__, as well as properties and descriptors?"
   ]
  },
  {
   "cell_type": "markdown",
   "id": "e56ee129",
   "metadata": {},
   "source": [
    "__getattr__:\n",
    "Called only when the attribute is not found through normal lookup.\n",
    "Provides a fallback mechanism for accessing missing attributes.\n",
    "Does not intercept the access to existing attributes.\n",
    "Can be defined at the instance level or in a class.\n",
    "\n",
    "\n",
    "__getattribute__:\n",
    "Called for every attribute access, regardless of existence.\n",
    "Invoked before checking the instance dictionary or class hierarchy.\n",
    "Allows you to define custom behavior for all attribute access.\n",
    "Can be used to intercept access to both existing and missing attributes.\n",
    "Be cautious to avoid recursive calls when accessing attributes within this method."
   ]
  },
  {
   "cell_type": "markdown",
   "id": "a6ba99da",
   "metadata": {},
   "source": [
    "Properties:\n",
    "Used to define special behavior when accessing or modifying attributes.\n",
    "Use getter, setter, and deleter methods to define the property behavior.\n",
    "Properties are accessed and assigned as regular attributes but with custom behavior.\n",
    "Provide a clean and intuitive interface for attribute access and modification.\n",
    "Can be defined at the instance level or in a class.\n",
    "\n",
    "\n",
    "Descriptors:\n",
    "Objects that define attribute access behavior and are used by classes.\n",
    "Consist of at least one of three methods: __get__, __set__, and __delete__.\n",
    "Allows customization of attribute access and modification at the class level.\n",
    "Descriptors are defined as class attributes and can be shared across multiple instances.\n",
    "Provide a powerful mechanism for controlling attribute access and modification."
   ]
  },
  {
   "cell_type": "markdown",
   "id": "0e36367c",
   "metadata": {},
   "source": [
    "In summary, here are the key differences:\n",
    "\n",
    "\n",
    "_getattr__ and __getattribute__ are instance-level methods, while properties and descriptors are class-level constructs.\n",
    "\n",
    "\n",
    "__getattr__ and __getattribute__ provide custom attribute access behavior, whereas properties and descriptors define custom behavior for specific attributes.\n",
    "__getattr__ is a fallback mechanism for missing attributes, while __getattribute__ intercepts all attribute access.\n",
    "\n",
    "\n",
    "Properties and descriptors offer a clean and intuitive way to customize attribute access and modification, while __getattr__ and __getattribute__ are more general-purpose and can have broader effects on attribute access."
   ]
  }
 ],
 "metadata": {
  "kernelspec": {
   "display_name": "Python 3 (ipykernel)",
   "language": "python",
   "name": "python3"
  },
  "language_info": {
   "codemirror_mode": {
    "name": "ipython",
    "version": 3
   },
   "file_extension": ".py",
   "mimetype": "text/x-python",
   "name": "python",
   "nbconvert_exporter": "python",
   "pygments_lexer": "ipython3",
   "version": "3.9.13"
  }
 },
 "nbformat": 4,
 "nbformat_minor": 5
}

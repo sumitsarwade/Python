{
 "cells": [
  {
   "cell_type": "markdown",
   "id": "54b911f3",
   "metadata": {},
   "source": [
    "## Python Advance Assignment 25"
   ]
  },
  {
   "cell_type": "markdown",
   "id": "27015cd0",
   "metadata": {},
   "source": [
    "#### Q1. What is the distinction between a numpy array and a pandas data frame? Is there a way to convert between the two if there is?"
   ]
  },
  {
   "cell_type": "markdown",
   "id": "c3fa61a9",
   "metadata": {},
   "source": [
    "NumPy Array: A NumPy array is a multi-dimensional container of homogeneous data elements. It provides efficient storage and operations for large arrays of numerical data. NumPy arrays are useful for mathematical and numerical computations.\n",
    "\n",
    "\n",
    "Pandas DataFrame: A Pandas DataFrame is a two-dimensional labeled data structure. It can contain columns of different types (e.g., numerical, categorical, datetime) and allows for flexible indexing and data manipulation. DataFrames are designed for handling tabular data and are widely used for data analysis and manipulation."
   ]
  },
  {
   "cell_type": "markdown",
   "id": "0fd31f9e",
   "metadata": {},
   "source": [
    "Conversion between NumPy arrays and Pandas DataFrames is straightforward, as Pandas provides functions to convert between the two data structures:\n",
    "\n",
    "\n",
    "NumPy Array to DataFrame: You can convert a NumPy array to a Pandas DataFrame using the pd.DataFrame() constructor. Each column in the DataFrame will correspond to a dimension in the NumPy array.\n",
    "\n",
    "\n",
    "DataFrame to NumPy Array: You can obtain a NumPy array representation of a Pandas DataFrame by accessing the values attribute of the DataFrame."
   ]
  },
  {
   "cell_type": "code",
   "execution_count": 1,
   "id": "cc25e582",
   "metadata": {},
   "outputs": [
    {
     "name": "stdout",
     "output_type": "stream",
     "text": [
      "   A  B  C\n",
      "0  1  2  3\n",
      "1  4  5  6\n",
      "[[1 2 3]\n",
      " [4 5 6]]\n"
     ]
    }
   ],
   "source": [
    "import numpy as np\n",
    "import pandas as pd\n",
    "\n",
    "# Convert NumPy array to DataFrame\n",
    "arr = np.array([[1, 2, 3], [4, 5, 6]])\n",
    "df = pd.DataFrame(arr, columns=['A', 'B', 'C'])\n",
    "print(df)\n",
    "\n",
    "# Convert DataFrame to NumPy array\n",
    "np_array = df.values\n",
    "print(np_array)"
   ]
  },
  {
   "cell_type": "markdown",
   "id": "b0b851e9",
   "metadata": {},
   "source": [
    "#### Q2. What can go wrong when an user enters in a stock-ticker symbol, and how do you handle it?"
   ]
  },
  {
   "cell_type": "markdown",
   "id": "f85e7580",
   "metadata": {},
   "source": [
    "When a user enters a stock ticker symbol, several things can go wrong, such as:\n",
    "\n",
    "\n",
    "Invalid Symbol: The user may enter an invalid or non-existent stock ticker symbol.\n",
    "\n",
    "\n",
    "Case Sensitivity: Stock ticker symbols are often case-sensitive, so if the user enters the symbol in the wrong case, it may not be recognized.\n",
    "\n",
    "\n",
    "Data Availability: Some stock ticker symbols may not have data available for the requested time period or exchange."
   ]
  },
  {
   "cell_type": "markdown",
   "id": "375fb86a",
   "metadata": {},
   "source": [
    "To handle these issues, you can implement error handling mechanisms such as:\n",
    "\n",
    "\n",
    "Validation: Validate the user input to ensure it matches the expected format for a stock ticker symbol.\n",
    "\n",
    "\n",
    "Data Source Verification: Check the validity of the stock ticker symbol against a reliable data source or API to confirm its existence.\n",
    "\n",
    "\n",
    "Error Handling: Implement appropriate error handling routines to provide informative messages to the user when invalid symbols are entered or data is unavailable."
   ]
  },
  {
   "cell_type": "markdown",
   "id": "ad8bca78",
   "metadata": {},
   "source": [
    "#### Q3. Identify some of the plotting techniques that are used to produce a stock-market chart."
   ]
  },
  {
   "cell_type": "markdown",
   "id": "eb2c86d3",
   "metadata": {},
   "source": [
    "Line Charts: Line charts are commonly used to display the historical price trends of a stock over time. Each data point represents the closing price of the stock, and the line connects these points to visualize the price movement.\n",
    "\n",
    "\n",
    "Candlestick Charts: Candlestick charts provide a more detailed view of stock price movements by representing each trading period (e.g., day) as a candlestick. The candlestick includes information about the opening, closing, highest, and lowest prices for that period."
   ]
  },
  {
   "cell_type": "markdown",
   "id": "6b352976",
   "metadata": {},
   "source": [
    "Moving Averages: Moving averages are used to smooth out price data and identify trends over a specified period. Commonly used moving averages include the simple moving average (SMA) and the exponential moving average (EMA).\n",
    "\n",
    "\n",
    "Volume Charts: Volume charts display the trading volume (number of shares traded) over time. They can help identify periods of high or low activity in the stock market."
   ]
  },
  {
   "cell_type": "markdown",
   "id": "252518a3",
   "metadata": {},
   "source": [
    "#### Q4. Why is it essential to print a legend on a stock market chart?"
   ]
  },
  {
   "cell_type": "markdown",
   "id": "bae62409",
   "metadata": {},
   "source": [
    "It is essential to print a legend on a stock market chart to provide an explanation of the information displayed on the chart. The legend helps users understand the meaning of different elements or lines on the chart, such as the stock symbol, price movements, or technical indicators. By including a legend, users can interpret the chart accurately and make informed decisions based on the information presented."
   ]
  },
  {
   "cell_type": "markdown",
   "id": "15c0ae0d",
   "metadata": {},
   "source": [
    "#### Q5. What is the best way to limit the length of a pandas data frame to less than a year?"
   ]
  },
  {
   "cell_type": "markdown",
   "id": "a58b1bd7",
   "metadata": {},
   "source": [
    "To limit the length of a Pandas DataFrame to less than a year, you can filter the data based on the date or time period. Assuming your DataFrame has a column representing dates or timestamps, you can use date-based filtering methods to select the desired time range."
   ]
  },
  {
   "cell_type": "markdown",
   "id": "42e28c45",
   "metadata": {},
   "source": [
    "#### Q6. What is the definition of a 180-day moving average?"
   ]
  },
  {
   "cell_type": "markdown",
   "id": "b0ae00a4",
   "metadata": {},
   "source": [
    "A 180-day moving average refers to a statistical calculation that smooths out fluctuations in data over a period of 180 days. It is commonly used in financial analysis and time series data to identify trends and patterns. To calculate the 180-day moving average, you take the average of the data values over the past 180 days at each point in time."
   ]
  },
  {
   "cell_type": "markdown",
   "id": "d4b016eb",
   "metadata": {},
   "source": [
    "#### Q7. Did the chapter&#39;s final example use &quot;indirect&quot; importing? If so, how exactly do you do it?"
   ]
  },
  {
   "cell_type": "markdown",
   "id": "5c2da1d8",
   "metadata": {},
   "source": [
    "\"Indirect\" importing, also known as importing through an alias, was not specifically mentioned in the context of the chapter's final example. However, in Python, you can perform indirect importing by using the import statement with the as keyword to assign an alias to the imported module."
   ]
  },
  {
   "cell_type": "code",
   "execution_count": 6,
   "id": "517443c9",
   "metadata": {},
   "outputs": [],
   "source": [
    "import pandas as pd\n",
    "\n",
    "# Importing pandas module with an alias 'pd'"
   ]
  }
 ],
 "metadata": {
  "kernelspec": {
   "display_name": "Python 3 (ipykernel)",
   "language": "python",
   "name": "python3"
  },
  "language_info": {
   "codemirror_mode": {
    "name": "ipython",
    "version": 3
   },
   "file_extension": ".py",
   "mimetype": "text/x-python",
   "name": "python",
   "nbconvert_exporter": "python",
   "pygments_lexer": "ipython3",
   "version": "3.9.13"
  }
 },
 "nbformat": 4,
 "nbformat_minor": 5
}

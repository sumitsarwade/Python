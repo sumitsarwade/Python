{
 "cells": [
  {
   "cell_type": "markdown",
   "id": "1c489e33",
   "metadata": {},
   "source": [
    "## Python Programming Assignment 16"
   ]
  },
  {
   "cell_type": "markdown",
   "id": "a664dd05",
   "metadata": {},
   "source": [
    "Question1. Write a function that stutters a word as if someone is struggling to read it. The\n",
    "first two letters are repeated twice with an ellipsis ... and space after each, and then the\n",
    "word is pronounced with a question mark ?.\n",
    "Examples\n",
    "#### stutter(&quot;incredible&quot;) ➞ &quot;in... in... incredible?&quot;\n",
    "#### stutter(&quot;enthusiastic&quot;) ➞ &quot;en... en... enthusiastic?&quot;\n",
    "#### stutter(&quot;outstanding&quot;) ➞ &quot;ou... ou... outstanding?&quot;"
   ]
  },
  {
   "cell_type": "code",
   "execution_count": 1,
   "id": "adf56d5e",
   "metadata": {},
   "outputs": [
    {
     "name": "stdout",
     "output_type": "stream",
     "text": [
      "in... in... incredible?\n",
      "en... en... enthusiastic?\n",
      "ou... ou... outstanding?\n"
     ]
    }
   ],
   "source": [
    "def stutter(word):\n",
    "    stuttered_word = word[:2] + \"... \" + word[:2] + \"... \" + word + \"?\"\n",
    "    return stuttered_word\n",
    "print(stutter(\"incredible\"))      \n",
    "print(stutter(\"enthusiastic\"))   \n",
    "print(stutter(\"outstanding\"))   "
   ]
  },
  {
   "cell_type": "markdown",
   "id": "95a75910",
   "metadata": {},
   "source": [
    "Question 2.Create a function that takes an angle in radians and returns the corresponding\n",
    "angle in degrees rounded to one decimal place.\n",
    "Examples\n",
    "radians_to_degrees(1) ➞ 57.3\n",
    "radians_to_degrees(20) ➞ 1145.9\n",
    "radians_to_degrees(50) ➞ 2864.8"
   ]
  },
  {
   "cell_type": "code",
   "execution_count": 2,
   "id": "944b2495",
   "metadata": {},
   "outputs": [
    {
     "name": "stdout",
     "output_type": "stream",
     "text": [
      "57.3\n",
      "1145.9\n",
      "2864.8\n"
     ]
    }
   ],
   "source": [
    "import math\n",
    "\n",
    "def radians_to_degrees(radians):\n",
    "    degrees = radians * (180 / math.pi)\n",
    "    return round(degrees, 1)\n",
    "\n",
    "print(radians_to_degrees(1))    \n",
    "print(radians_to_degrees(20))   \n",
    "print(radians_to_degrees(50))   "
   ]
  },
  {
   "cell_type": "code",
   "execution_count": null,
   "id": "f1b63799",
   "metadata": {},
   "outputs": [],
   "source": [
    "Question 3. In this challenge, establish if a given integer num is a Curzon number. If 1 plus\n",
    "2 elevated to num is exactly divisible by 1 plus 2 multiplied by num, then num is a Curzon\n",
    "number.\n",
    "Given a non-negative integer num, implement a function that returns True if num is a Curzon\n",
    "number, or False otherwise.\n",
    "Examples\n",
    "is_curzon(5) ➞ True\n",
    "# 2 ** 5 + 1 = 33\n",
    "# 2 * 5 + 1 = 11\n",
    "# 33 is a multiple of 11\n",
    "is_curzon(10) ➞ False\n",
    "# 2 ** 10 + 1 = 1025\n",
    "# 2 * 10 + 1 = 21\n",
    "# 1025 is not a multiple of 21\n",
    "is_curzon(14) ➞ True\n",
    "# 2 ** 14 + 1 = 16385\n",
    "# 2 * 14 + 1 = 29\n",
    "# 16385 is a multiple of 29"
   ]
  },
  {
   "cell_type": "code",
   "execution_count": 3,
   "id": "24ed9e10",
   "metadata": {},
   "outputs": [
    {
     "name": "stdout",
     "output_type": "stream",
     "text": [
      "True\n",
      "False\n",
      "True\n"
     ]
    }
   ],
   "source": [
    "def is_curzon(num):\n",
    "    numerator = 2 ** num + 1\n",
    "    denominator = 2 * num + 1\n",
    "    return numerator % denominator == 0\n",
    "print(is_curzon(5))  \n",
    "print(is_curzon(10)) \n",
    "print(is_curzon(14))   \n"
   ]
  },
  {
   "cell_type": "code",
   "execution_count": null,
   "id": "937c4b6a",
   "metadata": {},
   "outputs": [],
   "source": [
    "Q4 4.Given the side length x find the area of a hexagon."
   ]
  },
  {
   "cell_type": "code",
   "execution_count": 4,
   "id": "0b25f7e2",
   "metadata": {},
   "outputs": [
    {
     "name": "stdout",
     "output_type": "stream",
     "text": [
      "2.6\n",
      "10.4\n",
      "23.4\n"
     ]
    }
   ],
   "source": [
    "import math\n",
    "\n",
    "def area_of_hexagon(side_length):\n",
    "    area = (3 * math.sqrt(3) * side_length**2) / 2\n",
    "    return round(area, 1)\n",
    "\n",
    "print(area_of_hexagon(1))    \n",
    "print(area_of_hexagon(2))  \n",
    "print(area_of_hexagon(3))    \n"
   ]
  },
  {
   "cell_type": "code",
   "execution_count": null,
   "id": "edb0a57c",
   "metadata": {},
   "outputs": [],
   "source": [
    "Question 5. Create a function that returns a base-2 (binary) representation of a base-10\n",
    "(decimal) string number. To convert is simple: ((2) means base-2 and (10) means base-10)\n",
    "010101001(2) = 1 + 8 + 32 + 128.\n",
    "Going from right to left, the value of the most right bit is 1, now from that every bit to the left\n",
    "will be x2 the value, value of an 8 bit binary numbers are (256, 128, 64, 32, 16, 8, 4, 2, 1)."
   ]
  },
  {
   "cell_type": "code",
   "execution_count": 6,
   "id": "9a880a81",
   "metadata": {},
   "outputs": [
    {
     "name": "stdout",
     "output_type": "stream",
     "text": [
      "1\n",
      "101\n",
      "1010\n"
     ]
    }
   ],
   "source": [
    "def binary(decimal):\n",
    "    binary_str = \"\"\n",
    "    while decimal > 0:\n",
    "        binary_str = str(decimal % 2) + binary_str\n",
    "        decimal = decimal // 2\n",
    "    return binary_str\n",
    "print(binary(1))     \n",
    "print(binary(5))    \n",
    "print(binary(10))    "
   ]
  }
 ],
 "metadata": {
  "kernelspec": {
   "display_name": "Python 3 (ipykernel)",
   "language": "python",
   "name": "python3"
  },
  "language_info": {
   "codemirror_mode": {
    "name": "ipython",
    "version": 3
   },
   "file_extension": ".py",
   "mimetype": "text/x-python",
   "name": "python",
   "nbconvert_exporter": "python",
   "pygments_lexer": "ipython3",
   "version": "3.9.13"
  }
 },
 "nbformat": 4,
 "nbformat_minor": 5
}

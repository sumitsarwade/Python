{
 "cells": [
  {
   "cell_type": "markdown",
   "id": "fcece4de",
   "metadata": {},
   "source": [
    "## Python Programming Assignment 9"
   ]
  },
  {
   "cell_type": "code",
   "execution_count": null,
   "id": "c00f0627",
   "metadata": {},
   "outputs": [],
   "source": [
    "1. Write a Python program to check if the given number is a Disarium Number?"
   ]
  },
  {
   "cell_type": "code",
   "execution_count": 1,
   "id": "347c025d",
   "metadata": {},
   "outputs": [
    {
     "name": "stdout",
     "output_type": "stream",
     "text": [
      "Enter a number: 10\n",
      "10 is not a Disarium number.\n"
     ]
    }
   ],
   "source": [
    "num = int(input(\"Enter a number: \"))\n",
    "num_str = str(num)\n",
    "length = len(num_str)\n",
    "sum = 0\n",
    "\n",
    "for i in range(length):\n",
    "    sum += int(num_str[i]) ** (i + 1)\n",
    "\n",
    "if sum == num:\n",
    "    print(num, \"is a Disarium number.\")\n",
    "else:\n",
    "    print(num, \"is not a Disarium number.\")"
   ]
  },
  {
   "cell_type": "code",
   "execution_count": null,
   "id": "28aa6867",
   "metadata": {},
   "outputs": [],
   "source": [
    "2. Write a Python program to print all disarium numbers between 1 to 100?"
   ]
  },
  {
   "cell_type": "code",
   "execution_count": 2,
   "id": "9bf2e234",
   "metadata": {},
   "outputs": [
    {
     "name": "stdout",
     "output_type": "stream",
     "text": [
      "Disarium numbers between 1 and 100:\n",
      "1\n",
      "2\n",
      "3\n",
      "4\n",
      "5\n",
      "6\n",
      "7\n",
      "8\n",
      "9\n",
      "89\n"
     ]
    }
   ],
   "source": [
    "print(\"Disarium numbers between 1 and 100:\")\n",
    "for num in range(1, 101):\n",
    "    num_str = str(num)\n",
    "    length = len(num_str)\n",
    "    sum = 0\n",
    "\n",
    "    for i in range(length):\n",
    "        sum += int(num_str[i]) ** (i + 1)\n",
    "\n",
    "    if sum == num:\n",
    "        print(num)"
   ]
  },
  {
   "cell_type": "code",
   "execution_count": null,
   "id": "b00bb38d",
   "metadata": {},
   "outputs": [],
   "source": [
    "3. Write a Python program to check if the given number is Happy Number?"
   ]
  },
  {
   "cell_type": "code",
   "execution_count": 8,
   "id": "565bade8",
   "metadata": {},
   "outputs": [
    {
     "name": "stdout",
     "output_type": "stream",
     "text": [
      "Enter a number: 1\n",
      "1 is a Happy number.\n"
     ]
    }
   ],
   "source": [
    "def is_happy_number(num):\n",
    "    visited = set()\n",
    "\n",
    "    while True:\n",
    "        num_str = str(num)\n",
    "        happy_sum = 0\n",
    "\n",
    "        for digit in num_str:\n",
    "            happy_sum += int(digit) ** 2\n",
    "\n",
    "        if happy_sum == 1:\n",
    "            return True\n",
    "        elif happy_sum in visited:\n",
    "            return False\n",
    "        else:\n",
    "            visited.add(happy_sum)\n",
    "            num = happy_sum\n",
    "\n",
    "number = int(input(\"Enter a number: \"))\n",
    "if is_happy_number(number):\n",
    "    print(number, \"is a Happy number.\")\n",
    "else:\n",
    "    print(number, \"is not a Happy number.\")"
   ]
  },
  {
   "cell_type": "code",
   "execution_count": null,
   "id": "040d7453",
   "metadata": {},
   "outputs": [],
   "source": [
    "4. Write a Python program to print all happy numbers between 1 and 100?"
   ]
  },
  {
   "cell_type": "code",
   "execution_count": 13,
   "id": "f7432c7d",
   "metadata": {},
   "outputs": [
    {
     "name": "stdout",
     "output_type": "stream",
     "text": [
      "Happy numbers between 1 and 100:\n",
      "1\n",
      "7\n",
      "10\n",
      "13\n",
      "19\n",
      "23\n",
      "28\n",
      "31\n",
      "32\n",
      "44\n",
      "49\n",
      "68\n",
      "70\n",
      "79\n",
      "82\n",
      "86\n",
      "91\n",
      "94\n",
      "97\n",
      "100\n"
     ]
    }
   ],
   "source": [
    "def calculate_happy_sum(num):\n",
    "    happy_sum = 0\n",
    "\n",
    "    while num > 0:\n",
    "        digit = num % 10\n",
    "        happy_sum += digit ** 2\n",
    "        num //= 10\n",
    "\n",
    "    return happy_sum\n",
    "\n",
    "def is_happy_number(num):\n",
    "    visited = set()\n",
    "\n",
    "    while num != 1 and num not in visited:\n",
    "        visited.add(num)\n",
    "        num = calculate_happy_sum(num)\n",
    "\n",
    "    return num == 1\n",
    "\n",
    "print(\"Happy numbers between 1 and 100:\")\n",
    "for num in range(1, 101):\n",
    "    if is_happy_number(num):\n",
    "        print(num)"
   ]
  },
  {
   "cell_type": "code",
   "execution_count": null,
   "id": "93e0e8a9",
   "metadata": {},
   "outputs": [],
   "source": [
    "5. Write a Python program to determine whether the given number is a Harshad Number?"
   ]
  },
  {
   "cell_type": "code",
   "execution_count": 16,
   "id": "c4874b76",
   "metadata": {},
   "outputs": [
    {
     "name": "stdout",
     "output_type": "stream",
     "text": [
      "Enter a number: 10\n",
      "10 is a Harshad number.\n"
     ]
    }
   ],
   "source": [
    "def is_harshad_number(number):\n",
    "    sum_digits = 0\n",
    "    temp = number\n",
    "\n",
    "    while temp > 0:\n",
    "        digit = temp % 10\n",
    "        sum_digits += digit\n",
    "        temp //= 10\n",
    "\n",
    "    return number % sum_digits == 0\n",
    "\n",
    "number = int(input(\"Enter a number: \"))\n",
    "\n",
    "if is_harshad_number(number):\n",
    "    print(number, \"is a Harshad number.\")\n",
    "else:\n",
    "    print(number, \"is not a Harshad number.\")"
   ]
  },
  {
   "cell_type": "code",
   "execution_count": null,
   "id": "97d9a65e",
   "metadata": {},
   "outputs": [],
   "source": [
    "6. Write a Python program to print all pronic numbers between 1 and 100?"
   ]
  },
  {
   "cell_type": "code",
   "execution_count": 18,
   "id": "d4f2ad76",
   "metadata": {},
   "outputs": [
    {
     "name": "stdout",
     "output_type": "stream",
     "text": [
      "Pronic numbers between 1 and 100:\n",
      "2\n",
      "6\n",
      "12\n",
      "20\n",
      "30\n",
      "42\n",
      "56\n",
      "72\n",
      "90\n"
     ]
    }
   ],
   "source": [
    "print(\"Pronic numbers between 1 and 100:\")\n",
    "for number in range(1, 101):\n",
    "    is_pronic = False\n",
    "\n",
    "    for i in range(1, int(number ** 0.5) + 1):\n",
    "        if i * (i + 1) == number:\n",
    "            is_pronic = True\n",
    "            break\n",
    "\n",
    "    if is_pronic:\n",
    "        print(number)"
   ]
  }
 ],
 "metadata": {
  "kernelspec": {
   "display_name": "Python 3 (ipykernel)",
   "language": "python",
   "name": "python3"
  },
  "language_info": {
   "codemirror_mode": {
    "name": "ipython",
    "version": 3
   },
   "file_extension": ".py",
   "mimetype": "text/x-python",
   "name": "python",
   "nbconvert_exporter": "python",
   "pygments_lexer": "ipython3",
   "version": "3.9.13"
  }
 },
 "nbformat": 4,
 "nbformat_minor": 5
}

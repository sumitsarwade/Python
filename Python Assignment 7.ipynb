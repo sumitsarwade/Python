{
 "cells": [
  {
   "cell_type": "markdown",
   "id": "2f62db0a",
   "metadata": {},
   "source": [
    "## Python Assignment 7"
   ]
  },
  {
   "cell_type": "markdown",
   "id": "47f958f9",
   "metadata": {},
   "source": [
    "### 1. What is the name of the feature responsible for generating Regex objects?"
   ]
  },
  {
   "cell_type": "markdown",
   "id": "163f7345",
   "metadata": {},
   "source": [
    "A regex object, short for regular expression object, refers to an instance of a regular expression pattern in a programming language that supports regular expressions."
   ]
  },
  {
   "cell_type": "markdown",
   "id": "cb1c2325",
   "metadata": {},
   "source": [
    "###### The re.compile()  function is used to generate a regex object in Python's re module. \n",
    "\n",
    "It takes a regular expression pattern as an argument and returns a compiled regex object."
   ]
  },
  {
   "cell_type": "markdown",
   "id": "92afaa9e",
   "metadata": {},
   "source": [
    "### 2. Why do raw strings often appear in Regex objects?"
   ]
  },
  {
   "cell_type": "markdown",
   "id": "6f0ba39f",
   "metadata": {},
   "source": [
    "Raw strings are often used in regex objects because they help simplify the handling of backslashes () in regular expression patterns. \n",
    "\n",
    "However, in regular expressions, backslashes also have special meaning and are used to escape metacharacters or represent certain character classes. This can lead to situations where you need to use double backslashes (\\\\) to represent a single backslash in a regular expression pattern.\n",
    "\n",
    "To avoid excessive backslash escaping and improve readability, raw strings are commonly used when defining regular expression patterns."
   ]
  },
  {
   "cell_type": "markdown",
   "id": "a121995c",
   "metadata": {},
   "source": [
    "### 3. What is the return value of the search() method?"
   ]
  },
  {
   "cell_type": "markdown",
   "id": "99c0d3df",
   "metadata": {},
   "source": [
    "The search() method in regular expression objects typically returns a match object if a match is found, or None if no match is found.\n",
    "\n",
    "In general, the match object provides information about the matched substring, its position in the original string, and additional methods for accessing and manipulating the match.\n"
   ]
  },
  {
   "cell_type": "code",
   "execution_count": 4,
   "id": "ba35fb31",
   "metadata": {},
   "outputs": [
    {
     "name": "stdout",
     "output_type": "stream",
     "text": [
      "Match found!\n",
      "Matched substring: pen\n",
      "Start position: 9\n",
      "End position: 12\n",
      "Tuple of start and end positions: (9, 12)\n"
     ]
    }
   ],
   "source": [
    "import re\n",
    "\n",
    "pattern = r'pen'\n",
    "text = 'I have a pen and a book'\n",
    "\n",
    "regex_obj = re.compile(pattern)\n",
    "match = regex_obj.search(text)\n",
    "\n",
    "if match:\n",
    "    print('Match found!')\n",
    "    print('Matched substring:', match.group())\n",
    "    print('Start position:', match.start())\n",
    "    print('End position:', match.end())\n",
    "    print('Tuple of start and end positions:', match.span())\n",
    "else:\n",
    "    print('No match found.')\n"
   ]
  },
  {
   "cell_type": "markdown",
   "id": "8cc95306",
   "metadata": {},
   "source": [
    "### 4. From a Match item, how do you get the actual strings that match the pattern?"
   ]
  },
  {
   "cell_type": "markdown",
   "id": "8cf958b8",
   "metadata": {},
   "source": [
    "To retrieve the actual strings that match the pattern from a match object, you can use the group() method. \n",
    "\n",
    "The group() method returns the matched substring that corresponds to the entire match or a specific capturing group within the match."
   ]
  },
  {
   "cell_type": "markdown",
   "id": "9297bcf2",
   "metadata": {},
   "source": [
    "### 5.In the regex which created from the r&#39;(\\d\\d\\d)-(\\d\\d\\d-\\d\\d\\d\\d)&#39;, what does group zero cover?Group 2? Group 1?"
   ]
  },
  {
   "cell_type": "markdown",
   "id": "78f288de",
   "metadata": {},
   "source": [
    "In the regex r'(\\d\\d\\d)-(\\d\\d\\d-\\d\\d\\d\\d)', the group zero (group(0)) covers the entire match, including both capturing groups and any characters that matched the entire pattern. Group 1 (group(1)) covers the first capturing group (\\d\\d\\d), and Group 2 (group(2)) covers the second capturing group (\\d\\d\\d-\\d\\d\\d\\d)."
   ]
  },
  {
   "cell_type": "code",
   "execution_count": 5,
   "id": "06d7d1ab",
   "metadata": {},
   "outputs": [
    {
     "name": "stdout",
     "output_type": "stream",
     "text": [
      "Full match: 123-456-7890\n",
      "Group 1: 123\n",
      "Group 2: 456-7890\n"
     ]
    }
   ],
   "source": [
    "import re\n",
    "\n",
    "pattern = r'(\\d\\d\\d)-(\\d\\d\\d-\\d\\d\\d\\d)'\n",
    "text = 'Phone number: 123-456-7890'\n",
    "\n",
    "regex_obj = re.compile(pattern)\n",
    "match = regex_obj.search(text)\n",
    "\n",
    "if match:\n",
    "    full_match = match.group(0)\n",
    "    group1 = match.group(1)\n",
    "    group2 = match.group(2)\n",
    "\n",
    "    print('Full match:', full_match)  # Output: Full match: 123-456-7890\n",
    "    print('Group 1:', group1)  # Output: Group 1: 123\n",
    "    print('Group 2:', group2)  # Output: Group 2: 456-7890\n",
    "else:\n",
    "    print('No match found.')\n"
   ]
  },
  {
   "cell_type": "markdown",
   "id": "828738f3",
   "metadata": {},
   "source": [
    "The group(0) returns the entire match \"123-456-7890\", which includes both capturing groups. group(1) returns the match of the first capturing group \"123\", and group(2) returns the match of the second capturing group \"456-7890\".\n",
    "\n",
    "Keep in mind that group(0) is often optional since it represents the entire match, and it's the default value returned if no argument is provided to the group() method."
   ]
  },
  {
   "cell_type": "markdown",
   "id": "8e320f02",
   "metadata": {},
   "source": [
    "### 6. In standard expression syntax, parentheses and intervals have distinct meanings. How can you tell a regex that you want it to fit real parentheses and periods?"
   ]
  },
  {
   "cell_type": "markdown",
   "id": "bcd11883",
   "metadata": {},
   "source": [
    "To tell a regular expression (regex) that you want to match literal parentheses and periods without any special interpretation, you can use the backslash () as an escape character. \n",
    "\n",
    "By placing a backslash before the parentheses or periods, you can indicate that they should be treated as literal characters rather than having their special meanings in regular expressions."
   ]
  },
  {
   "cell_type": "markdown",
   "id": "a1e35eee",
   "metadata": {},
   "source": [
    "1.Matching parentheses:\n",
    "To match literal parentheses, use \\( to match an opening parenthesis and \\) to match a closing parenthesis. \n",
    "\n",
    "For example, the regex pattern \\(example\\) will match the string \"(example)\"."
   ]
  },
  {
   "cell_type": "code",
   "execution_count": 6,
   "id": "e2edcb9a",
   "metadata": {},
   "outputs": [
    {
     "name": "stdout",
     "output_type": "stream",
     "text": [
      "['(example)']\n"
     ]
    }
   ],
   "source": [
    "import re\n",
    "\n",
    "pattern = r'\\(example\\)'\n",
    "text = 'This is an (example) string.'\n",
    "\n",
    "matches = re.findall(pattern, text)\n",
    "print(matches)  # Output: ['(example)']\n"
   ]
  },
  {
   "cell_type": "markdown",
   "id": "b6082e87",
   "metadata": {},
   "source": [
    "2.Matching periods:\n",
    "To match a literal period (dot), use \\.. For example, the regex pattern example\\.com will match the string \"example.com\"."
   ]
  },
  {
   "cell_type": "code",
   "execution_count": 7,
   "id": "69419d60",
   "metadata": {},
   "outputs": [
    {
     "name": "stdout",
     "output_type": "stream",
     "text": [
      "['example.com']\n"
     ]
    }
   ],
   "source": [
    "import re\n",
    "\n",
    "pattern = r'example\\.com'\n",
    "text = 'Visit example.com for more information.'\n",
    "\n",
    "matches = re.findall(pattern, text)\n",
    "print(matches)  # Output: ['example.com']\n"
   ]
  },
  {
   "cell_type": "markdown",
   "id": "8739efd8",
   "metadata": {},
   "source": [
    "In both cases, the backslash \\ escapes the special meaning of the parentheses or period and treats them as literal characters to be matched in the regex.\n",
    "\n",
    "By using the escape character () before parentheses and periods, you can instruct the regex to treat them as normal characters rather than having their special meanings in regular expressions."
   ]
  },
  {
   "cell_type": "markdown",
   "id": "1833a8a1",
   "metadata": {},
   "source": [
    "### 7. The findall() method returns a string list or a list of string tuples. What causes it to return one of the two options?"
   ]
  },
  {
   "cell_type": "markdown",
   "id": "b4da96e9",
   "metadata": {},
   "source": [
    "The findall() method in regular expressions returns a list of strings or a list of string tuples depending on the presence of capturing groups in the regular expression pattern.\n",
    "\n",
    "When the regular expression pattern has no capturing groups, findall() returns a list of strings. Each element in the list represents a separate match of the pattern in the input text.\n",
    "\n",
    "On the other hand, if the regular expression pattern contains one or more capturing groups, findall() returns a list of string tuples. Each tuple represents a match, and each element within the tuple corresponds to a capturing group.\n",
    "\n",
    "In summary, findall() returns a list of strings when there are no capturing groups in the pattern, and it returns a list of string tuples when there are capturing groups present in the pattern."
   ]
  },
  {
   "cell_type": "markdown",
   "id": "a43d6bc3",
   "metadata": {},
   "source": [
    "### 8. In standard expressions, what does the | character mean?"
   ]
  },
  {
   "cell_type": "markdown",
   "id": "1cf9c1a8",
   "metadata": {},
   "source": [
    "In regular expressions, the | character is used to denote an alternation, also known as a logical OR. It allows you to specify multiple patterns, and if any of those patterns match, the expression as a whole is considered a match."
   ]
  },
  {
   "cell_type": "markdown",
   "id": "73bd67da",
   "metadata": {},
   "source": [
    "### 9. In regular expressions, what does the character stand for?"
   ]
  },
  {
   "cell_type": "markdown",
   "id": "3fc4728f",
   "metadata": {},
   "source": [
    "In regular expressions, the term \"character\" typically refers to a single unit of text that can be matched or represented within the pattern. Characters can be literal characters, metacharacters, special sequences, or character classes."
   ]
  },
  {
   "cell_type": "markdown",
   "id": "25827e23",
   "metadata": {},
   "source": [
    "Literal Characters:\n",
    "Literal characters represent themselves and match exactly the same character in the input text. For example, the pattern a matches the literal character \"a\" in the input text.\n",
    "\n",
    "Metacharacters:\n",
    "Metacharacters have special meanings in regular expressions and are used to define patterns or match specific types of characters. Some commonly used metacharacters "
   ]
  },
  {
   "cell_type": "markdown",
   "id": "7fd93dca",
   "metadata": {},
   "source": [
    "### 10.In regular expressions, what is the difference between the + and * characters?"
   ]
  },
  {
   "cell_type": "markdown",
   "id": "6f2421a6",
   "metadata": {},
   "source": [
    "+ (Plus):\n",
    "The + quantifier matches one or more occurrences of the preceding element. It requires that the preceding element must appear at least once in order for a match to occur. If there are multiple occurrences, it matches as many as possible.\n",
    "\n",
    "* (Asterisk):\n",
    "The * quantifier matches zero or more occurrences of the preceding element. It allows the preceding element to be absent or appear any number of times. It matches as many occurrences as possible, including zero occurrences."
   ]
  },
  {
   "cell_type": "markdown",
   "id": "053ec164",
   "metadata": {},
   "source": [
    "### 11. What is the difference between {4} and {4,5} in regular expression?"
   ]
  },
  {
   "cell_type": "markdown",
   "id": "fa4020ed",
   "metadata": {},
   "source": [
    "{4}:\n",
    "The {4} quantifier specifies an exact number of occurrences of the preceding element. It matches exactly four occurrences of the preceding element.\n",
    "\n",
    "{4,5}:\n",
    "The {4,5} quantifier specifies a range of occurrences of the preceding element. It matches at least four occurrences and up to five occurrences of the preceding element."
   ]
  },
  {
   "cell_type": "markdown",
   "id": "27e3d29b",
   "metadata": {},
   "source": [
    "### 12. What do you mean by the \\d, \\w, and \\s shorthand character classes signify in regular expressions?"
   ]
  },
  {
   "cell_type": "markdown",
   "id": "32a94e5b",
   "metadata": {},
   "source": [
    "\\d: Matches any digit character.\n",
    "Equivalent to the character class [0-9].\n",
    "It matches any single digit from 0 to 9.\n",
    "\n",
    "\n",
    "\\w: Matches any word character.\n",
    "Equivalent to the character class [a-zA-Z0-9_].\n",
    "It matches any alphanumeric character (letters and digits) as well as the underscore character.\n",
    "\n",
    "\n",
    "\\s: Matches any whitespace character.\n",
    "It matches spaces, tabs, newlines, and other whitespace characters.\n",
    "It can be useful for matching and extracting whitespace in text or for splitting text based on whitespace."
   ]
  },
  {
   "cell_type": "markdown",
   "id": "f93e802e",
   "metadata": {},
   "source": [
    "### 13. What do means by \\D, \\W, and \\S shorthand character classes signify in regular expressions?"
   ]
  },
  {
   "cell_type": "markdown",
   "id": "51726a11",
   "metadata": {},
   "source": [
    "\\D: Matches any non-digit character.\n",
    "Equivalent to the character class [^0-9].\n",
    "It matches any character that is not a digit.\n",
    "\n",
    "\\W: Matches any non-word character.\n",
    "Equivalent to the character class [^a-zA-Z0-9_].\n",
    "It matches any character that is not an alphanumeric character or an underscore.\n",
    "\n",
    "\\S: Matches any non-whitespace character.\n",
    "It matches any character that is not a space, tab, newline, or any other whitespace character.\n"
   ]
  },
  {
   "cell_type": "markdown",
   "id": "9addab23",
   "metadata": {},
   "source": [
    "### 14. What is the difference between .* ? and .*  ?"
   ]
  },
  {
   "cell_type": "markdown",
   "id": "e592e02b",
   "metadata": {},
   "source": [
    ".?:\n",
    "The . metacharacter matches any single character except a newline character. The ? quantifier that follows it makes it optional, matching zero or one occurrence of the preceding element.\n",
    "\n",
    "\n",
    ".*:\n",
    "The . metacharacter matches any single character except a newline character. The * quantifier that follows it allows it to match zero or more occurrences of the preceding element."
   ]
  },
  {
   "cell_type": "markdown",
   "id": "a3cbc390",
   "metadata": {},
   "source": [
    "### 15. What is the syntax for matching both numbers and lowercase letters with a character class?"
   ]
  },
  {
   "cell_type": "markdown",
   "id": "7fd573c4",
   "metadata": {},
   "source": [
    "To match both numbers and lowercase letters using a character class in regular expressions, you can combine the ranges for numbers (0-9) and lowercase letters (a-z).\n",
    "#### The syntax for the character class that matches both is [0-9a-z]."
   ]
  },
  {
   "cell_type": "markdown",
   "id": "3ac0e453",
   "metadata": {},
   "source": [
    "### 16. What is the procedure for making a normal expression in regax case insensitive?"
   ]
  },
  {
   "cell_type": "markdown",
   "id": "75beef7d",
   "metadata": {},
   "source": [
    "To make a regular expression case-insensitive in most regex engines, you can use the \"case-insensitive\" flag or modifier. The exact syntax may vary depending on the specific programming language or regex implementation you are using. However, a common approach is to use the i flag or the (?i) modifier."
   ]
  },
  {
   "cell_type": "code",
   "execution_count": 9,
   "id": "c90b1b35",
   "metadata": {},
   "outputs": [
    {
     "name": "stdout",
     "output_type": "stream",
     "text": [
      "['Apple']\n"
     ]
    }
   ],
   "source": [
    "import re\n",
    "\n",
    "pattern = r'apple'\n",
    "text = 'I have an Apple'\n",
    "\n",
    "matches = re.findall(pattern, text, re.IGNORECASE)\n",
    "print(matches)  # Output: ['Apple']\n"
   ]
  },
  {
   "cell_type": "markdown",
   "id": "5dd873ad",
   "metadata": {},
   "source": [
    "### 17. What does the . character normally match? What does it match if re.DOTALL is passed as 2nd argument in re.compile()?"
   ]
  },
  {
   "cell_type": "markdown",
   "id": "5c73296b",
   "metadata": {},
   "source": [
    "In regular expressions, the . (dot) metacharacter normally matches any character except a newline character (\\n). It represents a wildcard that can match any single character.\n",
    "\n",
    "For example, if you have the pattern a.b, it would match strings like \"aab\", \"axb\", \"a7b\", where the dot matches any character between the \"a\" and \"b\" (except a newline).\n",
    "\n",
    "However, if you pass re.DOTALL as the second argument to re.compile() or use the re.DOTALL flag when compiling the regular expression pattern, the behavior of the dot changes.\n",
    "\n",
    "With re.DOTALL, the dot (.) will match any character, including newline characters (\\n). It makes the dot metacharacter \"dot-all,\" meaning it matches any character, including newlines."
   ]
  },
  {
   "cell_type": "markdown",
   "id": "897cbdc4",
   "metadata": {},
   "source": [
    "### 18. If numReg = re.compile(r&#39;\\d+&#39;), what will numRegex.sub(&#39;X&#39;, &#39;11 drummers, 10 pipers, five rings, 4hen&#39;) return?"
   ]
  },
  {
   "cell_type": "markdown",
   "id": "13db4c36",
   "metadata": {},
   "source": [
    "\n",
    "If numRegex is defined as re.compile(r'\\d+'), and you call numRegex.sub('X', '11 drummers, 10 pipers, five rings, 4hen'), it will return the string with all the matches of the regular expression pattern \\d+ replaced with the letter 'X'. Here's the result:\n",
    "\n",
    "Input: '11 drummers, 10 pipers, five rings, 4hen'\n",
    "\n",
    "Output: 'X drummers, X pipers, five rings, Xhen'\n",
    "\n",
    "Explanation:\n",
    "\n",
    "The regular expression pattern \\d+ matches one or more consecutive digits.\n",
    "In the input string, the pattern matches the following substrings: \"11\", \"10\", and \"4\".\n",
    "The sub() method replaces all matches with the specified replacement string, which is 'X' in this case.\n",
    "After the substitution, all the matches \"11\", \"10\", and \"4\" are replaced with 'X'.\n",
    "The resulting string is 'X drummers, X pipers, five rings, Xhen'.\n",
    "Therefore, calling numRegex.sub('X', '11 drummers, 10 pipers, five rings, 4hen') returns the modified string where all the numeric sequences are replaced with the letter 'X'."
   ]
  },
  {
   "cell_type": "markdown",
   "id": "94ebf8e7",
   "metadata": {},
   "source": [
    "### 19. What does passing re.VERBOSE as the 2nd argument to re.compile() allow to do?"
   ]
  },
  {
   "cell_type": "markdown",
   "id": "04872b72",
   "metadata": {},
   "source": [
    "Passing re.VERBOSE as the second argument to re.compile() allows you to write regular expressions in a more readable and organized manner by ignoring whitespace and adding comments.\n",
    "\n",
    "When using re.VERBOSE, the whitespace within the regular expression pattern is ignored, except when it is escaped or within a character class ([]). This means you can freely add spaces, line breaks, and indentation to make the regular expression more visually appealing and easier to understand.\n",
    "\n",
    "Additionally, you can include comments in the regular expression pattern by using the # symbol. Comments can provide explanations, document the pattern, or make it easier for others to understand your regular expression."
   ]
  },
  {
   "cell_type": "markdown",
   "id": "fa8d9bdc",
   "metadata": {},
   "source": [
    "### 20. How would you write a regex that match a number with comma for every three digits? It must match the given following:"
   ]
  },
  {
   "cell_type": "markdown",
   "id": "0c479655",
   "metadata": {},
   "source": [
    "&#39;42&#39;\n",
    "\n",
    "&#39;1,234&#39;\n",
    "\n",
    "&#39;6,368,745&#39;\n",
    "\n",
    "but not the following:\n",
    "\n",
    "&#39;12,34,567&#39; \n",
    "\n",
    "(which has only two digits between the commas)\n",
    "\n",
    "&#39;1234&#39; (which lacks commas)"
   ]
  },
  {
   "cell_type": "markdown",
   "id": "0eaa30b8",
   "metadata": {},
   "source": [
    "#### A regex that match a number with comma for every three digits : '^\\d{1,3}(,\\d{3})*$' "
   ]
  },
  {
   "cell_type": "code",
   "execution_count": 10,
   "id": "a58ebd5a",
   "metadata": {},
   "outputs": [
    {
     "name": "stdout",
     "output_type": "stream",
     "text": [
      "Matched: 42\n",
      "Matched: 1,234\n",
      "Matched: 6,368,745\n",
      "Not matched: 12,34,567\n",
      "Not matched: 1234\n"
     ]
    }
   ],
   "source": [
    "import re\n",
    "\n",
    "pattern = r'^\\d{1,3}(,\\d{3})*$'\n",
    "\n",
    "numbers = ['42', '1,234', '6,368,745', '12,34,567', '1234']\n",
    "\n",
    "for number in numbers:\n",
    "    match = re.match(pattern, number)\n",
    "    if match:\n",
    "        print(f\"Matched: {number}\")\n",
    "    else:\n",
    "        print(f\"Not matched: {number}\")\n"
   ]
  },
  {
   "cell_type": "markdown",
   "id": "94c46925",
   "metadata": {},
   "source": [
    "### 21. How would you write a regex that matches the full name of someone whose last name is Watanabe? You can assume that the first name that comes before it will always be one word that begins with a capital letter. The regex must match the following:"
   ]
  },
  {
   "cell_type": "markdown",
   "id": "113ddb60",
   "metadata": {},
   "source": [
    "&#39;Haruto Watanabe&#39;\n",
    "\n",
    "&#39;Alice Watanabe&#39;\n",
    "\n",
    "&#39;RoboCop Watanabe&#39;\n",
    "\n",
    "but not the following:\n",
    "\n",
    "&#39;haruto Watanabe&#39;\n",
    "(where the first name is not capitalized)\n",
    "\n",
    "&#39;Mr. Watanabe&#39;\n",
    "(where the preceding word has a nonletter character)\n",
    "\n",
    "&#39;Watanabe&#39;\n",
    "(which has no first name)\n",
    "\n",
    "&#39;Haruto watanabe&#39; \n",
    "(where Watanabe is not capitalized)"
   ]
  },
  {
   "cell_type": "markdown",
   "id": "5d2e2c24",
   "metadata": {},
   "source": [
    " #### A regex that matches the full name of someone whose last name is Watanabe :'^[A-Z][a-zA-Z]*Watanabe$'\n"
   ]
  },
  {
   "cell_type": "code",
   "execution_count": 11,
   "id": "09944f42",
   "metadata": {},
   "outputs": [
    {
     "name": "stdout",
     "output_type": "stream",
     "text": [
      "Matched: Haruto Watanabe\n",
      "Matched: Alice Watanabe\n",
      "Matched: RoboCop Watanabe\n",
      "Not matched: haruto Watanabe\n",
      "Not matched: Mr. Watanabe\n",
      "Not matched: Watanabe\n",
      "Not matched: Haruto watanabe\n"
     ]
    }
   ],
   "source": [
    "import re\n",
    "\n",
    "pattern = r'^[A-Z][a-zA-Z]* Watanabe$'\n",
    "\n",
    "names = ['Haruto Watanabe', 'Alice Watanabe', 'RoboCop Watanabe', 'haruto Watanabe', 'Mr. Watanabe', 'Watanabe', 'Haruto watanabe']\n",
    "\n",
    "for name in names:\n",
    "    match = re.match(pattern, name)\n",
    "    if match:\n",
    "        print(f\"Matched: {name}\")\n",
    "    else:\n",
    "        print(f\"Not matched: {name}\")\n"
   ]
  },
  {
   "cell_type": "markdown",
   "id": "88f8376d",
   "metadata": {},
   "source": [
    "### 22. How would you write a regex that matches a sentence where the first word is either Alice, Bob,or Carol; the second word is either eats, pets, or throws; the third word is apples, cats, or baseballs; and the sentence ends with a period? This regex should be case-insensitive. It must match the following:"
   ]
  },
  {
   "cell_type": "markdown",
   "id": "1022336f",
   "metadata": {},
   "source": [
    "&#39;Alice eats apples.&#39;\n",
    "\n",
    "&#39;Bob pets cats.&#39;\n",
    "\n",
    "&#39;Carol throws baseballs.&#39;\n",
    "\n",
    "&#39;Alice throws Apples.&#39;\n",
    "\n",
    "&#39;BOB EATS CATS.&#39;\n",
    "\n",
    "but not the following:\n",
    "\n",
    "&#39;RoboCop eats apples.&#39;\n",
    "\n",
    "&#39;ALICE THROWS FOOTBALLS.&#39;\n",
    "\n",
    "&#39;Carol eats 7 cats.&#39;"
   ]
  },
  {
   "cell_type": "markdown",
   "id": "a56d1f29",
   "metadata": {},
   "source": [
    "A regex that matches a sentence where the first word is either Alice, Bob,or Carol; the second word is either eats, pets, or throws; the third word is apples, cats, or baseballs; and the sentence ends with a period   == \n",
    "#### '^(?i)(Alice|Bob|Carol) (eats|pets|throws) (apples|cats|baseballs)\\.$'"
   ]
  },
  {
   "cell_type": "code",
   "execution_count": 14,
   "id": "83b10e10",
   "metadata": {},
   "outputs": [
    {
     "name": "stdout",
     "output_type": "stream",
     "text": [
      "Matched: Alice eats apples.\n",
      "Matched: Bob pets cats.\n",
      "Matched: Carol throws baseballs.\n",
      "Matched: Alice throws Apples.\n",
      "Matched: BOB EATS CATS.\n",
      "Not matched: RoboCop eats apples.\n",
      "Not matched: ALICE THROWS FOOTBALLS.\n",
      "Not matched: Carol eats 7 cats.\n"
     ]
    }
   ],
   "source": [
    "import re\n",
    "\n",
    "pattern = r'^(?i)(Alice|Bob|Carol) (eats|pets|throws) (apples|cats|baseballs)\\.$'\n",
    "\n",
    "sentences = ['Alice eats apples.', 'Bob pets cats.', 'Carol throws baseballs.', 'Alice throws Apples.', 'BOB EATS CATS.', 'RoboCop eats apples.', 'ALICE THROWS FOOTBALLS.', 'Carol eats 7 cats.']\n",
    "\n",
    "for sentence in sentences:\n",
    "    match = re.match(pattern, sentence)\n",
    "    if match:\n",
    "        print(f\"Matched: {sentence}\")\n",
    "    else:\n",
    "        print(f\"Not matched: {sentence}\")\n"
   ]
  },
  {
   "cell_type": "code",
   "execution_count": null,
   "id": "6c8ca8eb",
   "metadata": {},
   "outputs": [],
   "source": []
  },
  {
   "cell_type": "code",
   "execution_count": null,
   "id": "34488a22",
   "metadata": {},
   "outputs": [],
   "source": []
  }
 ],
 "metadata": {
  "kernelspec": {
   "display_name": "Python 3 (ipykernel)",
   "language": "python",
   "name": "python3"
  },
  "language_info": {
   "codemirror_mode": {
    "name": "ipython",
    "version": 3
   },
   "file_extension": ".py",
   "mimetype": "text/x-python",
   "name": "python",
   "nbconvert_exporter": "python",
   "pygments_lexer": "ipython3",
   "version": "3.9.13"
  }
 },
 "nbformat": 4,
 "nbformat_minor": 5
}

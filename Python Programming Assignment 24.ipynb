{
 "cells": [
  {
   "cell_type": "markdown",
   "id": "2aed3428",
   "metadata": {},
   "source": [
    "## Python Programming Assignment 24"
   ]
  },
  {
   "cell_type": "markdown",
   "id": "e090c5ff",
   "metadata": {},
   "source": [
    "Question1\n",
    "Create a function that takes an integer and returns a list from 1 to the given number, where:\n",
    "1. If the number can be divided evenly by 4, amplify it by 10 (i.e. return 10 times the\n",
    "number).\n",
    "2. If the number cannot be divided evenly by 4, simply return the number.\n",
    "Examples\n",
    "amplify(4) ➞ [1, 2, 3, 40]\n",
    "amplify(3) ➞ [1, 2, 3]\n",
    "amplify(25) ➞ [1, 2, 3, 40, 5, 6, 7, 80, 9, 10, 11, 120, 13, 14, 15, 160,\n",
    "17, 18, 19, 200, 21, 22, 23, 240, 25]\n",
    "Notes\n",
    "The given integer will always be equal to or greater than 1.\n",
    "Include the number (see example above).\n",
    "To perform this problem with its intended purpose, try doing it with list\n",
    "comprehensions. If thats too difficult, just solve the challenge any way you can."
   ]
  },
  {
   "cell_type": "code",
   "execution_count": 1,
   "id": "608c1522",
   "metadata": {},
   "outputs": [],
   "source": [
    "def amplify(num):\n",
    "    return [i * 10 if i % 4 == 0 else i for i in range(1, num + 1)]"
   ]
  },
  {
   "cell_type": "code",
   "execution_count": 2,
   "id": "0adebb72",
   "metadata": {},
   "outputs": [
    {
     "name": "stdout",
     "output_type": "stream",
     "text": [
      "[1, 2, 3, 40]\n"
     ]
    }
   ],
   "source": [
    "print(amplify(4))"
   ]
  },
  {
   "cell_type": "markdown",
   "id": "93824a89",
   "metadata": {},
   "source": [
    "Question2\n",
    "Create a function that takes a list of numbers and return the number that&#39;s unique.\n",
    "Examples\n",
    "unique([3, 3, 3, 7, 3, 3]) ➞ 7\n",
    "unique([0, 0, 0.77, 0, 0]) ➞ 0.77\n",
    "unique([0, 1, 1, 1, 1, 1, 1, 1]) ➞ 0\n",
    "Notes\n",
    "Test cases will always have exactly one unique number while all others are the same."
   ]
  },
  {
   "cell_type": "code",
   "execution_count": 13,
   "id": "2b2c8e5c",
   "metadata": {},
   "outputs": [],
   "source": [
    "def unique(numbers):\n",
    "    frequency = {}\n",
    "    \n",
    "    # Count the frequency of each number\n",
    "    for num in numbers:\n",
    "        frequency[num] = frequency.get(num, 0) + 1\n",
    "    \n",
    "    # Find the number with a frequency of 1\n",
    "    for num, freq in frequency.items():\n",
    "        if freq == 1:\n",
    "            return num"
   ]
  },
  {
   "cell_type": "code",
   "execution_count": 15,
   "id": "54222258",
   "metadata": {},
   "outputs": [
    {
     "name": "stdout",
     "output_type": "stream",
     "text": [
      "7\n"
     ]
    }
   ],
   "source": [
    "print(unique([3, 3, 3, 7, 3, 3]))"
   ]
  },
  {
   "cell_type": "markdown",
   "id": "bcff8ced",
   "metadata": {},
   "source": [
    "Question3\n",
    "Your task is to create a Circle constructor that creates a circle with a radius provided by an\n",
    "argument. The circles constructed must have two getters getArea() (PIr^2) and\n",
    "getPerimeter() (2PI*r) which give both respective areas and perimeter (circumference).\n",
    "\n",
    "For help with this class, I have provided you with a Rectangle constructor which you can use\n",
    "as a base example.\n",
    "Examples\n",
    "circy = Circle(11)\n",
    "circy.getArea()\n",
    "Should return 380.132711084365\n",
    "circy = Circle(4.44)\n",
    "circy.getPerimeter()\n",
    "Should return 27.897342763877365\n",
    "Notes\n",
    "Round results up to the nearest integer."
   ]
  },
  {
   "cell_type": "code",
   "execution_count": 3,
   "id": "852e694c",
   "metadata": {},
   "outputs": [],
   "source": [
    "import math\n",
    "\n",
    "class Circle:\n",
    "    def __init__(self, radius):\n",
    "        self.radius = radius\n",
    "    \n",
    "    def getArea(self):\n",
    "        area = math.pi * self.radius**2\n",
    "        return round(area)\n",
    "    \n",
    "    def getPerimeter(self):\n",
    "        perimeter = 2 * math.pi * self.radius\n",
    "        return round(perimeter, 2)"
   ]
  },
  {
   "cell_type": "code",
   "execution_count": 5,
   "id": "31d9badd",
   "metadata": {},
   "outputs": [
    {
     "name": "stdout",
     "output_type": "stream",
     "text": [
      "380\n",
      "69.12\n",
      "62\n",
      "27.9\n"
     ]
    }
   ],
   "source": [
    "circy = Circle(11)\n",
    "print(circy.getArea())      \n",
    "print(circy.getPerimeter())   \n",
    "\n",
    "circy = Circle(4.44)\n",
    "print(circy.getArea())       \n",
    "print(circy.getPerimeter())  \n"
   ]
  },
  {
   "cell_type": "markdown",
   "id": "31f0b7b2",
   "metadata": {},
   "source": [
    "Question4\n",
    "Create a function that takes a list of strings and return a list, sorted from shortest to longest."
   ]
  },
  {
   "cell_type": "code",
   "execution_count": 6,
   "id": "cbda2484",
   "metadata": {},
   "outputs": [],
   "source": [
    "def sort_by_length(strings):\n",
    "    strings.sort(key=len)\n",
    "    return strings"
   ]
  },
  {
   "cell_type": "code",
   "execution_count": 10,
   "id": "9703e642",
   "metadata": {},
   "outputs": [
    {
     "name": "stdout",
     "output_type": "stream",
     "text": [
      "['Apple', 'Google', 'Microsoft']\n",
      "['Raphael', 'Leonardo', 'Donatello', 'Michelangelo']\n"
     ]
    }
   ],
   "source": [
    "print(sort_by_length([\"Google\", \"Apple\", \"Microsoft\"]))\n",
    "print(sort_by_length([\"Leonardo\", \"Michelangelo\", \"Raphael\", \"Donatello\"]))"
   ]
  },
  {
   "cell_type": "markdown",
   "id": "08d65103",
   "metadata": {},
   "source": [
    "Question5\n",
    "Create a function that validates whether three given integers form a Pythagorean triplet. The\n",
    "sum of the squares of the two smallest integers must equal the square of the largest number to\n",
    "be validated.\n",
    "\n",
    "Examples\n",
    "is_triplet(3, 4, 5) ➞ True\n",
    "3² + 4² = 25\n",
    "5² = 25\n",
    "is_triplet(13, 5, 12) ➞ True\n",
    "5² + 12² = 169\n",
    "13² = 169\n",
    "is_triplet(1, 2, 3) ➞ False\n",
    "1² + 2² = 5\n",
    "3² = 9\n",
    "Notes\n",
    "Numbers may not be given in a sorted order."
   ]
  },
  {
   "cell_type": "code",
   "execution_count": 11,
   "id": "729c8002",
   "metadata": {},
   "outputs": [],
   "source": [
    "def is_triplet(a, b, c):\n",
    "    # Square the numbers\n",
    "    squared_nums = [a**2, b**2, c**2]\n",
    "\n",
    "    # Sort the squared numbers in ascending order\n",
    "    squared_nums.sort()\n",
    "\n",
    "    # Check if the sum of the squares of the two smaller numbers equals the square of the largest number\n",
    "    return squared_nums[0] + squared_nums[1] == squared_nums[2]"
   ]
  },
  {
   "cell_type": "code",
   "execution_count": 12,
   "id": "c49f8af6",
   "metadata": {},
   "outputs": [
    {
     "name": "stdout",
     "output_type": "stream",
     "text": [
      "True\n"
     ]
    }
   ],
   "source": [
    "print(is_triplet(3, 4, 5))"
   ]
  }
 ],
 "metadata": {
  "kernelspec": {
   "display_name": "Python 3 (ipykernel)",
   "language": "python",
   "name": "python3"
  },
  "language_info": {
   "codemirror_mode": {
    "name": "ipython",
    "version": 3
   },
   "file_extension": ".py",
   "mimetype": "text/x-python",
   "name": "python",
   "nbconvert_exporter": "python",
   "pygments_lexer": "ipython3",
   "version": "3.9.13"
  }
 },
 "nbformat": 4,
 "nbformat_minor": 5
}

{
 "cells": [
  {
   "cell_type": "markdown",
   "id": "79072d52",
   "metadata": {},
   "source": [
    "## Python Programming Assignment 2"
   ]
  },
  {
   "cell_type": "markdown",
   "id": "2e87e190",
   "metadata": {},
   "source": [
    "1. Write a Python program to convert kilometers to miles?"
   ]
  },
  {
   "cell_type": "code",
   "execution_count": 1,
   "id": "e402e324",
   "metadata": {},
   "outputs": [
    {
     "name": "stdout",
     "output_type": "stream",
     "text": [
      "Enter distance in kilometers: 10\n",
      "Distance in miles: 6.21371\n"
     ]
    }
   ],
   "source": [
    "kilometers = float(input(\"Enter distance in kilometers: \"))\n",
    "miles = kilometers * 0.621371\n",
    "print(\"Distance in miles:\", miles)"
   ]
  },
  {
   "cell_type": "markdown",
   "id": "d6a8a553",
   "metadata": {},
   "source": [
    "2. Write a Python program to convert Celsius to Fahrenheit?"
   ]
  },
  {
   "cell_type": "code",
   "execution_count": 3,
   "id": "c8efecb4",
   "metadata": {},
   "outputs": [
    {
     "name": "stdout",
     "output_type": "stream",
     "text": [
      "Enter temperature in Celsius: 30\n",
      "Temperature in Fahrenheit: 86.0\n"
     ]
    }
   ],
   "source": [
    "celsius = float(input(\"Enter temperature in Celsius: \"))\n",
    "fahrenheit = (celsius * 9/5) + 32\n",
    "print(\"Temperature in Fahrenheit:\", fahrenheit)"
   ]
  },
  {
   "cell_type": "markdown",
   "id": "4bac76c4",
   "metadata": {},
   "source": [
    "3. Write a Python program to display calendar"
   ]
  },
  {
   "cell_type": "code",
   "execution_count": 5,
   "id": "3ed943a2",
   "metadata": {},
   "outputs": [
    {
     "name": "stdout",
     "output_type": "stream",
     "text": [
      "Enter the year: 2023\n",
      "Enter the month: 5\n",
      "      May 2023\n",
      "Mo Tu We Th Fr Sa Su\n",
      " 1  2  3  4  5  6  7\n",
      " 8  9 10 11 12 13 14\n",
      "15 16 17 18 19 20 21\n",
      "22 23 24 25 26 27 28\n",
      "29 30 31\n",
      "\n"
     ]
    }
   ],
   "source": [
    "import calendar\n",
    "\n",
    "year = int(input(\"Enter the year: \"))\n",
    "month = int(input(\"Enter the month: \"))\n",
    "\n",
    "print(calendar.month(year, month))"
   ]
  },
  {
   "cell_type": "markdown",
   "id": "49459103",
   "metadata": {},
   "source": [
    "4. Write a Python program to solve quadratic equation?"
   ]
  },
  {
   "cell_type": "code",
   "execution_count": 11,
   "id": "59e0c618",
   "metadata": {},
   "outputs": [
    {
     "name": "stdout",
     "output_type": "stream",
     "text": [
      "Enter coefficient a: 1\n",
      "Enter coefficient b: -5\n",
      "Enter coefficient c: 9\n",
      "Solution 1: (2.5-1.6583123951777j)\n",
      "Solution 2: (2.5+1.6583123951777j)\n"
     ]
    }
   ],
   "source": [
    "import cmath\n",
    "\n",
    "a = float(input(\"Enter coefficient a: \"))\n",
    "b = float(input(\"Enter coefficient b: \"))\n",
    "c = float(input(\"Enter coefficient c: \"))\n",
    "\n",
    "discriminant = (b ** 2) - (4 * a * c)\n",
    "solution1 = (-b - cmath.sqrt(discriminant)) / (2 * a)\n",
    "solution2 = (-b + cmath.sqrt(discriminant)) / (2 * a)\n",
    "\n",
    "print(\"Solution 1:\", solution1)\n",
    "print(\"Solution 2:\", solution2)"
   ]
  },
  {
   "cell_type": "code",
   "execution_count": null,
   "id": "0d4a5d50",
   "metadata": {},
   "outputs": [],
   "source": [
    "5. Write a Python program to swap two variables without temp variable? keep it simple"
   ]
  },
  {
   "cell_type": "code",
   "execution_count": 10,
   "id": "22d69c7d",
   "metadata": {},
   "outputs": [
    {
     "name": "stdout",
     "output_type": "stream",
     "text": [
      "Enter the value of variable a: 2\n",
      "Enter the value of variable b: 4\n",
      "After swapping:\n",
      "Value of variable a: 4\n",
      "Value of variable b: 2\n"
     ]
    }
   ],
   "source": [
    "a = int(input(\"Enter the value of variable a: \"))\n",
    "b = int(input(\"Enter the value of variable b: \"))\n",
    "\n",
    "a, b = b, a\n",
    "\n",
    "print(\"After swapping:\")\n",
    "print(\"Value of variable a:\", a)\n",
    "print(\"Value of variable b:\", b)"
   ]
  }
 ],
 "metadata": {
  "kernelspec": {
   "display_name": "Python 3 (ipykernel)",
   "language": "python",
   "name": "python3"
  },
  "language_info": {
   "codemirror_mode": {
    "name": "ipython",
    "version": 3
   },
   "file_extension": ".py",
   "mimetype": "text/x-python",
   "name": "python",
   "nbconvert_exporter": "python",
   "pygments_lexer": "ipython3",
   "version": "3.9.13"
  }
 },
 "nbformat": 4,
 "nbformat_minor": 5
}

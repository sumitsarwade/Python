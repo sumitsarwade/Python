{
 "cells": [
  {
   "cell_type": "markdown",
   "id": "efc00b88",
   "metadata": {},
   "source": [
    "## Python Advance Assignment 5"
   ]
  },
  {
   "cell_type": "markdown",
   "id": "133b48d6",
   "metadata": {},
   "source": [
    "#### Q1. What is the meaning of multiple inheritance?"
   ]
  },
  {
   "cell_type": "markdown",
   "id": "6bd45fec",
   "metadata": {},
   "source": [
    "Multiple inheritance is a feature of some programming languages, including Python, that allows a class to inherit attributes and behaviors from multiple parent classes. In other words, a class can derive from more than one base class simultaneously. This allows the subclass to inherit and combine features from multiple parent classes, providing flexibility in code organization and reuse."
   ]
  },
  {
   "cell_type": "markdown",
   "id": "f644376e",
   "metadata": {},
   "source": [
    "In multiple inheritance, a class can inherit attributes, methods, and behavior from each of its parent classes. It can access and use the attributes and methods of all its parent classes directly. However, multiple inheritance can lead to complexities, such as conflicts between inherited methods with the same name or ambiguity in resolving attribute references. Programming languages that support multiple inheritance usually provide rules or mechanisms to handle these complexities, such as method resolution order (MRO) or explicit method override."
   ]
  },
  {
   "cell_type": "markdown",
   "id": "9a7d57ff",
   "metadata": {},
   "source": [
    "#### Q2. What is the concept of delegation?"
   ]
  },
  {
   "cell_type": "markdown",
   "id": "6e72cf8d",
   "metadata": {},
   "source": [
    "Delegation is a programming concept where an object forwards or delegates a specific task or responsibility to another object. Instead of performing the task itself, the object delegates the responsibility to another object that specializes in that task.\n",
    "\n",
    "\n",
    "In delegation, the delegating object maintains a reference to the delegated object and invokes its methods or accesses its attributes when necessary. This allows the delegating object to use the delegated object's functionality without implementing the task internally. Delegation promotes code reusability and separation of concerns by dividing responsibilities among different objects."
   ]
  },
  {
   "cell_type": "markdown",
   "id": "90b8d839",
   "metadata": {},
   "source": [
    "Delegation can be implemented in various ways, such as through composition, where the delegating object holds an instance of the delegated object as a member. The delegating object then delegates method calls or attribute accesses to the delegated object as appropriate."
   ]
  },
  {
   "cell_type": "markdown",
   "id": "871ed264",
   "metadata": {},
   "source": [
    "#### Q3. What is the concept of composition?"
   ]
  },
  {
   "cell_type": "markdown",
   "id": "76a72bda",
   "metadata": {},
   "source": [
    "Composition is a concept in object-oriented programming where objects are combined to form more complex objects. It allows creating complex structures or systems by combining simpler objects or components, forming a \"has-a\" relationship.\n",
    "\n",
    "\n",
    "\n",
    "In composition, an object contains other objects as parts, and the whole object is responsible for managing the lifecycle and behavior of its component objects. The composed object encapsulates the behavior of its components and exposes a unified interface for interacting with them."
   ]
  },
  {
   "cell_type": "markdown",
   "id": "cac9b37a",
   "metadata": {},
   "source": [
    "Composition is often used to model relationships where one object is composed of multiple smaller objects, and the smaller objects are not reusable outside the context of the composed object. It provides flexibility and modularity by allowing objects to be combined and rearranged to form different compositions."
   ]
  },
  {
   "cell_type": "markdown",
   "id": "5f9b3dec",
   "metadata": {},
   "source": [
    "#### Q4. What are bound methods and how do we use them?"
   ]
  },
  {
   "cell_type": "markdown",
   "id": "df8cc73c",
   "metadata": {},
   "source": [
    "In Python, a bound method is a method that is associated with an instance of a class. It is a callable object that includes the instance as the first argument (typically named self). Bound methods are created when a method is accessed from an instance of the class, and they are automatically bound to that instance.\n",
    "\n",
    "\n",
    "Bound methods allow you to call methods on instances, and they implicitly pass the instance as the first argument. This allows the method to access and manipulate the instance's attributes and state. Bound methods are the primary way to interact with the behavior of objects in Python."
   ]
  },
  {
   "cell_type": "code",
   "execution_count": 2,
   "id": "b84f8084",
   "metadata": {},
   "outputs": [
    {
     "name": "stdout",
     "output_type": "stream",
     "text": [
      "Hello\n"
     ]
    }
   ],
   "source": [
    "class MyClass:\n",
    "    def my_method(self, arg):\n",
    "        print(arg)\n",
    "\n",
    "obj = MyClass()\n",
    "obj.my_method(\"Hello\")  # Invoking the bound method"
   ]
  },
  {
   "cell_type": "markdown",
   "id": "6b931846",
   "metadata": {},
   "source": [
    "#### Q5. What is the purpose of pseudoprivate attributes?"
   ]
  },
  {
   "cell_type": "markdown",
   "id": "419feaee",
   "metadata": {},
   "source": [
    "In Python, pseudoprivate attributes (also known as name mangling) are a naming convention used to create a form of name privacy or name hiding within a class. Pseudoprivate attributes are intended to indicate that the attribute is intended for internal use within the class and should not be accessed or modified directly from outside the class.\n",
    "\n",
    "\n",
    "Pseudoprivate attributes are created by prefixing the attribute name with two underscores (__) but not ending with more than one underscore. When a name is pseudoprivate, the interpreter automatically modifies the attribute name to include the class name as a prefix, which helps to avoid name clashes in subclasses."
   ]
  },
  {
   "cell_type": "markdown",
   "id": "583f83ac",
   "metadata": {},
   "source": [
    "The purpose of pseudoprivate attributes is to provide a level of data encapsulation and prevent unintentional access or modification of internal attributes from outside the class. It encourages the use of proper encapsulation and encapsulates the implementation details of a class, making it easier to maintain and evolve the class without affecting the external code that uses the class.\n",
    "\n",
    "\n",
    "It's important to note that pseudoprivate attributes are not truly private in Python, as they can still be accessed and modified with some effort. However, the naming convention serves as a convention or hint to other developers that the attribute is intended for internal use and should be treated as such."
   ]
  }
 ],
 "metadata": {
  "kernelspec": {
   "display_name": "Python 3 (ipykernel)",
   "language": "python",
   "name": "python3"
  },
  "language_info": {
   "codemirror_mode": {
    "name": "ipython",
    "version": 3
   },
   "file_extension": ".py",
   "mimetype": "text/x-python",
   "name": "python",
   "nbconvert_exporter": "python",
   "pygments_lexer": "ipython3",
   "version": "3.9.13"
  }
 },
 "nbformat": 4,
 "nbformat_minor": 5
}

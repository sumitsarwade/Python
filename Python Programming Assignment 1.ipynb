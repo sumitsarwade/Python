{
 "cells": [
  {
   "cell_type": "markdown",
   "id": "489139fb",
   "metadata": {},
   "source": [
    "## Python Programming Assignment 1"
   ]
  },
  {
   "cell_type": "markdown",
   "id": "bad1efce",
   "metadata": {},
   "source": [
    "### Q1 Ans"
   ]
  },
  {
   "cell_type": "code",
   "execution_count": 1,
   "id": "1b743b0f",
   "metadata": {},
   "outputs": [
    {
     "name": "stdout",
     "output_type": "stream",
     "text": [
      "Hello Python\n"
     ]
    }
   ],
   "source": [
    "print(\"Hello Python\")"
   ]
  },
  {
   "cell_type": "markdown",
   "id": "db777190",
   "metadata": {},
   "source": [
    "### Q2 Ans"
   ]
  },
  {
   "cell_type": "code",
   "execution_count": 10,
   "id": "8b6bca61",
   "metadata": {},
   "outputs": [
    {
     "name": "stdout",
     "output_type": "stream",
     "text": [
      "enter num\n",
      "4\n",
      "enter num\n",
      "2\n",
      "Addition is  6\n",
      "Division is  2.0\n"
     ]
    }
   ],
   "source": [
    "a =int(input(\"enter num\\n\"))\n",
    "b =int(input(\"enter num\\n\"))\n",
    "#add = a+b\n",
    "print(\"Addition is \",a+b)\n",
    "print(\"Division is \",a/b)"
   ]
  },
  {
   "cell_type": "markdown",
   "id": "67d458c2",
   "metadata": {},
   "source": [
    "### Q3 Ans"
   ]
  },
  {
   "cell_type": "code",
   "execution_count": 12,
   "id": "d37afeb4",
   "metadata": {},
   "outputs": [
    {
     "name": "stdout",
     "output_type": "stream",
     "text": [
      "Enter the base of the triangle: 10\n",
      "Enter the height of the triangle: 20\n",
      "The area of the triangle is: 100.0\n"
     ]
    }
   ],
   "source": [
    "base = float(input(\"Enter the base of the triangle: \"))\n",
    "height = float(input(\"Enter the height of the triangle: \"))\n",
    "area = 0.5 * base * height\n",
    "print(\"The area of the triangle is:\",area)"
   ]
  },
  {
   "cell_type": "markdown",
   "id": "e12967a1",
   "metadata": {},
   "source": [
    "### Q4 Ans"
   ]
  },
  {
   "cell_type": "code",
   "execution_count": 15,
   "id": "35017e63",
   "metadata": {},
   "outputs": [
    {
     "name": "stdout",
     "output_type": "stream",
     "text": [
      "Enter the value of the first variable: 10\n",
      "Enter the value of the second variable: 20\n",
      "Before swapping:\n",
      "First variable: 10\n",
      "Second variable: 20\n",
      "After swapping:\n",
      "First variable: 20\n",
      "Second variable: 10\n"
     ]
    }
   ],
   "source": [
    "a = input(\"Enter the value of the first variable: \")\n",
    "b = input(\"Enter the value of the second variable: \")\n",
    "print(\"Before swapping:\")\n",
    "print(\"First variable:\", a)\n",
    "print(\"Second variable:\", b)\n",
    "temp = a\n",
    "a = b\n",
    "b = temp\n",
    "print(\"After swapping:\")\n",
    "print(\"First variable:\", a)\n",
    "print(\"Second variable:\", b)"
   ]
  },
  {
   "cell_type": "markdown",
   "id": "c14fe835",
   "metadata": {},
   "source": [
    "### Q5 Ans"
   ]
  },
  {
   "cell_type": "code",
   "execution_count": 18,
   "id": "7a287ef7",
   "metadata": {},
   "outputs": [
    {
     "name": "stdout",
     "output_type": "stream",
     "text": [
      "Random number: 80\n"
     ]
    }
   ],
   "source": [
    "import random\n",
    "random_number = random.randint(1, 100)\n",
    "print(\"Random number:\", random_number)"
   ]
  }
 ],
 "metadata": {
  "kernelspec": {
   "display_name": "Python 3 (ipykernel)",
   "language": "python",
   "name": "python3"
  },
  "language_info": {
   "codemirror_mode": {
    "name": "ipython",
    "version": 3
   },
   "file_extension": ".py",
   "mimetype": "text/x-python",
   "name": "python",
   "nbconvert_exporter": "python",
   "pygments_lexer": "ipython3",
   "version": "3.9.13"
  }
 },
 "nbformat": 4,
 "nbformat_minor": 5
}

{
 "cells": [
  {
   "cell_type": "markdown",
   "id": "e92b0b64",
   "metadata": {},
   "source": [
    "## Python Programming Assignment 8"
   ]
  },
  {
   "cell_type": "markdown",
   "id": "147a9da8",
   "metadata": {},
   "source": [
    "1. Write a Python Program to Add Two Matrices?"
   ]
  },
  {
   "cell_type": "code",
   "execution_count": 1,
   "id": "a77a90a9",
   "metadata": {},
   "outputs": [
    {
     "name": "stdout",
     "output_type": "stream",
     "text": [
      "Resultant Matrix after addition:\n",
      "[10, 10, 10]\n",
      "[10, 10, 10]\n",
      "[10, 10, 10]\n"
     ]
    }
   ],
   "source": [
    "matrix1 = [[1, 2, 3],\n",
    "           [4, 5, 6],\n",
    "           [7, 8, 9]]\n",
    "\n",
    "matrix2 = [[9, 8, 7],\n",
    "           [6, 5, 4],\n",
    "           [3, 2, 1]]\n",
    "\n",
    "result_matrix = []\n",
    "for i in range(len(matrix1)):\n",
    "    row = []\n",
    "    for j in range(len(matrix1[0])):\n",
    "        row.append(matrix1[i][j] + matrix2[i][j])\n",
    "    result_matrix.append(row)\n",
    "\n",
    "print(\"Resultant Matrix after addition:\")\n",
    "for row in result_matrix:\n",
    "    print(row)"
   ]
  },
  {
   "cell_type": "markdown",
   "id": "d081f2f2",
   "metadata": {},
   "source": [
    "2. Write a Python Program to Multiply Two Matrices?"
   ]
  },
  {
   "cell_type": "code",
   "execution_count": 2,
   "id": "2d1ebae5",
   "metadata": {},
   "outputs": [
    {
     "name": "stdout",
     "output_type": "stream",
     "text": [
      "Resultant Matrix after multiplication:\n",
      "[30, 24, 18]\n",
      "[84, 69, 54]\n",
      "[138, 114, 90]\n"
     ]
    }
   ],
   "source": [
    "matrix1 = [[1, 2, 3],\n",
    "           [4, 5, 6],\n",
    "           [7, 8, 9]]\n",
    "\n",
    "matrix2 = [[9, 8, 7],\n",
    "           [6, 5, 4],\n",
    "           [3, 2, 1]]\n",
    "\n",
    "result_matrix = []\n",
    "for i in range(len(matrix1)):\n",
    "    row = []\n",
    "    for j in range(len(matrix2[0])):\n",
    "        element = 0\n",
    "        for k in range(len(matrix2)):\n",
    "            element += matrix1[i][k] * matrix2[k][j]\n",
    "        row.append(element)\n",
    "    result_matrix.append(row)\n",
    "\n",
    "print(\"Resultant Matrix after multiplication:\")\n",
    "for row in result_matrix:\n",
    "    print(row)"
   ]
  },
  {
   "cell_type": "markdown",
   "id": "75949d52",
   "metadata": {},
   "source": [
    "3. Write a Python Program to Transpose a Matrix?"
   ]
  },
  {
   "cell_type": "code",
   "execution_count": 3,
   "id": "810dc1f8",
   "metadata": {},
   "outputs": [
    {
     "name": "stdout",
     "output_type": "stream",
     "text": [
      "Transposed Matrix:\n",
      "[1, 4, 7]\n",
      "[2, 5, 8]\n",
      "[3, 6, 9]\n"
     ]
    }
   ],
   "source": [
    "matrix = [[1, 2, 3],\n",
    "          [4, 5, 6],\n",
    "          [7, 8, 9]]\n",
    "\n",
    "transposed_matrix = []\n",
    "for j in range(len(matrix[0])):\n",
    "    row = []\n",
    "    for i in range(len(matrix)):\n",
    "        row.append(matrix[i][j])\n",
    "    transposed_matrix.append(row)\n",
    "\n",
    "print(\"Transposed Matrix:\")\n",
    "for row in transposed_matrix:\n",
    "    print(row)"
   ]
  },
  {
   "cell_type": "markdown",
   "id": "5d129168",
   "metadata": {},
   "source": [
    "4. Write a Python Program to Sort Words in Alphabetic Order?"
   ]
  },
  {
   "cell_type": "code",
   "execution_count": 4,
   "id": "9df598d0",
   "metadata": {},
   "outputs": [
    {
     "name": "stdout",
     "output_type": "stream",
     "text": [
      "Sorted words in alphabetical order:\n",
      "This\n",
      "alphabetical\n",
      "an\n",
      "example\n",
      "in\n",
      "is\n",
      "order\n",
      "sentence\n",
      "sort\n",
      "the\n",
      "to\n",
      "words\n"
     ]
    }
   ],
   "source": [
    "sentence = \"This is an example sentence to sort the words in alphabetical order\"\n",
    "words_list = sentence.split()\n",
    "sorted_words_list = sorted(words_list)\n",
    "\n",
    "print(\"Sorted words in alphabetical order:\")\n",
    "for word in sorted_words_list:\n",
    "    print(word)"
   ]
  },
  {
   "cell_type": "markdown",
   "id": "196a9db6",
   "metadata": {},
   "source": [
    "5. Write a Python Program to Remove Punctuation From a String?"
   ]
  },
  {
   "cell_type": "code",
   "execution_count": 5,
   "id": "26e90537",
   "metadata": {},
   "outputs": [
    {
     "name": "stdout",
     "output_type": "stream",
     "text": [
      "Text without punctuation: Hello World This is a sample sentence\n"
     ]
    }
   ],
   "source": [
    "import string\n",
    "\n",
    "sentence = \"Hello, World! This is a sample sentence.\"\n",
    "translator = str.maketrans(\"\", \"\", string.punctuation)\n",
    "text_without_punctuation = sentence.translate(translator)\n",
    "\n",
    "print(\"Text without punctuation:\", text_without_punctuation)"
   ]
  }
 ],
 "metadata": {
  "kernelspec": {
   "display_name": "Python 3 (ipykernel)",
   "language": "python",
   "name": "python3"
  },
  "language_info": {
   "codemirror_mode": {
    "name": "ipython",
    "version": 3
   },
   "file_extension": ".py",
   "mimetype": "text/x-python",
   "name": "python",
   "nbconvert_exporter": "python",
   "pygments_lexer": "ipython3",
   "version": "3.9.13"
  }
 },
 "nbformat": 4,
 "nbformat_minor": 5
}

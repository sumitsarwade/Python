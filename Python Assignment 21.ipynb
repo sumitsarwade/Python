{
 "cells": [
  {
   "cell_type": "markdown",
   "id": "0246c24a",
   "metadata": {},
   "source": [
    "## Python Assignment 21"
   ]
  },
  {
   "cell_type": "markdown",
   "id": "1135c38f",
   "metadata": {},
   "source": [
    "### 1. Add the current date to the text file today.txt as a string."
   ]
  },
  {
   "cell_type": "code",
   "execution_count": 1,
   "id": "15101333",
   "metadata": {},
   "outputs": [],
   "source": [
    "import datetime\n",
    "\n",
    "# Get the current date\n",
    "current_date = datetime.date.today()\n",
    "\n",
    "# Convert the date to a string\n",
    "current_date_string = str(current_date)\n",
    "\n",
    "# Open the file in append mode and write the date\n",
    "with open(\"today.txt\", \"a\") as file:\n",
    "    file.write(current_date_string + \"\\n\")\n"
   ]
  },
  {
   "cell_type": "markdown",
   "id": "4433e401",
   "metadata": {},
   "source": [
    "### 2. Read the text file today.txt into the string today_string"
   ]
  },
  {
   "cell_type": "code",
   "execution_count": 2,
   "id": "38921e90",
   "metadata": {},
   "outputs": [
    {
     "name": "stdout",
     "output_type": "stream",
     "text": [
      "2023-05-27\n",
      "\n"
     ]
    }
   ],
   "source": [
    "with open(\"today.txt\", \"r\") as file:\n",
    "    today_string = file.read()\n",
    "\n",
    "print(today_string)\n"
   ]
  },
  {
   "cell_type": "markdown",
   "id": "c1085737",
   "metadata": {},
   "source": [
    "### 3. Parse the date from today_string."
   ]
  },
  {
   "cell_type": "code",
   "execution_count": 3,
   "id": "80dec58e",
   "metadata": {},
   "outputs": [
    {
     "name": "stdout",
     "output_type": "stream",
     "text": [
      "2023-05-27 00:00:00\n"
     ]
    }
   ],
   "source": [
    "import datetime\n",
    "\n",
    "# Parse the date from the today_string\n",
    "parsed_date = datetime.datetime.strptime(today_string.strip(), \"%Y-%m-%d\")\n",
    "\n",
    "# Print the parsed date\n",
    "print(parsed_date)\n"
   ]
  },
  {
   "cell_type": "markdown",
   "id": "f3593906",
   "metadata": {},
   "source": [
    "### 4. List the files in your current directory"
   ]
  },
  {
   "cell_type": "code",
   "execution_count": 4,
   "id": "7c6dbbe1",
   "metadata": {},
   "outputs": [
    {
     "name": "stdout",
     "output_type": "stream",
     "text": [
      ".ipynb_checkpoints\n",
      "books.csv\n",
      "books.db\n",
      "drawn_image.png\n",
      "ineuron.jpg\n",
      "modified_example.jpg\n",
      "output.csv\n",
      "Python  Assignment 2.ipynb\n",
      "Python  Assignment 3.ipynb\n",
      "Python  Assignment 4.ipynb\n",
      "Python Assignment 1.ipynb\n",
      "Python Assignment 10.ipynb\n",
      "Python Assignment 11.ipynb\n",
      "Python Assignment 12.ipynb\n",
      "Python Assignment 13.ipynb\n",
      "Python Assignment 14.ipynb\n",
      "Python Assignment 15.ipynb\n",
      "Python Assignment 16.ipynb\n",
      "Python Assignment 17.ipynb\n",
      "Python Assignment 18.ipynb\n",
      "Python Assignment 19.ipynb\n",
      "Python Assignment 21.ipynb\n",
      "Python Assignment 22.ipynb\n",
      "Python Assignment 23.ipynb\n",
      "Python Assignment 24.ipynb\n",
      "Python Assignment 25.ipynb\n",
      "Python Assignment 5.ipynb\n",
      "Python Assignment 6.ipynb\n",
      "Python Assignment 7.ipynb\n",
      "Python Assignment 8.ipynb\n",
      "Python Assignment 9.ipynb\n",
      "test.txt\n",
      "today.txt\n"
     ]
    }
   ],
   "source": [
    "import os\n",
    "\n",
    "# Get the list of files in the current directory\n",
    "files = os.listdir()\n",
    "\n",
    "# Print the list of files\n",
    "for file in files:\n",
    "    print(file)\n"
   ]
  },
  {
   "cell_type": "markdown",
   "id": "e33a6b79",
   "metadata": {},
   "source": [
    "### 5. Create a list of all of the files in your parent directory (minimum five files should be available)."
   ]
  },
  {
   "cell_type": "code",
   "execution_count": 11,
   "id": "7e4c4e73",
   "metadata": {},
   "outputs": [
    {
     "name": "stdout",
     "output_type": "stream",
     "text": [
      ".ipynb_checkpoints\n",
      "Deep Learning Assignments\n",
      "M.Sc.Data Science Fergusson Assignments Sem 1 2 and 3\n",
      "Machine Learning Assidnments\n",
      "Python Assignment Advance\n",
      "Python Assignment Basic\n",
      "Python Assignment Code\n"
     ]
    }
   ],
   "source": [
    "import os\n",
    "\n",
    "# Get the parent directory path\n",
    "parent_directory = os.path.abspath('..')\n",
    "\n",
    "# Get the list of files in the parent directory\n",
    "files = os.listdir(parent_directory)\n",
    "\n",
    "# Print the list of files\n",
    "for file in files:\n",
    "    print(file)\n"
   ]
  },
  {
   "cell_type": "markdown",
   "id": "b084dfea",
   "metadata": {},
   "source": [
    "### 6. Use multiprocessing to create three separate processes. Make each one wait a random number of seconds between one and five, print the current time, and then exit."
   ]
  },
  {
   "cell_type": "code",
   "execution_count": 12,
   "id": "f52ae606",
   "metadata": {},
   "outputs": [],
   "source": [
    "import multiprocessing\n",
    "import time\n",
    "import random\n",
    "from datetime import datetime\n",
    "\n",
    "def worker():\n",
    "    wait_time = random.randint(1, 5)\n",
    "    time.sleep(wait_time)\n",
    "    current_time = datetime.now().strftime(\"%Y-%m-%d %H:%M:%S\")\n",
    "    print(f\"Process ID: {multiprocessing.current_process().name} - Current Time: {current_time}\")\n",
    "\n",
    "if __name__ == \"__main__\":\n",
    "    processes = []\n",
    "    for _ in range(3):\n",
    "        p = multiprocessing.Process(target=worker)\n",
    "        processes.append(p)\n",
    "        p.start()\n",
    "\n",
    "    for p in processes:\n",
    "        p.join()\n"
   ]
  },
  {
   "cell_type": "markdown",
   "id": "69dd2eee",
   "metadata": {},
   "source": [
    "### 7. Create a date object of your day of birth."
   ]
  },
  {
   "cell_type": "code",
   "execution_count": 13,
   "id": "b3cb4f54",
   "metadata": {},
   "outputs": [
    {
     "name": "stdout",
     "output_type": "stream",
     "text": [
      "2000-10-15\n"
     ]
    }
   ],
   "source": [
    "import datetime\n",
    "\n",
    "# Specify the day of birth\n",
    "birth_date = datetime.date(2000, 10, 15)\n",
    "\n",
    "# Print the day of birth\n",
    "print(birth_date)\n"
   ]
  },
  {
   "cell_type": "markdown",
   "id": "a1dd6933",
   "metadata": {},
   "source": [
    "### 8. What day of the week was your day of birth?"
   ]
  },
  {
   "cell_type": "code",
   "execution_count": 16,
   "id": "09de89e7",
   "metadata": {},
   "outputs": [
    {
     "name": "stdout",
     "output_type": "stream",
     "text": [
      "Saturday\n"
     ]
    }
   ],
   "source": [
    "import datetime\n",
    "\n",
    "#day of birth\n",
    "birth_date = datetime.date(1999, 5 , 15)\n",
    "\n",
    "\n",
    "day_of_week = birth_date.strftime(\"%A\")\n",
    "\n",
    "\n",
    "print(day_of_week)\n"
   ]
  },
  {
   "cell_type": "markdown",
   "id": "3209acbb",
   "metadata": {},
   "source": [
    "### 9. When will you be (or when were you) 10,000 days old?"
   ]
  },
  {
   "cell_type": "code",
   "execution_count": 19,
   "id": "6e2cb1e5",
   "metadata": {},
   "outputs": [
    {
     "name": "stdout",
     "output_type": "stream",
     "text": [
      "2026-09-30\n"
     ]
    }
   ],
   "source": [
    "ten_thousand_days = datetime.timedelta(days=10000)\n",
    "result_date = birth_date + ten_thousand_days\n",
    "\n",
    "# Print the result date\n",
    "print(result_date)"
   ]
  }
 ],
 "metadata": {
  "kernelspec": {
   "display_name": "Python 3 (ipykernel)",
   "language": "python",
   "name": "python3"
  },
  "language_info": {
   "codemirror_mode": {
    "name": "ipython",
    "version": 3
   },
   "file_extension": ".py",
   "mimetype": "text/x-python",
   "name": "python",
   "nbconvert_exporter": "python",
   "pygments_lexer": "ipython3",
   "version": "3.9.13"
  }
 },
 "nbformat": 4,
 "nbformat_minor": 5
}

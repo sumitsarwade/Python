{
 "cells": [
  {
   "cell_type": "markdown",
   "id": "04161f56",
   "metadata": {},
   "source": [
    "## Python Advance Assignment 22"
   ]
  },
  {
   "cell_type": "markdown",
   "id": "eb4839e9",
   "metadata": {},
   "source": [
    "#### Q1. If you have any, what are your choices for increasing the comparison between different figures on the same graph?"
   ]
  },
  {
   "cell_type": "markdown",
   "id": "9f99d2b9",
   "metadata": {},
   "source": [
    "Use different colors or patterns: Assign different colors or patterns to the data series or individual figures to make them visually distinct and easier to compare.\n",
    "\n",
    "\n",
    "Adjust the scales: Ensure that the scales of the axes are appropriate for the data being plotted. You can adjust the range or increments of the axes to emphasize differences between figures.\n",
    "\n",
    "\n",
    "Utilize annotations or labels: Add annotations or labels to the figures to provide additional context and information. This can help viewers understand and compare the data more effectively.\n",
    "\n",
    "\n",
    "Use grouped or stacked bars: If you are plotting bar graphs, consider grouping or stacking the bars to visually compare different categories or subgroups within each figure.\n",
    "\n",
    "\n",
    "Provide a legend: Include a legend that clearly explains the different figures or data series being displayed. This allows viewers to refer to the legend and compare the figures accordingly."
   ]
  },
  {
   "cell_type": "markdown",
   "id": "c90adc92",
   "metadata": {},
   "source": [
    "####  Q2. Can you explain the benefit of compound interest over a higher rate of interest that does not compound after reading this chapter?"
   ]
  },
  {
   "cell_type": "markdown",
   "id": "61ab6898",
   "metadata": {},
   "source": [
    "Compound interest refers to the interest calculated not only on the initial principal amount but also on the accumulated interest from previous periods. The benefit of compound interest over a higher rate of interest that does not compound is that it allows for exponential growth of the investment or loan balance over time.\n",
    "\n",
    "\n",
    "When interest is compounded, the interest earned in each period is added to the principal, and future interest calculations are based on the updated balance. As a result, the interest earned in subsequent periods is calculated on a larger principal amount, leading to accelerated growth of the investment or loan balance.\n",
    "\n",
    "\n",
    "On the other hand, a higher rate of interest that does not compound would only apply the interest rate to the initial principal amount, resulting in linear growth of the balance over time. Compound interest allows for the compounding effect to work in favor of the investor or lender, leading to greater returns or higher interest payments."
   ]
  },
  {
   "cell_type": "markdown",
   "id": "701f0304",
   "metadata": {},
   "source": [
    "#### Q3. What is a histogram, exactly? Name a numpy method for creating such a graph."
   ]
  },
  {
   "cell_type": "markdown",
   "id": "0eed0c81",
   "metadata": {},
   "source": [
    "A histogram is a graphical representation of the distribution of a dataset. It is a way to visualize the frequency or probability of different values falling within specific intervals or bins.\n",
    "\n",
    "\n",
    "NumPy provides the numpy.histogram() function to create a histogram. It takes an input array and a specification of the bins as arguments and returns the frequency or probability of the values falling within each bin, along with the bin edges."
   ]
  },
  {
   "cell_type": "code",
   "execution_count": 1,
   "id": "fe4f83d5",
   "metadata": {},
   "outputs": [
    {
     "data": {
      "image/png": "[encoded data removed]",
      "text/plain": [
       "<Figure size 640x480 with 1 Axes>"
      ]
     },
     "metadata": {},
     "output_type": "display_data"
    }
   ],
   "source": [
    "import numpy as np\n",
    "import matplotlib.pyplot as plt\n",
    "\n",
    "data = np.random.normal(0, 1, 1000)  # Generate random data\n",
    "\n",
    "hist, bins = np.histogram(data, bins=10)  # Calculate the histogram\n",
    "\n",
    "plt.hist(data, bins=10)  # Plot the histogram\n",
    "plt.show()"
   ]
  },
  {
   "cell_type": "markdown",
   "id": "8a922daf",
   "metadata": {},
   "source": [
    "#### Q4. If necessary, how do you change the aspect ratios between the X and Y axes?"
   ]
  },
  {
   "cell_type": "markdown",
   "id": "fc14720e",
   "metadata": {},
   "source": [
    "To change the aspect ratios between the X and Y axes, you can use the matplotlib.pyplot.gca() function to get the current axes object and then modify its aspect ratio."
   ]
  },
  {
   "cell_type": "code",
   "execution_count": 2,
   "id": "73e1b3c8",
   "metadata": {},
   "outputs": [
    {
     "data": {
      "image/png": "[encoded data removed]",
      "text/plain": [
       "<Figure size 640x480 with 1 Axes>"
      ]
     },
     "metadata": {},
     "output_type": "display_data"
    }
   ],
   "source": [
    "import matplotlib.pyplot as plt\n",
    "\n",
    "# Plotting example data\n",
    "x = [1, 2, 3, 4, 5]\n",
    "y = [2, 4, 6, 8, 10]\n",
    "plt.plot(x, y)\n",
    "\n",
    "# Get the current axes\n",
    "ax = plt.gca()\n",
    "\n",
    "# Set the aspect ratio\n",
    "ax.set_aspect('equal')  # 'equal' ensures the same scaling on both axes\n",
    "\n",
    "plt.show()"
   ]
  },
  {
   "cell_type": "markdown",
   "id": "321662cb",
   "metadata": {},
   "source": [
    "#### Q5. Compare and contrast the three types of array multiplication between two numpy arrays: dot product, outer product, and regular multiplication of two numpy arrays."
   ]
  },
  {
   "cell_type": "markdown",
   "id": "dd582f66",
   "metadata": {},
   "source": [
    "Regular multiplication (*): When you multiply two NumPy arrays using the * operator, it performs element-wise multiplication. The arrays must have the same shape or compatible broadcasting rules should apply. The resulting array will have the same shape as the input arrays, and each element in the resulting array is the product of the corresponding elements in the input arrays."
   ]
  },
  {
   "cell_type": "code",
   "execution_count": 3,
   "id": "539fe0c7",
   "metadata": {},
   "outputs": [
    {
     "name": "stdout",
     "output_type": "stream",
     "text": [
      "[ 4 10 18]\n"
     ]
    }
   ],
   "source": [
    "import numpy as np\n",
    "\n",
    "A = np.array([1, 2, 3])\n",
    "B = np.array([4, 5, 6])\n",
    "\n",
    "result = A * B\n",
    "print(result)"
   ]
  },
  {
   "cell_type": "markdown",
   "id": "8c1c9af0",
   "metadata": {},
   "source": [
    "Dot product (numpy.dot() or @ operator): The dot product is a mathematical operation that calculates the sum of the products of corresponding elements in two arrays. It requires the inner dimensions of the arrays to be compatible. If the arrays are 1-dimensional, the dot product is equivalent to regular multiplication."
   ]
  },
  {
   "cell_type": "code",
   "execution_count": 4,
   "id": "da2da2c8",
   "metadata": {},
   "outputs": [
    {
     "name": "stdout",
     "output_type": "stream",
     "text": [
      "32\n"
     ]
    }
   ],
   "source": [
    "import numpy as np\n",
    "\n",
    "A = np.array([1, 2, 3])\n",
    "B = np.array([4, 5, 6])\n",
    "\n",
    "result = np.dot(A, B)\n",
    "# or result = A @ B\n",
    "print(result)"
   ]
  },
  {
   "cell_type": "markdown",
   "id": "90dc76ed",
   "metadata": {},
   "source": [
    "Outer product (numpy.outer()): The outer product of two arrays creates a new array where each element is the product of elements from the first and second arrays. The resulting array has the shape of the outer product of the input arrays."
   ]
  },
  {
   "cell_type": "code",
   "execution_count": 5,
   "id": "0d648e07",
   "metadata": {},
   "outputs": [
    {
     "name": "stdout",
     "output_type": "stream",
     "text": [
      "[[ 4  5  6]\n",
      " [ 8 10 12]\n",
      " [12 15 18]]\n"
     ]
    }
   ],
   "source": [
    "import numpy as np\n",
    "\n",
    "A = np.array([1, 2, 3])\n",
    "B = np.array([4, 5, 6])\n",
    "\n",
    "result = np.outer(A, B)\n",
    "print(result)"
   ]
  },
  {
   "cell_type": "markdown",
   "id": "a9e27a72",
   "metadata": {},
   "source": [
    "To summarize, regular multiplication (*) performs element-wise multiplication, the dot product (numpy.dot() or @) calculates the sum of the products of corresponding elements, and the outer product (numpy.outer()) creates a new array with products of all pairs of elements."
   ]
  },
  {
   "cell_type": "markdown",
   "id": "c2bd9d5c",
   "metadata": {},
   "source": [
    "#### Q6. Before you buy a home, which numpy function will you use to measure your monthly mortgage payment?"
   ]
  },
  {
   "cell_type": "markdown",
   "id": "0c0b903f",
   "metadata": {},
   "source": [
    "Before buying a home, you can use the numpy.pmt() function to calculate your monthly mortgage payment. The numpy.pmt() function stands for \"payment\" and is used to compute the periodic payment for a loan with a fixed interest rate and fixed term."
   ]
  },
  {
   "cell_type": "code",
   "execution_count": 7,
   "id": "1e5494ed",
   "metadata": {},
   "outputs": [
    {
     "name": "stdout",
     "output_type": "stream",
     "text": [
      "Collecting numpy-financial\n",
      "  Downloading numpy_financial-1.0.0-py3-none-any.whl (14 kB)\n",
      "Requirement already satisfied: numpy>=1.15 in c:\\users\\laxman sarwade\\anaconda3\\lib\\site-packages (from numpy-financial) (1.24.2)\n",
      "Installing collected packages: numpy-financial\n",
      "Successfully installed numpy-financial-1.0.0\n"
     ]
    }
   ],
   "source": [
    "!pip install numpy-financial"
   ]
  },
  {
   "cell_type": "code",
   "execution_count": 9,
   "id": "daadd1c9",
   "metadata": {},
   "outputs": [
    {
     "name": "stdout",
     "output_type": "stream",
     "text": [
      "954.8305909309076\n"
     ]
    }
   ],
   "source": [
    "import numpy_financial as npf\n",
    "\n",
    "loan_amount = 200000  # Loan amount in dollars\n",
    "interest_rate = 0.04  # Annual interest rate (4%)\n",
    "loan_term = 30  # Loan term in years\n",
    "\n",
    "monthly_payment = npf.pmt(interest_rate/12, loan_term*12, -loan_amount)\n",
    "print(monthly_payment)"
   ]
  },
  {
   "cell_type": "markdown",
   "id": "ace74486",
   "metadata": {},
   "source": [
    "#### Q7. Can string data be stored in numpy arrays? If so, list at least one restriction that applies to this data."
   ]
  },
  {
   "cell_type": "markdown",
   "id": "903dd217",
   "metadata": {},
   "source": [
    "Fixed-length strings: NumPy arrays require fixed-length strings. When creating a NumPy array with string data, you need to specify the maximum length of the strings. All strings in the array will be padded or truncated to this fixed length.\n",
    "\n",
    "\n",
    "Limited flexibility: Unlike regular Python lists or arrays, NumPy arrays have a fixed data type. This means that all elements of a string array must have the same length, and you cannot have variable-length strings within the array.\n",
    "\n",
    "\n",
    "Performance considerations: Storing string data in NumPy arrays can have performance implications, as strings are generally larger in memory compared to numerical data types. Operations on string arrays may also be slower than operations on numerical arrays."
   ]
  }
 ],
 "metadata": {
  "kernelspec": {
   "display_name": "Python 3 (ipykernel)",
   "language": "python",
   "name": "python3"
  },
  "language_info": {
   "codemirror_mode": {
    "name": "ipython",
    "version": 3
   },
   "file_extension": ".py",
   "mimetype": "text/x-python",
   "name": "python",
   "nbconvert_exporter": "python",
   "pygments_lexer": "ipython3",
   "version": "3.9.13"
  }
 },
 "nbformat": 4,
 "nbformat_minor": 5
}

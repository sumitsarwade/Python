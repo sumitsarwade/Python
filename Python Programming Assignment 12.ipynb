{
 "cells": [
  {
   "cell_type": "markdown",
   "id": "41d67633",
   "metadata": {},
   "source": [
    "## Python Programming Assignment 12"
   ]
  },
  {
   "cell_type": "code",
   "execution_count": null,
   "id": "bf6b70ab",
   "metadata": {},
   "outputs": [],
   "source": [
    "1. Write a Python program to Extract Unique values dictionary values?"
   ]
  },
  {
   "cell_type": "code",
   "execution_count": 4,
   "id": "96103696",
   "metadata": {},
   "outputs": [
    {
     "name": "stdout",
     "output_type": "stream",
     "text": [
      "{1, 2, 3, 4, 5}\n"
     ]
    }
   ],
   "source": [
    "def extract_unique_values(dictionary):\n",
    "    unique_values = set()\n",
    "    for values in dictionary.values():\n",
    "        unique_values.update(values)\n",
    "    return unique_values\n",
    "\n",
    "my_dict = {\n",
    "    'a': [1, 2, 3],\n",
    "    'b': [2, 3, 4],\n",
    "    'c': [3, 4, 5]\n",
    "}\n",
    "\n",
    "result = extract_unique_values(my_dict)\n",
    "print(result)"
   ]
  },
  {
   "cell_type": "code",
   "execution_count": null,
   "id": "8d961b83",
   "metadata": {},
   "outputs": [],
   "source": [
    "2. Write a Python program to find the sum of all items in a dictionary?"
   ]
  },
  {
   "cell_type": "code",
   "execution_count": 5,
   "id": "a58bff8f",
   "metadata": {},
   "outputs": [
    {
     "name": "stdout",
     "output_type": "stream",
     "text": [
      "60\n"
     ]
    }
   ],
   "source": [
    "my_dict = {\n",
    "    'a': 10,\n",
    "    'b': 20,\n",
    "    'c': 30\n",
    "}\n",
    "\n",
    "total_sum = sum(my_dict.values())\n",
    "print(total_sum)"
   ]
  },
  {
   "cell_type": "code",
   "execution_count": null,
   "id": "c5fd6086",
   "metadata": {},
   "outputs": [],
   "source": [
    "3. Write a Python program to Merging two Dictionaries?"
   ]
  },
  {
   "cell_type": "code",
   "execution_count": 6,
   "id": "a6f526c9",
   "metadata": {},
   "outputs": [
    {
     "name": "stdout",
     "output_type": "stream",
     "text": [
      "{'a': 10, 'b': 20, 'c': 30, 'd': 40}\n"
     ]
    }
   ],
   "source": [
    "dict1 = {'a': 10, 'b': 20}\n",
    "dict2 = {'c': 30, 'd': 40}\n",
    "\n",
    "merged_dict = {**dict1, **dict2}\n",
    "print(merged_dict)"
   ]
  },
  {
   "cell_type": "code",
   "execution_count": null,
   "id": "70b88809",
   "metadata": {},
   "outputs": [],
   "source": [
    "4. Write a Python program to convert key-values list to flat dictionary?"
   ]
  },
  {
   "cell_type": "code",
   "execution_count": 7,
   "id": "d7600c09",
   "metadata": {},
   "outputs": [
    {
     "name": "stdout",
     "output_type": "stream",
     "text": [
      "{'a': 1, 'b': 2, 'c': 3}\n"
     ]
    }
   ],
   "source": [
    "key_list = ['a', 'b', 'c']\n",
    "value_list = [1, 2, 3]\n",
    "\n",
    "flat_dict = {key: value for key, value in zip(key_list, value_list)}\n",
    "print(flat_dict)"
   ]
  },
  {
   "cell_type": "code",
   "execution_count": null,
   "id": "75b20caf",
   "metadata": {},
   "outputs": [],
   "source": [
    "5. Write a Python program to insertion at the beginning in OrderedDict?"
   ]
  },
  {
   "cell_type": "code",
   "execution_count": 8,
   "id": "11d25358",
   "metadata": {},
   "outputs": [
    {
     "name": "stdout",
     "output_type": "stream",
     "text": [
      "OrderedDict([('d', 4), ('a', 1), ('b', 2), ('c', 3)])\n"
     ]
    }
   ],
   "source": [
    "from collections import OrderedDict\n",
    "\n",
    "my_ordered_dict = OrderedDict([('a', 1), ('b', 2), ('c', 3)])\n",
    "\n",
    "my_ordered_dict.update({'d': 4})\n",
    "my_ordered_dict.move_to_end('d', last=False)\n",
    "\n",
    "print(my_ordered_dict)"
   ]
  },
  {
   "cell_type": "code",
   "execution_count": null,
   "id": "a9827401",
   "metadata": {},
   "outputs": [],
   "source": [
    "6. Write a Python program to check order of character in string using OrderedDict()?"
   ]
  },
  {
   "cell_type": "code",
   "execution_count": 9,
   "id": "4aeaae38",
   "metadata": {},
   "outputs": [
    {
     "name": "stdout",
     "output_type": "stream",
     "text": [
      "False\n"
     ]
    }
   ],
   "source": [
    "from collections import OrderedDict\n",
    "\n",
    "def check_order_of_characters(string, pattern):\n",
    "    ordered_dict = OrderedDict.fromkeys(string)\n",
    "    pattern_length = 0\n",
    "    for key in ordered_dict:\n",
    "        if key == pattern[pattern_length]:\n",
    "            pattern_length += 1\n",
    "        if pattern_length == len(pattern):\n",
    "            return True\n",
    "    return False\n",
    "\n",
    "input_string = \"Hello World!\"\n",
    "search_pattern = \"llo\"\n",
    "\n",
    "result = check_order_of_characters(input_string, search_pattern)\n",
    "print(result)"
   ]
  },
  {
   "cell_type": "code",
   "execution_count": null,
   "id": "50effc51",
   "metadata": {},
   "outputs": [],
   "source": [
    "7. Write a Python program to sort Python Dictionaries by Key or Value?"
   ]
  },
  {
   "cell_type": "code",
   "execution_count": 10,
   "id": "03abda62",
   "metadata": {},
   "outputs": [
    {
     "name": "stdout",
     "output_type": "stream",
     "text": [
      "{'a': 5, 'b': 2, 'c': 8, 'd': 1}\n",
      "{'d': 1, 'b': 2, 'a': 5, 'c': 8}\n"
     ]
    }
   ],
   "source": [
    "my_dict = {'a': 5, 'b': 2, 'c': 8, 'd': 1}\n",
    "\n",
    "# Sort by key\n",
    "sorted_by_key = dict(sorted(my_dict.items()))\n",
    "print(sorted_by_key)\n",
    "\n",
    "# Sort by value\n",
    "sorted_by_value = dict(sorted(my_dict.items(), key=lambda item: item[1]))\n",
    "print(sorted_by_value)"
   ]
  }
 ],
 "metadata": {
  "kernelspec": {
   "display_name": "Python 3 (ipykernel)",
   "language": "python",
   "name": "python3"
  },
  "language_info": {
   "codemirror_mode": {
    "name": "ipython",
    "version": 3
   },
   "file_extension": ".py",
   "mimetype": "text/x-python",
   "name": "python",
   "nbconvert_exporter": "python",
   "pygments_lexer": "ipython3",
   "version": "3.9.13"
  }
 },
 "nbformat": 4,
 "nbformat_minor": 5
}

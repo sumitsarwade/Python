{
 "cells": [
  {
   "cell_type": "markdown",
   "id": "e0c4024c",
   "metadata": {},
   "source": [
    "## Python Programming Assignment 7"
   ]
  },
  {
   "cell_type": "code",
   "execution_count": null,
   "id": "af2b387c",
   "metadata": {},
   "outputs": [],
   "source": [
    "1. Write a Python Program to find sum of array?"
   ]
  },
  {
   "cell_type": "code",
   "execution_count": 1,
   "id": "510cc0eb",
   "metadata": {},
   "outputs": [
    {
     "name": "stdout",
     "output_type": "stream",
     "text": [
      "Sum of the array: 15\n"
     ]
    }
   ],
   "source": [
    "array = [1, 2, 3, 4, 5]\n",
    "array_sum = sum(array)\n",
    "print(\"Sum of the array:\", array_sum)"
   ]
  },
  {
   "cell_type": "code",
   "execution_count": null,
   "id": "d392e3db",
   "metadata": {},
   "outputs": [],
   "source": [
    "2. Write a Python Program to find largest element in an array?"
   ]
  },
  {
   "cell_type": "code",
   "execution_count": 2,
   "id": "c6af016a",
   "metadata": {},
   "outputs": [
    {
     "name": "stdout",
     "output_type": "stream",
     "text": [
      "Largest element in the array: 27\n"
     ]
    }
   ],
   "source": [
    "array = [10, 4, 27, 8, 16]\n",
    "largest_element = max(array)\n",
    "print(\"Largest element in the array:\", largest_element)"
   ]
  },
  {
   "cell_type": "code",
   "execution_count": null,
   "id": "5d51df90",
   "metadata": {},
   "outputs": [],
   "source": [
    "3. Write a Python Program for array rotation?"
   ]
  },
  {
   "cell_type": "code",
   "execution_count": 3,
   "id": "2d361d27",
   "metadata": {},
   "outputs": [
    {
     "name": "stdout",
     "output_type": "stream",
     "text": [
      "Largest element in the array: 27\n"
     ]
    }
   ],
   "source": [
    "array = [10, 4, 27, 8, 16]\n",
    "largest_element = max(array)\n",
    "print(\"Largest element in the array:\", largest_element)"
   ]
  },
  {
   "cell_type": "code",
   "execution_count": null,
   "id": "cfd85e3b",
   "metadata": {},
   "outputs": [],
   "source": [
    "4. Write a Python Program to Split the array and add the first part to the end?"
   ]
  },
  {
   "cell_type": "code",
   "execution_count": 4,
   "id": "faa48649",
   "metadata": {},
   "outputs": [
    {
     "name": "stdout",
     "output_type": "stream",
     "text": [
      "Modified array after splitting and adding: [3, 4, 5, 1, 2]\n"
     ]
    }
   ],
   "source": [
    "array = [1, 2, 3, 4, 5]\n",
    "n = 2\n",
    "modified_array = array[n:] + array[:n]\n",
    "print(\"Modified array after splitting and adding:\", modified_array)"
   ]
  },
  {
   "cell_type": "code",
   "execution_count": null,
   "id": "57573474",
   "metadata": {},
   "outputs": [],
   "source": [
    "5. Write a Python Program to check if given array is Monotonic?"
   ]
  },
  {
   "cell_type": "code",
   "execution_count": 5,
   "id": "1ad8cc68",
   "metadata": {},
   "outputs": [
    {
     "name": "stdout",
     "output_type": "stream",
     "text": [
      "The given array is monotonic.\n"
     ]
    }
   ],
   "source": [
    "def is_monotonic(arr):\n",
    "    return all(arr[i] <= arr[i + 1] for i in range(len(arr) - 1)) or all(arr[i] >= arr[i + 1] for i in range(len(arr) - 1))\n",
    "\n",
    "array = [1, 2, 3, 4, 5]\n",
    "is_monotonic_array = is_monotonic(array)\n",
    "if is_monotonic_array:\n",
    "    print(\"The given array is monotonic.\")\n",
    "else:\n",
    "    print(\"The given array is not monotonic.\")"
   ]
  },
  {
   "cell_type": "code",
   "execution_count": null,
   "id": "97e3b65a",
   "metadata": {},
   "outputs": [],
   "source": []
  }
 ],
 "metadata": {
  "kernelspec": {
   "display_name": "Python 3 (ipykernel)",
   "language": "python",
   "name": "python3"
  },
  "language_info": {
   "codemirror_mode": {
    "name": "ipython",
    "version": 3
   },
   "file_extension": ".py",
   "mimetype": "text/x-python",
   "name": "python",
   "nbconvert_exporter": "python",
   "pygments_lexer": "ipython3",
   "version": "3.9.13"
  }
 },
 "nbformat": 4,
 "nbformat_minor": 5
}

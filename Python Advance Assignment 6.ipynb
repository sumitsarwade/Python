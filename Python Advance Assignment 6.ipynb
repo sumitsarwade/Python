{
 "cells": [
  {
   "cell_type": "markdown",
   "id": "ae0377dd",
   "metadata": {},
   "source": [
    "## Python Advance Assignment 6"
   ]
  },
  {
   "cell_type": "markdown",
   "id": "178f4882",
   "metadata": {},
   "source": [
    "### Q1. Describe three applications for exception processing."
   ]
  },
  {
   "cell_type": "markdown",
   "id": "1569cf09",
   "metadata": {},
   "source": [
    "Error Handling: Exception processing is widely used for error handling scenarios. When an error occurs during the execution of a program, such as file I/O errors, network errors, or invalid user input, exceptions can be raised to handle these exceptional conditions. By catching and handling exceptions, you can gracefully handle errors and provide appropriate feedback or take corrective actions.\n",
    "\n",
    "\n",
    "Resource Management: Exception processing is crucial for managing resources properly, such as files, database connections, network sockets, or system handles. Exceptions allow you to release or clean up resources even in the presence of errors or exceptional situations. For example, you can use the finally block to ensure that resources are properly closed or released, regardless of whether an exception occurred or not."
   ]
  },
  {
   "cell_type": "markdown",
   "id": "4064d010",
   "metadata": {},
   "source": [
    "Program Flow Control: Exceptions can also be used for controlling the flow of a program. By raising exceptions in specific situations, you can change the normal execution path and handle specific cases separately. This allows you to handle exceptional scenarios or exceptional inputs differently from the regular execution flow, enabling more robust and flexible program control."
   ]
  },
  {
   "cell_type": "markdown",
   "id": "18d7eb44",
   "metadata": {},
   "source": [
    "### Q2. What happens if you don&#39;t do something extra to treat an exception?"
   ]
  },
  {
   "cell_type": "markdown",
   "id": "1001781c",
   "metadata": {},
   "source": [
    "If an exception is not treated or handled in some way, it will propagate up the call stack until it reaches an exception handler or the program terminates. When an unhandled exception propagates up to the top-level of the program without being caught, it typically results in an error message being displayed, and the program terminates abruptly. This behavior is known as an \"unhandled exception\" or \"exception propagation.\"\n",
    "\n",
    "\n",
    "In the case of an unhandled exception, the program will terminate and potentially display an error message or stack trace that includes information about the exception. The abrupt termination can leave the program in an inconsistent state, and any remaining code or operations may not be executed."
   ]
  },
  {
   "cell_type": "markdown",
   "id": "ac647b85",
   "metadata": {},
   "source": [
    "To prevent unhandled exceptions, it is important to implement proper exception handling mechanisms, such as using try-except blocks, to catch and handle exceptions appropriately."
   ]
  },
  {
   "cell_type": "markdown",
   "id": "46d1d6ea",
   "metadata": {},
   "source": [
    "### Q3. What are your options for recovering from an exception in your script?"
   ]
  },
  {
   "cell_type": "markdown",
   "id": "d34d9d35",
   "metadata": {},
   "source": [
    "Catch and Handle the Exception: You can use a try-except block to catch specific exceptions and provide a recovery strategy. Within the except block, you can include code to handle the exception gracefully, such as displaying an error message, logging the exception, or taking corrective actions. By catching and handling exceptions, you can prevent the program from terminating abruptly and provide alternative paths or fallback mechanisms.\n",
    "\n",
    "\n",
    "Retry Mechanism: In some cases, you may choose to implement a retry mechanism to recover from specific exceptions. For example, if a network operation fails due to a temporary connection issue, you can catch the exception and retry the operation after a brief delay. This approach allows your script to recover from transient errors and continue execution without terminating."
   ]
  },
  {
   "cell_type": "markdown",
   "id": "1c92a160",
   "metadata": {},
   "source": [
    "Graceful Termination: In certain situations, it may be appropriate to handle an exception by gracefully terminating the script. For example, if a critical resource is unavailable or a fatal error occurs, you may choose to catch the exception, perform any necessary cleanup or logging, and then exit the script with an appropriate exit code"
   ]
  },
  {
   "cell_type": "markdown",
   "id": "7b195e05",
   "metadata": {},
   "source": [
    "### Q4. Describe two methods for triggering exceptions in your script."
   ]
  },
  {
   "cell_type": "markdown",
   "id": "ee8a2663",
   "metadata": {},
   "source": [
    "Using the raise Statement: You can use the raise statement to explicitly raise an exception at any point in your script. "
   ]
  },
  {
   "cell_type": "code",
   "execution_count": 2,
   "id": "924cbadf",
   "metadata": {},
   "outputs": [
    {
     "ename": "ValueError",
     "evalue": "Invalid input",
     "output_type": "error",
     "traceback": [
      "\u001b[1;31m---------------------------------------------------------------------------\u001b[0m",
      "\u001b[1;31mValueError\u001b[0m                                Traceback (most recent call last)",
      "\u001b[1;32mC:\\conda_tmp\\ipykernel_9152\\2120405369.py\u001b[0m in \u001b[0;36m<module>\u001b[1;34m\u001b[0m\n\u001b[1;32m----> 1\u001b[1;33m \u001b[1;32mraise\u001b[0m \u001b[0mValueError\u001b[0m\u001b[1;33m(\u001b[0m\u001b[1;34m\"Invalid input\"\u001b[0m\u001b[1;33m)\u001b[0m\u001b[1;33m\u001b[0m\u001b[1;33m\u001b[0m\u001b[0m\n\u001b[0m",
      "\u001b[1;31mValueError\u001b[0m: Invalid input"
     ]
    }
   ],
   "source": [
    "raise ValueError(\"Invalid input\")\n",
    "#This raises a ValueError exception with the specified error message. \n",
    "#You can raise any built-in exception or create custom exception classes \n",
    "# to represent specific error conditions in your script."
   ]
  },
  {
   "cell_type": "markdown",
   "id": "8c84952f",
   "metadata": {},
   "source": [
    "Invoking Built-in Functions or Methods: Certain built-in functions or methods can raise exceptions under specific conditions. For example, the open() function for file operations can raise a FileNotFoundError if the specified file does not exist. Similarly, methods like int() or float() can raise a ValueError if the provided input cannot be converted to the desired numeric type."
   ]
  },
  {
   "cell_type": "code",
   "execution_count": 3,
   "id": "3e40e00f",
   "metadata": {},
   "outputs": [
    {
     "name": "stdout",
     "output_type": "stream",
     "text": [
      "File 'nonexistent_file.txt' does not exist.\n"
     ]
    }
   ],
   "source": [
    "filename = \"nonexistent_file.txt\"\n",
    "try:\n",
    "    file = open(filename, \"r\")\n",
    "except FileNotFoundError:\n",
    "    print(f\"File '{filename}' does not exist.\")"
   ]
  },
  {
   "cell_type": "markdown",
   "id": "b77f8581",
   "metadata": {},
   "source": [
    "In this example, the open() function is called with a non-existent filename, which raises a FileNotFoundError. The exception is caught in a try-except block, allowing you to handle it appropriately."
   ]
  },
  {
   "cell_type": "markdown",
   "id": "c8b80618",
   "metadata": {},
   "source": [
    "### Q5. Identify two methods for specifying actions to be executed at termination time, regardless of whether or not an exception exists."
   ]
  },
  {
   "cell_type": "markdown",
   "id": "88558e57",
   "metadata": {},
   "source": [
    "The finally Block: The finally block is used in conjunction with a try-except block and provides a way to specify cleanup code that should be executed regardless of whether an exception occurs or not. The statements inside the finally block are always executed, ensuring that certain cleanup operations or finalization steps are performed"
   ]
  },
  {
   "cell_type": "markdown",
   "id": "8fc84326",
   "metadata": {},
   "source": [
    "try:\n",
    "    # Code that may raise exceptions\n",
    "except Exception:\n",
    "    # Exception handling code\n",
    "finally:\n",
    "    # Cleanup or finalization code"
   ]
  },
  {
   "cell_type": "markdown",
   "id": "31e5fcff",
   "metadata": {},
   "source": [
    "The atexit Module: The atexit module provides a way to register functions that will be called automatically when the Python interpreter is about to exit, regardless of the reason for termination (including normal program termination or an unhandled exception). You can use the atexit.register() function to register functions that need to be executed during termination. "
   ]
  },
  {
   "cell_type": "markdown",
   "id": "34a5ec9a",
   "metadata": {},
   "source": [
    "import atexit\n",
    "\n",
    "def cleanup():\n",
    "    # Cleanup or finalization code\n",
    "\n",
    "atexit.register(cleanup)"
   ]
  }
 ],
 "metadata": {
  "kernelspec": {
   "display_name": "Python 3 (ipykernel)",
   "language": "python",
   "name": "python3"
  },
  "language_info": {
   "codemirror_mode": {
    "name": "ipython",
    "version": 3
   },
   "file_extension": ".py",
   "mimetype": "text/x-python",
   "name": "python",
   "nbconvert_exporter": "python",
   "pygments_lexer": "ipython3",
   "version": "3.9.13"
  }
 },
 "nbformat": 4,
 "nbformat_minor": 5
}

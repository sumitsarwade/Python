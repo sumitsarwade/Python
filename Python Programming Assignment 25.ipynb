{
 "cells": [
  {
   "cell_type": "markdown",
   "id": "ad017495",
   "metadata": {},
   "source": [
    "## Python Programming Assignment 25"
   ]
  },
  {
   "cell_type": "markdown",
   "id": "2ea3bc3b",
   "metadata": {},
   "source": [
    "Question1\n",
    "Create a function that takes three integer arguments (a, b, c) and returns the amount of\n",
    "integers which are of equal value.\n",
    "Examples\n",
    "equal(3, 4, 3) ➞ 2\n",
    "equal(1, 1, 1) ➞ 3\n",
    "equal(3, 4, 1) ➞ 0\n",
    "Notes\n",
    "Your function must return 0, 2 or 3."
   ]
  },
  {
   "cell_type": "code",
   "execution_count": 2,
   "id": "90f6a195",
   "metadata": {},
   "outputs": [],
   "source": [
    "def equal(a, b, c):\n",
    "    count = 0\n",
    "    \n",
    "    # Check if a equals b\n",
    "    if a == b:\n",
    "        count += 1\n",
    "    \n",
    "    # Check if a equals c\n",
    "    if a == c:\n",
    "        count += 1\n",
    "    \n",
    "    # Check if b equals c\n",
    "    if b == c:\n",
    "        count += 1\n",
    "    \n",
    "    return count"
   ]
  },
  {
   "cell_type": "code",
   "execution_count": 14,
   "id": "3900cde6",
   "metadata": {},
   "outputs": [
    {
     "name": "stdout",
     "output_type": "stream",
     "text": [
      "3\n"
     ]
    }
   ],
   "source": [
    "print(equal(1, 1, 1))"
   ]
  },
  {
   "cell_type": "markdown",
   "id": "a6bbbc55",
   "metadata": {},
   "source": [
    "Question2\n",
    "Write a function that converts a dictionary into a list of keys-values tuples."
   ]
  },
  {
   "cell_type": "code",
   "execution_count": 4,
   "id": "65312ff1",
   "metadata": {},
   "outputs": [],
   "source": [
    "def dict_to_list(dictionary):\n",
    "    # Get the key-value pairs from the dictionary and sort them\n",
    "    sorted_pairs = sorted(dictionary.items(), key=lambda x: x[0])\n",
    "    \n",
    "    # Return the sorted key-value pairs\n",
    "    return sorted_pairs"
   ]
  },
  {
   "cell_type": "code",
   "execution_count": 5,
   "id": "16d32a0c",
   "metadata": {},
   "outputs": [
    {
     "name": "stdout",
     "output_type": "stream",
     "text": [
      "[('B', 2), ('C', 3), ('D', 1)]\n"
     ]
    }
   ],
   "source": [
    "print(dict_to_list({\"D\": 1, \"B\": 2, \"C\": 3}))"
   ]
  },
  {
   "cell_type": "markdown",
   "id": "8f107315",
   "metadata": {},
   "source": [
    "Question3\n",
    "Write a function that creates a dictionary with each (key, value) pair being the (lower case,\n",
    "upper case) versions of a letter, respectively."
   ]
  },
  {
   "cell_type": "code",
   "execution_count": 6,
   "id": "b64f42a0",
   "metadata": {},
   "outputs": [],
   "source": [
    "def mapping(letters):\n",
    "    # Create a dictionary using dictionary comprehension\n",
    "    result = {letter: letter.upper() for letter in letters}\n",
    "    \n",
    "    # Return the resulting dictionary\n",
    "    return result"
   ]
  },
  {
   "cell_type": "code",
   "execution_count": 7,
   "id": "0459dad2",
   "metadata": {},
   "outputs": [
    {
     "name": "stdout",
     "output_type": "stream",
     "text": [
      "{'p': 'P', 's': 'S'}\n"
     ]
    }
   ],
   "source": [
    "print(mapping([\"p\", \"s\"]))"
   ]
  },
  {
   "cell_type": "markdown",
   "id": "993068ba",
   "metadata": {},
   "source": [
    "Question4\n",
    "Write a function, that replaces all vowels in a string with a specified vowel."
   ]
  },
  {
   "cell_type": "code",
   "execution_count": 8,
   "id": "81919004",
   "metadata": {},
   "outputs": [],
   "source": [
    "def vow_replace(string, vowel):\n",
    "    # Define a string of vowels\n",
    "    vowels = \"aeiou\"\n",
    "    \n",
    "    # Iterate over each vowel in the string\n",
    "    for v in vowels:\n",
    "        # Replace the vowel with the specified vowel\n",
    "        string = string.replace(v, vowel)\n",
    "    \n",
    "    # Return the modified string\n",
    "    return string"
   ]
  },
  {
   "cell_type": "code",
   "execution_count": 9,
   "id": "1ae3cc4c",
   "metadata": {},
   "outputs": [
    {
     "name": "stdout",
     "output_type": "stream",
     "text": [
      "upplus und bununus\n"
     ]
    }
   ],
   "source": [
    "print(vow_replace(\"apples and bananas\", \"u\"))"
   ]
  },
  {
   "cell_type": "markdown",
   "id": "a619d67e",
   "metadata": {},
   "source": [
    "Question5\n",
    "Create a function that takes a string as input and capitalizes a letter if its ASCII code is even\n",
    "and returns its lower case version if its ASCII code is odd."
   ]
  },
  {
   "cell_type": "code",
   "execution_count": 12,
   "id": "7b649858",
   "metadata": {},
   "outputs": [],
   "source": [
    "def ascii_capitalize(string):\n",
    "    result = \"\"\n",
    "    \n",
    "    for char in string:\n",
    "        ascii_code = ord(char)\n",
    "        \n",
    "        if ascii_code % 2 == 0:\n",
    "            result += char.upper()\n",
    "        else:\n",
    "            result += char.lower()\n",
    "    \n",
    "    return result"
   ]
  },
  {
   "cell_type": "code",
   "execution_count": 13,
   "id": "164932d3",
   "metadata": {},
   "outputs": [
    {
     "name": "stdout",
     "output_type": "stream",
     "text": [
      "To Be oR NoT To Be!\n"
     ]
    }
   ],
   "source": [
    "print(ascii_capitalize(\"to be or not to be!\"))"
   ]
  }
 ],
 "metadata": {
  "kernelspec": {
   "display_name": "Python 3 (ipykernel)",
   "language": "python",
   "name": "python3"
  },
  "language_info": {
   "codemirror_mode": {
    "name": "ipython",
    "version": 3
   },
   "file_extension": ".py",
   "mimetype": "text/x-python",
   "name": "python",
   "nbconvert_exporter": "python",
   "pygments_lexer": "ipython3",
   "version": "3.9.13"
  }
 },
 "nbformat": 4,
 "nbformat_minor": 5
}

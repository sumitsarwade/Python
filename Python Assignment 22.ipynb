{
 "cells": [
  {
   "cell_type": "markdown",
   "id": "eb1782ae",
   "metadata": {},
   "source": [
    "## Python Assignment 22"
   ]
  },
  {
   "cell_type": "markdown",
   "id": "41f643d6",
   "metadata": {},
   "source": [
    "### 1. What is the result of the code, and explain?\n",
    "\n",
    "#### &gt;&gt;&gt; X = &#39;iNeuron&#39;\n",
    "#### &gt;&gt;&gt; def func():\n",
    "#### print(X)\n",
    "\n",
    "#### &gt;&gt;&gt; func()"
   ]
  },
  {
   "cell_type": "code",
   "execution_count": 1,
   "id": "828afc92",
   "metadata": {},
   "outputs": [
    {
     "name": "stdout",
     "output_type": "stream",
     "text": [
      "iNeuron\n"
     ]
    }
   ],
   "source": [
    "X = 'iNeuron'\n",
    "\n",
    "def func():\n",
    "    print(X)\n",
    "\n",
    "func()\n"
   ]
  },
  {
   "cell_type": "markdown",
   "id": "8bcfa69e",
   "metadata": {},
   "source": [
    "The variable X is assigned the value 'iNeuron'.\n",
    "\n",
    "\n",
    "The func() function is defined, which contains a single line of code that prints the value of the global variable X.\n",
    "\n",
    "\n",
    "The func() function is called with func().\n",
    "\n",
    "\n",
    "Since the function func() does not have any local variable named X, it looks for the variable X in its enclosing scope, which is the global scope.\n",
    "\n",
    "\n",
    "The global variable X has the value 'iNeuron', so it is printed to the console."
   ]
  },
  {
   "cell_type": "markdown",
   "id": "1e7d4a51",
   "metadata": {},
   "source": [
    "### 2. What is the result of the code, and explain?\n",
    "\n",
    "#### &gt;&gt;&gt; X = &#39;iNeuron&#39;\n",
    "#### &gt;&gt;&gt; def func():\n",
    "#### X = &#39;NI!&#39;\n",
    "\n",
    "#### &gt;&gt;&gt; func()\n",
    "#### &gt;&gt;&gt; print(X)"
   ]
  },
  {
   "cell_type": "code",
   "execution_count": 2,
   "id": "5bbd6881",
   "metadata": {},
   "outputs": [
    {
     "name": "stdout",
     "output_type": "stream",
     "text": [
      "iNeuron\n"
     ]
    }
   ],
   "source": [
    "X = 'iNeuron'\n",
    "\n",
    "def func():\n",
    "    X = 'NI!'\n",
    "\n",
    "func()\n",
    "\n",
    "print(X)\n"
   ]
  },
  {
   "cell_type": "markdown",
   "id": "2a63eb70",
   "metadata": {},
   "source": [
    "The variable X is assigned the value 'iNeuron'.\n",
    "\n",
    "\n",
    "The func() function is defined, which contains a local variable X assigned the value 'NI!'. This local variable X shadows the global variable X within the function's scope.\n",
    "\n",
    "\n",
    "The func() function is called with func(). However, since the function does not have a return statement or any other code that affects the global variable X, calling the function does not modify the global X variable.\n",
    "\n",
    "\n",
    "After calling the function, the print(X) statement is executed. It prints the value of the global variable X, which is 'iNeuron', because the local variable X defined in the func() function does not affect the global X variable."
   ]
  },
  {
   "cell_type": "markdown",
   "id": "99ccfb98",
   "metadata": {},
   "source": [
    "### 3. What does this code print, and why?\n",
    "\n",
    "#### &gt;&gt;&gt; X = &#39;iNeuron&#39;\n",
    "#### &gt;&gt;&gt; def func():\n",
    "#### X = &#39;NI&#39;\n",
    "#### print(X)\n",
    "\n",
    "#### &gt;&gt;&gt; func()\n",
    "#### &gt;&gt;&gt; print(X)"
   ]
  },
  {
   "cell_type": "code",
   "execution_count": 3,
   "id": "ffa8fefe",
   "metadata": {},
   "outputs": [
    {
     "name": "stdout",
     "output_type": "stream",
     "text": [
      "NI\n",
      "iNeuron\n"
     ]
    }
   ],
   "source": [
    "X = 'iNeuron'\n",
    "\n",
    "def func():\n",
    "    X = 'NI'\n",
    "    print(X)\n",
    "\n",
    "func()\n",
    "\n",
    "print(X)\n"
   ]
  },
  {
   "cell_type": "markdown",
   "id": "52987a07",
   "metadata": {},
   "source": [
    "The variable X is assigned the value 'iNeuron'.\n",
    "\n",
    "\n",
    "The func() function is defined, which contains a local variable X assigned the value 'NI'. This local variable X shadows the global variable X within the function's scope.\n",
    "\n",
    "\n",
    "Inside the func() function, the print(X) statement is executed. It prints the value of the local variable X, which is 'NI'.\n",
    "\n",
    "\n",
    "The func() function is called with func(). It executes the code inside the function, which includes printing 'NI'.\n",
    "\n",
    "\n",
    "After calling the function, the print(X) statement is executed outside the function. It prints the value of the global variable X, which is 'iNeuron'.\n",
    "\n",
    "The local variable X defined in the func() function does not affect the global X variable."
   ]
  },
  {
   "cell_type": "markdown",
   "id": "7f834517",
   "metadata": {},
   "source": [
    "4. What output does this code produce? Why?\n",
    "\n",
    "#### &gt;&gt;&gt; X = &#39;iNeuron&#39;\n",
    "#### &gt;&gt;&gt; def func():\n",
    "#### global X\n",
    "#### X = &#39;NI&#39;\n",
    "\n",
    "#### &gt;&gt;&gt; func()\n",
    "#### &gt;&gt;&gt; print(X)"
   ]
  },
  {
   "cell_type": "markdown",
   "id": "be417c23",
   "metadata": {},
   "source": [
    "o/p = NI\n",
    "\n",
    "\n",
    "The variable X is assigned the value 'iNeuron'.\n",
    "\n",
    "\n",
    "The func() function is defined. Inside the function, the line global X is used to indicate that the variable X is a global variable.\n",
    "\n",
    "\n",
    "Within the function, the global variable X is reassigned the value 'NI'.\n",
    "\n",
    "\n",
    "The func() function is called with func(). It modifies the global variable X by assigning it the value 'NI'.\n",
    "\n",
    "\n",
    "After calling the function, the print(X) statement is executed. It prints the value of the modified global variable X, which is 'NI'."
   ]
  },
  {
   "cell_type": "markdown",
   "id": "17f7eed7",
   "metadata": {},
   "source": [
    "### 5. What about this code—what’s the output, and why?\n",
    "\n",
    "#### &gt;&gt;&gt; X = &#39;iNeuron&#39;\n",
    "#### &gt;&gt;&gt; def func():\n",
    "#### X = &#39;NI&#39;\n",
    "#### def nested():\n",
    "#### print(X)\n",
    "#### nested()\n",
    "\n",
    "#### &gt;&gt;&gt; func()\n",
    "#### &gt;&gt;&gt; X"
   ]
  },
  {
   "cell_type": "markdown",
   "id": "a1cb5107",
   "metadata": {},
   "source": [
    "o/p =iNeuron\n",
    "\n",
    "\n",
    "The func() function is defined.\n",
    "\n",
    "\n",
    "Inside the func() function, a local variable X is assigned the value 'NI'.\n",
    "\n",
    "\n",
    "Within the func() function, another function named nested() is defined.\n",
    "\n",
    "\n",
    "Inside the nested() function, the nonlocal keyword is used to indicate that X refers to the nearest enclosing scope, which is the func() function. \n",
    "\n",
    "This allows the nested() function to modify the X variable from the func() function.\n",
    "\n",
    "\n",
    "Inside the nested() function, the value of X is reassigned to 'Spam'.\n",
    "\n",
    "\n",
    "After defining the nested() function, the nested() function is called with nested(). It modifies the value of X to 'Spam'.\n",
    "\n",
    "\n",
    "After the nested() function call, the execution returns to the func() function.\n",
    "\n",
    "\n",
    "Finally, the print(X) statement is executed, which prints the value of X. Since the nested() function modified the value of X to 'Spam', it is printed."
   ]
  },
  {
   "cell_type": "markdown",
   "id": "81e983cf",
   "metadata": {},
   "source": [
    "### 6. How about this code: what is its output in Python 3, and explain?\n",
    "\n",
    "#### &gt;&gt;&gt; def func():\n",
    "#### X = &#39;NI&#39;\n",
    "#### def nested():\n",
    "#### nonlocal X\n",
    "#### X = &#39;Spam&#39;\n",
    "#### nested()\n",
    "#### print(X)\n",
    "\n",
    "#### &gt;&gt;&gt; func()"
   ]
  },
  {
   "cell_type": "code",
   "execution_count": 5,
   "id": "58d97c77",
   "metadata": {},
   "outputs": [
    {
     "name": "stdout",
     "output_type": "stream",
     "text": [
      "Spam\n"
     ]
    }
   ],
   "source": [
    "def func():\n",
    "    X = 'NI'\n",
    "    def nested():\n",
    "        nonlocal X\n",
    "        X = 'Spam'\n",
    "    nested()\n",
    "    print(X)\n",
    "\n",
    "func()\n"
   ]
  },
  {
   "cell_type": "markdown",
   "id": "2681fa36",
   "metadata": {},
   "source": [
    "The func() function is defined.\n",
    "\n",
    "\n",
    "Inside the func() function, a local variable X is assigned the value 'NI'.\n",
    "\n",
    "\n",
    "Within the func() function, another function named nested() is defined.\n",
    "\n",
    "\n",
    "Inside the nested() function, the nonlocal keyword is used to indicate that X refers to the nearest enclosing scope, which is the func() function.\n",
    "\n",
    "\n",
    "This allows the nested() function to modify the X variable from the func() function.\n",
    "\n",
    "\n",
    "Inside the nested() function, the value of X is reassigned to 'Spam'.\n",
    "\n",
    "\n",
    "After defining the nested() function, the nested() function is called with nested(). It modifies the value of X to 'Spam'.\n",
    "\n",
    "\n",
    "After the nested() function call, the execution returns to the func() function.\n",
    "\n",
    "\n",
    "Finally, the print(X) statement is executed, which prints the value of X. Since the nested() function modified the value of X to 'Spam', it is printed."
   ]
  }
 ],
 "metadata": {
  "kernelspec": {
   "display_name": "Python 3 (ipykernel)",
   "language": "python",
   "name": "python3"
  },
  "language_info": {
   "codemirror_mode": {
    "name": "ipython",
    "version": 3
   },
   "file_extension": ".py",
   "mimetype": "text/x-python",
   "name": "python",
   "nbconvert_exporter": "python",
   "pygments_lexer": "ipython3",
   "version": "3.9.13"
  }
 },
 "nbformat": 4,
 "nbformat_minor": 5
}

{
 "cells": [
  {
   "cell_type": "markdown",
   "id": "fad21b72",
   "metadata": {},
   "source": [
    "## Python Assignment 6"
   ]
  },
  {
   "cell_type": "markdown",
   "id": "8330fe2c",
   "metadata": {},
   "source": [
    "### 1. What are escape characters, and how do you use them?"
   ]
  },
  {
   "cell_type": "markdown",
   "id": "1b57138a",
   "metadata": {},
   "source": [
    "Escape characters are special characters used in strings to represent certain formatting or control characters that cannot be typed directly.\n",
    "\n",
    "They are preceded by a backslash (\\) to indicate that the following character has a special meaning.\n",
    "\n",
    "\\': Represents a single quote character. Example: 'That\\'s great!'\n",
    "\n",
    "\\\": Represents a double quote character. Example: \"She said, \\\"Hello!\\\"\"\n",
    "\n",
    "\\\\: Represents a backslash character. Example: \"C:\\\\path\\\\to\\\\file\"\n",
    "\n",
    "\\n: Represents a newline character. It inserts a line break in the string. Example: \"Hello\\nWorld\"\n",
    "\n",
    "\\t: Represents a tab character. It inserts a horizontal tab in the string. Example: \"Name:\\tJohn\"\n",
    "\n",
    "\\r: Represents a carriage return character. It returns the cursor to the beginning of the line. It is commonly used in combination with \\n to represent line breaks. Example: \"Hello\\rWorld\"\n",
    "\n",
    "\\b: Represents a backspace character. It moves the cursor back one position. Example: \"Hello\\bWorld\""
   ]
  },
  {
   "cell_type": "markdown",
   "id": "44f49dad",
   "metadata": {},
   "source": [
    "### 2. What do the escape characters n and t stand for?"
   ]
  },
  {
   "cell_type": "markdown",
   "id": "4f9d6887",
   "metadata": {},
   "source": [
    "\\n: Represents a newline character. It inserts a line break in the string. Example: \"Hello\\nWorld\"\n",
    "\n",
    "\\t: Represents a tab character. It inserts a horizontal tab in the string. Example: \"Name:\\tJohn\""
   ]
  },
  {
   "cell_type": "markdown",
   "id": "124435b3",
   "metadata": {},
   "source": [
    "### 3. What is the way to include backslash characters in a string?"
   ]
  },
  {
   "cell_type": "code",
   "execution_count": 1,
   "id": "92ddde6d",
   "metadata": {},
   "outputs": [
    {
     "name": "stdout",
     "output_type": "stream",
     "text": [
      "This is a backslash: \\\n"
     ]
    }
   ],
   "source": [
    "my_string = \"This is a backslash: \\\\\"\n",
    "print(my_string)\n"
   ]
  },
  {
   "cell_type": "code",
   "execution_count": 2,
   "id": "4bef0f15",
   "metadata": {},
   "outputs": [],
   "source": [
    "#In the above code, the string \"This is a backslash: \\\\\" contains two backslashes. \n",
    "#The first backslash is the escape character, \n",
    "#and the second backslash is the actual backslash character that we want to include in the string. When the string is printed, it displays a single backslash."
   ]
  },
  {
   "cell_type": "markdown",
   "id": "a8b0c09d",
   "metadata": {},
   "source": [
    "### 4. The string \"Howls Moving Castle\" is a correct value. Why isnt the single quote character in the word Howls not escaped a problem?"
   ]
  },
  {
   "cell_type": "code",
   "execution_count": 3,
   "id": "eb2d45c6",
   "metadata": {},
   "outputs": [
    {
     "name": "stdout",
     "output_type": "stream",
     "text": [
      "Howl's Moving Castle\n"
     ]
    }
   ],
   "source": [
    "my_string = 'Howl\\'s Moving Castle'\n",
    "print(my_string)\n"
   ]
  },
  {
   "cell_type": "markdown",
   "id": "00749178",
   "metadata": {},
   "source": [
    "The word \"Howl's\" is not escaped. It is treated as a regular character within the string, and Python recognizes that the string is enclosed by single quotes.\n",
    "\n",
    "In Python, we can choose to use either single quotes or double quotes to define string literals, as long as the opening and closing quotes match"
   ]
  },
  {
   "cell_type": "markdown",
   "id": "4691823c",
   "metadata": {},
   "source": [
    "### 5. How do you write a string of newlines if you don&#39;t want to use the n character?"
   ]
  },
  {
   "cell_type": "code",
   "execution_count": 4,
   "id": "f327abe0",
   "metadata": {},
   "outputs": [
    {
     "name": "stdout",
     "output_type": "stream",
     "text": [
      "Line 1\n",
      "Line 2\n",
      "Line 3\n"
     ]
    }
   ],
   "source": [
    "my_string = \"\"\"Line 1\n",
    "Line 2\n",
    "Line 3\"\"\"\n",
    "print(my_string)\n"
   ]
  },
  {
   "cell_type": "markdown",
   "id": "5d21dde2",
   "metadata": {},
   "source": [
    "If you want to write a string that includes multiple newlines without using the \\n character directly, you can use triple quotes (\"\"\" or ''') to define a multiline string."
   ]
  },
  {
   "cell_type": "markdown",
   "id": "171f47a2",
   "metadata": {},
   "source": [
    "### 6. What are the values of the given expressions?\n",
    "Hello, world!'[1]\n",
    "Hello, world!'[0:5]\n",
    "Hello, world!'[:5]\n",
    "Hello, world!'[3:]"
   ]
  },
  {
   "cell_type": "code",
   "execution_count": null,
   "id": "2c90be36",
   "metadata": {},
   "outputs": [],
   "source": [
    "'Hello, world!'[1] evaluates to 'e'.\n",
    "\n",
    "'Hello, world!'[0:5] evaluates to 'Hello'.\n",
    "\n",
    "'Hello, world!'[:5] evaluates to 'Hello'.\n",
    "\n",
    "'Hello, world!'[3:] evaluates to 'lo, world!'."
   ]
  },
  {
   "cell_type": "markdown",
   "id": "6f87b770",
   "metadata": {},
   "source": [
    "### 7. What are the values of the following expressions?\n",
    "'Hello'.upper()\n",
    "'Hello'.upper().isupper()\n",
    "'Hello'.upper().lower()"
   ]
  },
  {
   "cell_type": "code",
   "execution_count": null,
   "id": "0cbbae04",
   "metadata": {},
   "outputs": [],
   "source": [
    "'Hello'.upper() evaluates to 'HELLO'.\n",
    "\n",
    "'Hello'.upper().isupper() evaluates to True.\n",
    "\n",
    "'Hello'.upper().lower() evaluates to 'hello'."
   ]
  },
  {
   "cell_type": "markdown",
   "id": "19ed2d7b",
   "metadata": {},
   "source": [
    "### 8. What are the values of the following expressions?\n",
    "Remember, remember, the fifth of July.'.split()\n",
    "'-'.join(There can only one..split())"
   ]
  },
  {
   "cell_type": "code",
   "execution_count": null,
   "id": "f10975da",
   "metadata": {},
   "outputs": [],
   "source": [
    "1.'Remember, remember, the fifth of July.'.split() \n",
    "\n",
    "== evaluates to ['Remember,', 'remember,', 'the', 'fifth', 'of', 'July.'].\n",
    "\n",
    "\n",
    "2.'-'.join('There can only one.'.split()) \n",
    "\n",
    "==evaluates to 'There-can-only-one.'."
   ]
  },
  {
   "cell_type": "markdown",
   "id": "00c633eb",
   "metadata": {},
   "source": [
    "### 9. What are the methods for right-justifying, left-justifying, and centering a string?"
   ]
  },
  {
   "cell_type": "markdown",
   "id": "9a3a0d1e",
   "metadata": {},
   "source": [
    "Right-justifying: To right-justify a string, you can use the str.rjust() method. This method takes two arguments: the desired width of the resulting string and an optional fill character. It returns a new string with the original string right-justified within the specified width by adding the fill character on the left if needed. "
   ]
  },
  {
   "cell_type": "code",
   "execution_count": 5,
   "id": "1791d62f",
   "metadata": {},
   "outputs": [
    {
     "name": "stdout",
     "output_type": "stream",
     "text": [
      "     Hello\n"
     ]
    }
   ],
   "source": [
    "text = 'Hello'\n",
    "justified_text = text.rjust(10)\n",
    "print(justified_text)\n"
   ]
  },
  {
   "cell_type": "markdown",
   "id": "c46cbea3",
   "metadata": {},
   "source": [
    "Left-justifying: To left-justify a string, you can use the str.ljust() method. Similar to rjust(), it takes the width and an optional fill character. It returns a new string with the original string left-justified within the specified width by adding the fill character on the right if necessary. "
   ]
  },
  {
   "cell_type": "code",
   "execution_count": 6,
   "id": "98ef12c8",
   "metadata": {},
   "outputs": [
    {
     "name": "stdout",
     "output_type": "stream",
     "text": [
      "Hello     \n"
     ]
    }
   ],
   "source": [
    "text = 'Hello'\n",
    "justified_text = text.ljust(10)\n",
    "print(justified_text)\n"
   ]
  },
  {
   "cell_type": "markdown",
   "id": "97c8ba55",
   "metadata": {},
   "source": [
    "Centering: To center a string, you can use the str.center() method. Like the previous methods, it requires the width and an optional fill character. It returns a new string with the original string centered within the specified width, with the fill character added on both sides if required. "
   ]
  },
  {
   "cell_type": "code",
   "execution_count": 7,
   "id": "76f4a279",
   "metadata": {},
   "outputs": [
    {
     "name": "stdout",
     "output_type": "stream",
     "text": [
      "  Hello   \n"
     ]
    }
   ],
   "source": [
    "text = 'Hello'\n",
    "centered_text = text.center(10)\n",
    "print(centered_text)\n"
   ]
  },
  {
   "cell_type": "markdown",
   "id": "291fba83",
   "metadata": {},
   "source": [
    "### 10. What is the best way to remove whitespace characters from the start or end?"
   ]
  },
  {
   "cell_type": "code",
   "execution_count": 8,
   "id": "a1c22e7c",
   "metadata": {},
   "outputs": [],
   "source": [
    "#use the str.strip() method to remove whitespace characters from both the start and end of a string."
   ]
  },
  {
   "cell_type": "code",
   "execution_count": 9,
   "id": "a8a72f84",
   "metadata": {},
   "outputs": [
    {
     "name": "stdout",
     "output_type": "stream",
     "text": [
      "Hello, World!\n"
     ]
    }
   ],
   "source": [
    "text = \"   Hello, World!   \"\n",
    "trimmed_text = text.strip()\n",
    "print(trimmed_text)\n"
   ]
  },
  {
   "cell_type": "markdown",
   "id": "7bcfded2",
   "metadata": {},
   "source": [
    "The strip() method is called on the string text. It removes the leading and trailing whitespace characters "
   ]
  },
  {
   "cell_type": "code",
   "execution_count": 10,
   "id": "afb55567",
   "metadata": {},
   "outputs": [],
   "source": [
    "#want to remove only leading whitespace characters, you can use the str.lstrip() method."
   ]
  },
  {
   "cell_type": "code",
   "execution_count": 11,
   "id": "8f4ac972",
   "metadata": {},
   "outputs": [
    {
     "name": "stdout",
     "output_type": "stream",
     "text": [
      "Hello, World!   \n",
      "   Hello, World!\n"
     ]
    }
   ],
   "source": [
    "text = \"   Hello, World!   \"\n",
    "left_trimmed_text = text.lstrip()\n",
    "right_trimmed_text = text.rstrip()\n",
    "print(left_trimmed_text)\n",
    "print(right_trimmed_text)\n"
   ]
  },
  {
   "cell_type": "markdown",
   "id": "913c21e8",
   "metadata": {},
   "source": [
    "The lstrip() method removes leading whitespace characters, and the rstrip() method removes trailing whitespace characters from the string, respectively."
   ]
  },
  {
   "cell_type": "markdown",
   "id": "759a0365",
   "metadata": {},
   "source": [
    "Choose the appropriate method (strip(), lstrip(), or rstrip()) based on whether you want to remove whitespace characters from both ends, only the left end, or only the right end of the string."
   ]
  }
 ],
 "metadata": {
  "kernelspec": {
   "display_name": "Python 3 (ipykernel)",
   "language": "python",
   "name": "python3"
  },
  "language_info": {
   "codemirror_mode": {
    "name": "ipython",
    "version": 3
   },
   "file_extension": ".py",
   "mimetype": "text/x-python",
   "name": "python",
   "nbconvert_exporter": "python",
   "pygments_lexer": "ipython3",
   "version": "3.9.13"
  }
 },
 "nbformat": 4,
 "nbformat_minor": 5
}

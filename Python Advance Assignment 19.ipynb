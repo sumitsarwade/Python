{
 "cells": [
  {
   "cell_type": "markdown",
   "id": "a0f72648",
   "metadata": {},
   "source": [
    "## Python Advance Assignment 19"
   ]
  },
  {
   "cell_type": "markdown",
   "id": "0e218713",
   "metadata": {},
   "source": [
    "#### Q1. Define the relationship between a class and its instances. Is it a one-to-one or a one-to-many partnership, for example?"
   ]
  },
  {
   "cell_type": "markdown",
   "id": "081dcff0",
   "metadata": {},
   "source": [
    "The relationship between a class and its instances is a one-to-many partnership. A class is a blueprint or template that defines the structure, behavior, and attributes that instances will have. It serves as a generalized representation of a concept or entity. Instances, also known as objects, are specific realizations or instantiations of the class. You can create multiple instances of a class, each with its own unique state and data. Each instance has the same structure and behavior defined by the class but can hold different values for its attributes. Therefore, the relationship between a class and its instances is a one-to-many relationship, where one class can have multiple instances associated with it."
   ]
  },
  {
   "cell_type": "markdown",
   "id": "40f1dc97",
   "metadata": {},
   "source": [
    "#### Q2. What kind of data is held only in an instance?"
   ]
  },
  {
   "cell_type": "markdown",
   "id": "46fa83d6",
   "metadata": {},
   "source": [
    "Instances hold data specific to themselves through instance variables. These variables store the state or attributes of an individual instance. Each instance can have different values assigned to its instance variables, allowing them to hold unique data separate from other instances of the same class."
   ]
  },
  {
   "cell_type": "markdown",
   "id": "d3b9bead",
   "metadata": {},
   "source": [
    "#### Q3. What kind of knowledge is stored in a class?"
   ]
  },
  {
   "cell_type": "markdown",
   "id": "5271db9e",
   "metadata": {},
   "source": [
    "A class stores knowledge in the form of class variables and methods. Class variables are shared among all instances of the class and hold data that is common to all instances. They are defined at the class level and are accessible by all instances. Methods, on the other hand, define the behaviors and actions that instances of the class can perform. They encapsulate the logic and operations related to the class and can access both class variables and instance variables"
   ]
  },
  {
   "cell_type": "markdown",
   "id": "0092d064",
   "metadata": {},
   "source": [
    "#### Q4. What exactly is a method, and how is it different from a regular function?"
   ]
  },
  {
   "cell_type": "markdown",
   "id": "fa3aa85d",
   "metadata": {},
   "source": [
    "A method is a function that is defined within a class and operates on instances of that class. It is associated with a specific class and can access the class's data and perform operations related to the class. Methods are invoked on instances of the class and can modify the instance's state or perform actions specific to that instance. Unlike regular functions, which are standalone and can be called independently, methods are tied to a class and are called on instances of that class using dot notation (instance.method()). Methods have access to the instance itself through the \"self\" parameter, which allows them to interact with instance variables and perform actions based on the specific instance's state."
   ]
  },
  {
   "cell_type": "markdown",
   "id": "24872a0c",
   "metadata": {},
   "source": [
    "#### Q5. Is inheritance supported in Python, and if so, what is the syntax?"
   ]
  },
  {
   "cell_type": "markdown",
   "id": "d3d785c4",
   "metadata": {},
   "source": [
    "Yes, inheritance is supported in Python."
   ]
  },
  {
   "cell_type": "raw",
   "id": "86d9680c",
   "metadata": {},
   "source": [
    "class ChildClass(ParentClass):\n",
    "    # Class definition\n",
    "The ChildClass is the class that is inheriting from the ParentClass. By inheriting from a parent class, the child class inherits all the attributes and methods defined in the parent class and can also add its own unique attributes and methods."
   ]
  },
  {
   "cell_type": "markdown",
   "id": "5ef6927a",
   "metadata": {},
   "source": [
    "#### Q6. How much encapsulation (making instance or class variables private) does Python support?"
   ]
  },
  {
   "cell_type": "markdown",
   "id": "6b1ed660",
   "metadata": {},
   "source": [
    "Python supports a certain level of encapsulation by using naming conventions and access modifiers. By convention, variables and methods that are intended to be treated as private are prefixed with a single underscore _. This indicates that they are intended for internal use within the class or module and should not be accessed directly from outside."
   ]
  },
  {
   "cell_type": "markdown",
   "id": "4d166469",
   "metadata": {},
   "source": [
    "Python does not have strict access modifiers like public, protected, and private as in some other languages. However, it provides a form of name mangling for variables and methods prefixed with double underscores __. This makes the variable or method name unique within the class to avoid accidental name clashes in subclasses. Although it is not true encapsulation, it provides a level of privacy by making the name more difficult to access"
   ]
  },
  {
   "cell_type": "markdown",
   "id": "dad13412",
   "metadata": {},
   "source": [
    "#### Q7. How do you distinguish between a class variable and an instance variable?"
   ]
  },
  {
   "cell_type": "markdown",
   "id": "ebb019d0",
   "metadata": {},
   "source": [
    "In Python, class variables and instance variables can be distinguished based on their scope and accessibility.\n",
    "\n",
    "\n",
    "\n",
    "Scope: Class variables are defined at the class level and are accessible to all instances of the class as well as the class itself. Instance variables, on the other hand, are specific to each instance of the class and are not shared among different instances.\n",
    "\n",
    "\n",
    "Accessibility: Class variables can be accessed using the class name or any instance of the class. They are shared across all instances, so modifying the class variable through one instance will reflect the change in all other instances as well as the class itself. Instance variables, however, are accessed using the specific instance of the class (usually through the self keyword within instance methods). Each instance has its own copy of instance variables, so modifying an instance variable will only affect that particular instance."
   ]
  },
  {
   "cell_type": "code",
   "execution_count": 3,
   "id": "039fac81",
   "metadata": {},
   "outputs": [
    {
     "name": "stdout",
     "output_type": "stream",
     "text": [
      "0\n",
      "0\n",
      "0\n",
      "10\n",
      "10\n",
      "5\n",
      "0\n"
     ]
    }
   ],
   "source": [
    "class MyClass:\n",
    "    class_var = 0  # class variable\n",
    "\n",
    "    def __init__(self):\n",
    "        self.instance_var = 0  # instance variable\n",
    "\n",
    "obj1 = MyClass()\n",
    "obj2 = MyClass()\n",
    "\n",
    "# Accessing class variable\n",
    "print(MyClass.class_var)  \n",
    "print(obj1.class_var)  \n",
    "print(obj2.class_var) \n",
    "\n",
    "# Modifying class variable\n",
    "MyClass.class_var = 10\n",
    "print(obj1.class_var)  \n",
    "print(obj2.class_var)  \n",
    "\n",
    "# Modifying instance variable\n",
    "obj1.instance_var = 5\n",
    "print(obj1.instance_var)  \n",
    "print(obj2.instance_var)  "
   ]
  },
  {
   "cell_type": "markdown",
   "id": "31c3595f",
   "metadata": {},
   "source": [
    "#### Q8. When, if ever, can self be included in a class&#39;s method definitions?"
   ]
  },
  {
   "cell_type": "markdown",
   "id": "856d4493",
   "metadata": {},
   "source": [
    "In Python, the self parameter is included in a class's method definitions to represent the instance of the class itself. It is a convention to name the first parameter of instance methods as self, although you can use any valid variable name.\n",
    "\n",
    "\n",
    "The self parameter allows the instance methods to access and manipulate the instance's attributes and other methods. It acts as a reference to the instance calling the method, allowing the method to work with the specific instance's data.\n",
    "\n",
    "\n",
    "The self parameter is included in all instance methods by convention. However, it is important to note that when calling an instance method on an instance, you do not need to explicitly pass an argument for self. Python automatically binds the instance to the self parameter behind the scenes."
   ]
  },
  {
   "cell_type": "code",
   "execution_count": 4,
   "id": "3e31a7f7",
   "metadata": {},
   "outputs": [
    {
     "name": "stdout",
     "output_type": "stream",
     "text": [
      "10\n",
      "20\n"
     ]
    }
   ],
   "source": [
    "class MyClass:\n",
    "    def __init__(self, value):\n",
    "        self.value = value\n",
    "\n",
    "    def print_value(self):\n",
    "        print(self.value)\n",
    "\n",
    "    def set_value(self, new_value):\n",
    "        self.value = new_value\n",
    "\n",
    "obj = MyClass(10)\n",
    "obj.print_value()  \n",
    "\n",
    "obj.set_value(20)\n",
    "obj.print_value()  "
   ]
  },
  {
   "cell_type": "markdown",
   "id": "b4ce1e69",
   "metadata": {},
   "source": [
    "#### Q9. What is the difference between the _ _add_ _ and the _ _radd_ _ methods?"
   ]
  },
  {
   "cell_type": "markdown",
   "id": "7a0e044e",
   "metadata": {},
   "source": [
    "In Python, the __add__ and __radd__ methods are special methods that define the behavior of the addition operator (+) when applied to objects of a class.\n",
    "\n",
    "\n",
    "The __add__ method is used to define the addition operation when the object is on the left side of the + operator. "
   ]
  },
  {
   "cell_type": "code",
   "execution_count": 5,
   "id": "eaa2a038",
   "metadata": {},
   "outputs": [
    {
     "name": "stdout",
     "output_type": "stream",
     "text": [
      "15\n"
     ]
    }
   ],
   "source": [
    "class MyClass:\n",
    "    def __init__(self, value):\n",
    "        self.value = value\n",
    "\n",
    "    def __add__(self, other):\n",
    "        return self.value + other\n",
    "\n",
    "obj = MyClass(10)\n",
    "result = obj + 5  # Calls obj.__add__(5)\n",
    "print(result)  "
   ]
  },
  {
   "cell_type": "markdown",
   "id": "2aa6e252",
   "metadata": {},
   "source": [
    "On the other hand, the __radd__ method is used to define the addition operation when the object is on the right side of the + operator. It takes another object as the parameter and returns the result of the addition. If the right-hand object does not support the addition operation with the object, the __radd__ method is not called. "
   ]
  },
  {
   "cell_type": "code",
   "execution_count": 6,
   "id": "14593abe",
   "metadata": {},
   "outputs": [
    {
     "name": "stdout",
     "output_type": "stream",
     "text": [
      "15\n"
     ]
    }
   ],
   "source": [
    "class MyClass:\n",
    "    def __init__(self, value):\n",
    "        self.value = value\n",
    "\n",
    "    def __radd__(self, other):\n",
    "        return other + self.value\n",
    "\n",
    "obj = MyClass(10)\n",
    "result = 5 + obj  # Calls obj.__radd__(5)\n",
    "print(result) "
   ]
  },
  {
   "cell_type": "markdown",
   "id": "5b5a6058",
   "metadata": {},
   "source": [
    "#### Q10. When is it necessary to use a reflection method? When do you not need it, even though you support the operation in question?"
   ]
  },
  {
   "cell_type": "markdown",
   "id": "d76c7051",
   "metadata": {},
   "source": [
    "In Python, reflection refers to the ability of an object to examine and modify its own structure and behavior at runtime. Reflection methods, such as getattr(), setattr(), and hasattr(), allow you to dynamically access and manipulate attributes and methods of an object.\n",
    "\n",
    "\n",
    "Reflection methods are necessary when you want to programmatically access or modify object attributes or methods based on their names, which are known only at runtime. For example, if you have a string representing the name of an attribute, you can use getattr() to retrieve the value of that attribute from an object dynamically.\n",
    "\n",
    "\n",
    "Reflection methods are commonly used in scenarios where you need to implement dynamic behaviors, such as dynamically configuring objects or invoking methods based on user inputs or configuration files."
   ]
  },
  {
   "cell_type": "markdown",
   "id": "78c197b6",
   "metadata": {},
   "source": [
    "However, there are cases where you may not need reflection methods, even if you support the operation in question. If you have direct access to the attribute or method you want to access or modify, known at compile-time, you can directly use it without the need for reflection. Reflection methods can introduce additional complexity and may have performance implications, so if you have a simpler and more straightforward approach to achieve the desired behavior, it is preferable to use it instead of reflection.\n",
    "\n",
    "\n",
    "In summary, reflection methods are necessary when you need to dynamically access or modify object attributes or methods based on runtime information. However, if you have direct access to the desired attributes or methods known at compile-time, reflection may not be needed and can be avoided for simplicity and performance reasons."
   ]
  },
  {
   "cell_type": "markdown",
   "id": "f02665ed",
   "metadata": {},
   "source": [
    "#### Q11. What is the _ _iadd_ _ method called?"
   ]
  },
  {
   "cell_type": "markdown",
   "id": "5eaf4f53",
   "metadata": {},
   "source": [
    "The _iadd_ method is called the \"in-place addition\" method. It is a special method in Python that defines the behavior of the += operator when applied to objects of a class.\n",
    "\n",
    "\n",
    "The _iadd_ method allows an object to define its own custom behavior for the in-place addition operation. When the += operator is used on an object, if the object implements the _iadd_ method, it will be called to perform the addition in place."
   ]
  },
  {
   "cell_type": "code",
   "execution_count": 7,
   "id": "6f93fed1",
   "metadata": {},
   "outputs": [
    {
     "name": "stdout",
     "output_type": "stream",
     "text": [
      "8\n"
     ]
    }
   ],
   "source": [
    "class MyClass:\n",
    "    def __init__(self, value):\n",
    "        self.value = value\n",
    "\n",
    "    def __iadd__(self, other):\n",
    "        self.value += other\n",
    "        return self\n",
    "\n",
    "obj = MyClass(5)\n",
    "obj += 3\n",
    "print(obj.value) "
   ]
  },
  {
   "cell_type": "markdown",
   "id": "26b3c50a",
   "metadata": {},
   "source": [
    "#### Q12. Is the _ _init_ _ method inherited by subclasses? What do you do if you need to customize its behavior within a subclass?"
   ]
  },
  {
   "cell_type": "markdown",
   "id": "d695f559",
   "metadata": {},
   "source": [
    "Yes, the __init__ method is inherited by subclasses in Python. When a subclass is created, it can choose to override the __init__ method to customize its behavior.\n",
    "\n",
    "\n",
    "If you need to customize the behavior of the __init__ method within a subclass, you can define a new __init__ method in the subclass. By doing so, you override the __init__ method inherited from the superclass, allowing you to provide a specialized initialization process for the subclass."
   ]
  },
  {
   "cell_type": "code",
   "execution_count": 8,
   "id": "c9506fd9",
   "metadata": {},
   "outputs": [
    {
     "name": "stdout",
     "output_type": "stream",
     "text": [
      "Value: 10\n",
      "Value: 20\n",
      "Extra: Extra Value\n"
     ]
    }
   ],
   "source": [
    "class ParentClass:\n",
    "    def __init__(self, value):\n",
    "        self.value = value\n",
    "\n",
    "    def display(self):\n",
    "        print(\"Value:\", self.value)\n",
    "\n",
    "class ChildClass(ParentClass):\n",
    "    def __init__(self, value, extra):\n",
    "        super().__init__(value)\n",
    "        self.extra = extra\n",
    "\n",
    "    def display(self):\n",
    "        super().display()\n",
    "        print(\"Extra:\", self.extra)\n",
    "\n",
    "parent = ParentClass(10)\n",
    "parent.display()\n",
    "\n",
    "child = ChildClass(20, \"Extra Value\")\n",
    "child.display()\n"
   ]
  }
 ],
 "metadata": {
  "kernelspec": {
   "display_name": "Python 3 (ipykernel)",
   "language": "python",
   "name": "python3"
  },
  "language_info": {
   "codemirror_mode": {
    "name": "ipython",
    "version": 3
   },
   "file_extension": ".py",
   "mimetype": "text/x-python",
   "name": "python",
   "nbconvert_exporter": "python",
   "pygments_lexer": "ipython3",
   "version": "3.9.13"
  },
  "widgets": {
   "application/vnd.jupyter.widget-state+json": {
    "state": {},
    "version_major": 2,
    "version_minor": 0
   }
  }
 },
 "nbformat": 4,
 "nbformat_minor": 5
}
